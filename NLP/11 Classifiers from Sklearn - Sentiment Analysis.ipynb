{
  "nbformat": 4,
  "nbformat_minor": 0,
  "metadata": {
    "kernelspec": {
      "display_name": "Python 3",
      "language": "python",
      "name": "python3"
    },
    "language_info": {
      "codemirror_mode": {
        "name": "ipython",
        "version": 3
      },
      "file_extension": ".py",
      "mimetype": "text/x-python",
      "name": "python",
      "nbconvert_exporter": "python",
      "pygments_lexer": "ipython3",
      "version": "3.7.3"
    },
    "colab": {
      "provenance": [],
      "collapsed_sections": []
    }
  },
  "cells": [
    {
      "cell_type": "code",
      "metadata": {
        "id": "lNt7SLUCG2XW",
        "outputId": "cbb0adb0-4f1b-45d7-a3bf-8c60bb7d38ed",
        "colab": {
          "base_uri": "https://localhost:8080/",
          "height": 677
        }
      },
      "source": [
        "import pandas as pd\n",
        "import matplotlib.pyplot as plt\n",
        "from sklearn.model_selection import train_test_split\n",
        "\n",
        "# Load the dataset\n",
        "data = pd.read_csv('/content/sample_data/opinion_dataset.csv')\n",
        "data.head(n=20)"
      ],
      "execution_count": null,
      "outputs": [
        {
          "output_type": "execute_result",
          "data": {
            "text/html": [
              "\n",
              "  <div id=\"df-094632ab-3d8f-4bde-aadd-2d141dc2173c\">\n",
              "    <div class=\"colab-df-container\">\n",
              "      <div>\n",
              "<style scoped>\n",
              "    .dataframe tbody tr th:only-of-type {\n",
              "        vertical-align: middle;\n",
              "    }\n",
              "\n",
              "    .dataframe tbody tr th {\n",
              "        vertical-align: top;\n",
              "    }\n",
              "\n",
              "    .dataframe thead th {\n",
              "        text-align: right;\n",
              "    }\n",
              "</style>\n",
              "<table border=\"1\" class=\"dataframe\">\n",
              "  <thead>\n",
              "    <tr style=\"text-align: right;\">\n",
              "      <th></th>\n",
              "      <th>Opinions</th>\n",
              "      <th>Sentiment</th>\n",
              "    </tr>\n",
              "  </thead>\n",
              "  <tbody>\n",
              "    <tr>\n",
              "      <th>0</th>\n",
              "      <td>Personal sms</td>\n",
              "      <td>Positive</td>\n",
              "    </tr>\n",
              "    <tr>\n",
              "      <th>1</th>\n",
              "      <td>Banners at high density population locations l...</td>\n",
              "      <td>Positive</td>\n",
              "    </tr>\n",
              "    <tr>\n",
              "      <th>2</th>\n",
              "      <td>Opportunity to receive bonuses</td>\n",
              "      <td>Positive</td>\n",
              "    </tr>\n",
              "    <tr>\n",
              "      <th>3</th>\n",
              "      <td>Street advertising boards</td>\n",
              "      <td>Positive</td>\n",
              "    </tr>\n",
              "    <tr>\n",
              "      <th>4</th>\n",
              "      <td>Black happines</td>\n",
              "      <td>Negative</td>\n",
              "    </tr>\n",
              "    <tr>\n",
              "      <th>5</th>\n",
              "      <td>Monthly promotional schemes for specific products</td>\n",
              "      <td>Positive</td>\n",
              "    </tr>\n",
              "    <tr>\n",
              "      <th>6</th>\n",
              "      <td>Pamplets delivered to each apartments nearby.</td>\n",
              "      <td>Positive</td>\n",
              "    </tr>\n",
              "    <tr>\n",
              "      <th>7</th>\n",
              "      <td>Entrance of the shopping malls seem to display...</td>\n",
              "      <td>Positive</td>\n",
              "    </tr>\n",
              "    <tr>\n",
              "      <th>8</th>\n",
              "      <td>A small stall in the vicinity of the store adv...</td>\n",
              "      <td>Positive</td>\n",
              "    </tr>\n",
              "    <tr>\n",
              "      <th>9</th>\n",
              "      <td>Colourful pamphlets</td>\n",
              "      <td>Positive</td>\n",
              "    </tr>\n",
              "    <tr>\n",
              "      <th>10</th>\n",
              "      <td>On Air like FM</td>\n",
              "      <td>Positive</td>\n",
              "    </tr>\n",
              "    <tr>\n",
              "      <th>11</th>\n",
              "      <td>None</td>\n",
              "      <td>Negative</td>\n",
              "    </tr>\n",
              "    <tr>\n",
              "      <th>12</th>\n",
              "      <td>Pamphlets</td>\n",
              "      <td>Positive</td>\n",
              "    </tr>\n",
              "    <tr>\n",
              "      <th>13</th>\n",
              "      <td>No clue.</td>\n",
              "      <td>Negative</td>\n",
              "    </tr>\n",
              "    <tr>\n",
              "      <th>14</th>\n",
              "      <td>Offers must be realistic rather then fake 80-9...</td>\n",
              "      <td>Positive</td>\n",
              "    </tr>\n",
              "    <tr>\n",
              "      <th>15</th>\n",
              "      <td>Not happy</td>\n",
              "      <td>Negative</td>\n",
              "    </tr>\n",
              "    <tr>\n",
              "      <th>16</th>\n",
              "      <td>none</td>\n",
              "      <td>Negative</td>\n",
              "    </tr>\n",
              "    <tr>\n",
              "      <th>17</th>\n",
              "      <td>Discount everyday</td>\n",
              "      <td>Positive</td>\n",
              "    </tr>\n",
              "    <tr>\n",
              "      <th>18</th>\n",
              "      <td>Mega sales</td>\n",
              "      <td>Positive</td>\n",
              "    </tr>\n",
              "    <tr>\n",
              "      <th>19</th>\n",
              "      <td>free delivery to doorstep if buy more than RM50</td>\n",
              "      <td>Positive</td>\n",
              "    </tr>\n",
              "  </tbody>\n",
              "</table>\n",
              "</div>\n",
              "      <button class=\"colab-df-convert\" onclick=\"convertToInteractive('df-094632ab-3d8f-4bde-aadd-2d141dc2173c')\"\n",
              "              title=\"Convert this dataframe to an interactive table.\"\n",
              "              style=\"display:none;\">\n",
              "        \n",
              "  <svg xmlns=\"http://www.w3.org/2000/svg\" height=\"24px\"viewBox=\"0 0 24 24\"\n",
              "       width=\"24px\">\n",
              "    <path d=\"M0 0h24v24H0V0z\" fill=\"none\"/>\n",
              "    <path d=\"M18.56 5.44l.94 2.06.94-2.06 2.06-.94-2.06-.94-.94-2.06-.94 2.06-2.06.94zm-11 1L8.5 8.5l.94-2.06 2.06-.94-2.06-.94L8.5 2.5l-.94 2.06-2.06.94zm10 10l.94 2.06.94-2.06 2.06-.94-2.06-.94-.94-2.06-.94 2.06-2.06.94z\"/><path d=\"M17.41 7.96l-1.37-1.37c-.4-.4-.92-.59-1.43-.59-.52 0-1.04.2-1.43.59L10.3 9.45l-7.72 7.72c-.78.78-.78 2.05 0 2.83L4 21.41c.39.39.9.59 1.41.59.51 0 1.02-.2 1.41-.59l7.78-7.78 2.81-2.81c.8-.78.8-2.07 0-2.86zM5.41 20L4 18.59l7.72-7.72 1.47 1.35L5.41 20z\"/>\n",
              "  </svg>\n",
              "      </button>\n",
              "      \n",
              "  <style>\n",
              "    .colab-df-container {\n",
              "      display:flex;\n",
              "      flex-wrap:wrap;\n",
              "      gap: 12px;\n",
              "    }\n",
              "\n",
              "    .colab-df-convert {\n",
              "      background-color: #E8F0FE;\n",
              "      border: none;\n",
              "      border-radius: 50%;\n",
              "      cursor: pointer;\n",
              "      display: none;\n",
              "      fill: #1967D2;\n",
              "      height: 32px;\n",
              "      padding: 0 0 0 0;\n",
              "      width: 32px;\n",
              "    }\n",
              "\n",
              "    .colab-df-convert:hover {\n",
              "      background-color: #E2EBFA;\n",
              "      box-shadow: 0px 1px 2px rgba(60, 64, 67, 0.3), 0px 1px 3px 1px rgba(60, 64, 67, 0.15);\n",
              "      fill: #174EA6;\n",
              "    }\n",
              "\n",
              "    [theme=dark] .colab-df-convert {\n",
              "      background-color: #3B4455;\n",
              "      fill: #D2E3FC;\n",
              "    }\n",
              "\n",
              "    [theme=dark] .colab-df-convert:hover {\n",
              "      background-color: #434B5C;\n",
              "      box-shadow: 0px 1px 3px 1px rgba(0, 0, 0, 0.15);\n",
              "      filter: drop-shadow(0px 1px 2px rgba(0, 0, 0, 0.3));\n",
              "      fill: #FFFFFF;\n",
              "    }\n",
              "  </style>\n",
              "\n",
              "      <script>\n",
              "        const buttonEl =\n",
              "          document.querySelector('#df-094632ab-3d8f-4bde-aadd-2d141dc2173c button.colab-df-convert');\n",
              "        buttonEl.style.display =\n",
              "          google.colab.kernel.accessAllowed ? 'block' : 'none';\n",
              "\n",
              "        async function convertToInteractive(key) {\n",
              "          const element = document.querySelector('#df-094632ab-3d8f-4bde-aadd-2d141dc2173c');\n",
              "          const dataTable =\n",
              "            await google.colab.kernel.invokeFunction('convertToInteractive',\n",
              "                                                     [key], {});\n",
              "          if (!dataTable) return;\n",
              "\n",
              "          const docLinkHtml = 'Like what you see? Visit the ' +\n",
              "            '<a target=\"_blank\" href=https://colab.research.google.com/notebooks/data_table.ipynb>data table notebook</a>'\n",
              "            + ' to learn more about interactive tables.';\n",
              "          element.innerHTML = '';\n",
              "          dataTable['output_type'] = 'display_data';\n",
              "          await google.colab.output.renderOutput(dataTable, element);\n",
              "          const docLink = document.createElement('div');\n",
              "          docLink.innerHTML = docLinkHtml;\n",
              "          element.appendChild(docLink);\n",
              "        }\n",
              "      </script>\n",
              "    </div>\n",
              "  </div>\n",
              "  "
            ],
            "text/plain": [
              "                                             Opinions Sentiment\n",
              "0                                        Personal sms  Positive\n",
              "1   Banners at high density population locations l...  Positive\n",
              "2                      Opportunity to receive bonuses  Positive\n",
              "3                           Street advertising boards  Positive\n",
              "4                                     Black happines   Negative\n",
              "5   Monthly promotional schemes for specific products  Positive\n",
              "6     Pamplets delivered to each apartments nearby.    Positive\n",
              "7   Entrance of the shopping malls seem to display...  Positive\n",
              "8   A small stall in the vicinity of the store adv...  Positive\n",
              "9                                 Colourful pamphlets  Positive\n",
              "10                                     On Air like FM  Positive\n",
              "11                                              None   Negative\n",
              "12                                          Pamphlets  Positive\n",
              "13                                           No clue.  Negative\n",
              "14  Offers must be realistic rather then fake 80-9...  Positive\n",
              "15                                          Not happy  Negative\n",
              "16                                               none  Negative\n",
              "17                                  Discount everyday  Positive\n",
              "18                                        Mega sales   Positive\n",
              "19    free delivery to doorstep if buy more than RM50  Positive"
            ]
          },
          "metadata": {},
          "execution_count": 2
        }
      ]
    },
    {
      "cell_type": "code",
      "source": [
        "data['Sentiment'].value_counts()"
      ],
      "metadata": {
        "colab": {
          "base_uri": "https://localhost:8080/"
        },
        "id": "f8I5_xXmshLD",
        "outputId": "717b60af-4f30-46ae-cb12-daa99f0cd0f6"
      },
      "execution_count": null,
      "outputs": [
        {
          "output_type": "execute_result",
          "data": {
            "text/plain": [
              "Positive    87\n",
              "Negative    13\n",
              "Name: Sentiment, dtype: int64"
            ]
          },
          "metadata": {},
          "execution_count": 3
        }
      ]
    },
    {
      "cell_type": "code",
      "metadata": {
        "id": "pp7cpAgTG2Xx",
        "outputId": "d864410c-5a84-471f-c1ab-6e60bd6a0925"
      },
      "source": [
        "# Target variable visualisation\n",
        "Sentiment_count=data.groupby('Sentiment').count()\n",
        "plt.bar(Sentiment_count.index.values, Sentiment_count['Opinions'], color=('r','g'))\n",
        "plt.xlabel('Review Sentiments')\n",
        "plt.ylabel('Number of Review')\n",
        "plt.show()\n",
        "\n",
        "X = data['Opinions'].values\n",
        "X\n",
        "y = data['Sentiment'].values\n",
        "y"
      ],
      "execution_count": null,
      "outputs": [
        {
          "data": {
            "image/png": "[encoded data removed]",
            "text/plain": [
              "<Figure size 432x288 with 1 Axes>"
            ]
          },
          "metadata": {
            "needs_background": "light"
          },
          "output_type": "display_data"
        },
        {
          "data": {
            "text/plain": [
              "array(['Positive', 'Positive', 'Positive', 'Positive', 'Negative',\n",
              "       'Positive', 'Positive', 'Positive', 'Positive', 'Positive',\n",
              "       'Positive', 'Negative', 'Positive', 'Negative', 'Positive',\n",
              "       'Negative', 'Negative', 'Positive', 'Positive', 'Positive',\n",
              "       'Positive', 'Positive', 'Positive', 'Positive', 'Positive',\n",
              "       'Positive', 'Positive', 'Positive', 'Positive', 'Positive',\n",
              "       'Positive', 'Positive', 'Positive', 'Negative', 'Positive',\n",
              "       'Positive', 'Positive', 'Positive', 'Positive', 'Positive',\n",
              "       'Positive', 'Positive', 'Positive', 'Positive', 'Positive',\n",
              "       'Positive', 'Positive', 'Positive', 'Positive', 'Positive',\n",
              "       'Positive', 'Positive', 'Positive', 'Positive', 'Positive',\n",
              "       'Positive', 'Positive', 'Positive', 'Positive', 'Negative',\n",
              "       'Positive', 'Negative', 'Positive', 'Positive', 'Positive',\n",
              "       'Negative', 'Positive', 'Negative', 'Negative', 'Positive',\n",
              "       'Negative', 'Positive', 'Positive', 'Positive', 'Positive',\n",
              "       'Positive', 'Positive', 'Positive', 'Positive', 'Positive',\n",
              "       'Positive', 'Positive', 'Positive', 'Negative', 'Positive',\n",
              "       'Positive', 'Positive', 'Positive', 'Positive', 'Positive',\n",
              "       'Positive', 'Positive', 'Positive', 'Positive', 'Positive',\n",
              "       'Positive', 'Positive', 'Positive', 'Positive', 'Positive'],\n",
              "      dtype=object)"
            ]
          },
          "execution_count": 2,
          "metadata": {},
          "output_type": "execute_result"
        }
      ]
    },
    {
      "cell_type": "code",
      "metadata": {
        "id": "nWotsGVLG2X1"
      },
      "source": [
        "# Count Vectorization\n",
        "from sklearn.feature_extraction.text import CountVectorizer\n",
        "from nltk.tokenize import RegexpTokenizer\n",
        "# tokenizer to remove unwanted elements from out data like symbols and numbers\n",
        "token = RegexpTokenizer(r'[a-zA-Z0-9]+')\n",
        "cv = CountVectorizer(lowercase=True, stop_words='english', ngram_range = (1,1), tokenizer = token.tokenize)\n",
        "text_counts = cv.fit_transform(data['Opinions']) # on the IV"
      ],
      "execution_count": null,
      "outputs": []
    },
    {
      "cell_type": "code",
      "metadata": {
        "id": "5oRbKlf0G2X4"
      },
      "source": [
        "# Data split\n",
        "X_train, X_test, y_train, y_test = train_test_split(\n",
        "    text_counts, data['Sentiment'], test_size = 0.3, random_state = 1)"
      ],
      "execution_count": null,
      "outputs": []
    },
    {
      "cell_type": "code",
      "metadata": {
        "id": "Q8VBHbaxG2X5",
        "outputId": "fee7ac2b-6867-42e3-c1ed-5477184ec5a9",
        "colab": {
          "base_uri": "https://localhost:8080/"
        }
      },
      "source": [
        "# MultinomialNB fomr Sklearn\n",
        "from sklearn.naive_bayes import MultinomialNB # Default will be SMOOTHED model ==> alpha = 1 (Laplace or add 1 smoothing)\n",
        "from sklearn import metrics\n",
        "MNB_classifier = MultinomialNB().fit(X_train, y_train) # MODEL BUILDING\n",
        "predicted_MNB = MNB_classifier.predict(X_test) # Prediction\n",
        "print(\"Accuracy of MNB Classifier:\", metrics.accuracy_score(y_test, predicted_MNB))\n",
        "print(\"Classification Report:\\n\", metrics.classification_report(y_test, predicted_MNB))"
      ],
      "execution_count": null,
      "outputs": [
        {
          "output_type": "stream",
          "name": "stdout",
          "text": [
            "Accuracy of MNB Classifier: 0.9\n",
            "Classification Report:\n",
            "               precision    recall  f1-score   support\n",
            "\n",
            "    Negative       0.00      0.00      0.00         2\n",
            "    Positive       0.93      0.96      0.95        28\n",
            "\n",
            "    accuracy                           0.90        30\n",
            "   macro avg       0.47      0.48      0.47        30\n",
            "weighted avg       0.87      0.90      0.88        30\n",
            "\n"
          ]
        }
      ]
    },
    {
      "cell_type": "code",
      "metadata": {
        "id": "SRwV23M6G2X6",
        "outputId": "4441959d-5623-4f71-95ff-acfc336917f2"
      },
      "source": [
        "# Logistic Regression form Sklearn\n",
        "from sklearn.linear_model import LogisticRegression\n",
        "LR_classifier = LogisticRegression().fit(X_train, y_train)\n",
        "predicted_LR= LR_classifier.predict(X_test)\n",
        "print(\"Accuracy of LR Classifier:\", metrics.accuracy_score(y_test, predicted_LR))\n",
        "print(\"Classification Report:\\n\", metrics.classification_report(y_test, predicted_LR))"
      ],
      "execution_count": null,
      "outputs": [
        {
          "name": "stdout",
          "output_type": "stream",
          "text": [
            "Accuracy of LR Classifier: 0.9333333333333333\n",
            "Classification Report:\n",
            "               precision    recall  f1-score   support\n",
            "\n",
            "    Negative       0.00      0.00      0.00         2\n",
            "    Positive       0.93      1.00      0.97        28\n",
            "\n",
            "    accuracy                           0.93        30\n",
            "   macro avg       0.47      0.50      0.48        30\n",
            "weighted avg       0.87      0.93      0.90        30\n",
            "\n"
          ]
        },
        {
          "name": "stderr",
          "output_type": "stream",
          "text": [
            "C:\\Users\\raheem\\AppData\\Local\\Continuum\\anaconda3\\lib\\site-packages\\sklearn\\metrics\\_classification.py:1272: UndefinedMetricWarning: Precision and F-score are ill-defined and being set to 0.0 in labels with no predicted samples. Use `zero_division` parameter to control this behavior.\n",
            "  _warn_prf(average, modifier, msg_start, len(result))\n"
          ]
        }
      ]
    },
    {
      "cell_type": "code",
      "metadata": {
        "id": "N08yh8x6G2X8",
        "outputId": "bc55b98b-e5b6-4a6a-bb9e-5996d765b8c2"
      },
      "source": [
        "# SGD Classifier form Sklearn\n",
        "from sklearn.linear_model import SGDClassifier\n",
        "SGD_classifier = SGDClassifier().fit(X_train, y_train)\n",
        "predicted_SGD= SGD_classifier.predict(X_test)\n",
        "print(\"Accuracy of SGD Classifier:\", metrics.accuracy_score(y_test, predicted_SGD))\n",
        "print(\"Classification Report:\\n\", metrics.classification_report(y_test, predicted_SGD))"
      ],
      "execution_count": null,
      "outputs": [
        {
          "name": "stdout",
          "output_type": "stream",
          "text": [
            "Accuracy of SGD Classifier: 0.6666666666666666\n",
            "Classification Report:\n",
            "               precision    recall  f1-score   support\n",
            "\n",
            "    Negative       0.17      1.00      0.29         2\n",
            "    Positive       1.00      0.64      0.78        28\n",
            "\n",
            "    accuracy                           0.67        30\n",
            "   macro avg       0.58      0.82      0.53        30\n",
            "weighted avg       0.94      0.67      0.75        30\n",
            "\n"
          ]
        }
      ]
    },
    {
      "cell_type": "code",
      "metadata": {
        "id": "eV_WmgkNG2X-",
        "outputId": "e5c39783-b2ff-4ba0-98a6-a13f4e5eaa29"
      },
      "source": [
        "# SVC Classifier from Sklearn\n",
        "from sklearn.svm import SVC\n",
        "SVC_classifier = SVC().fit(X_train, y_train)\n",
        "predicted_SVC= SVC_classifier.predict(X_test)\n",
        "print(\"Accuracy of SVC Classifier:\", metrics.accuracy_score(y_test, predicted_SVC))\n",
        "print(\"Classification Report:\\n\", metrics.classification_report(y_test, predicted_SVC))"
      ],
      "execution_count": null,
      "outputs": [
        {
          "name": "stdout",
          "output_type": "stream",
          "text": [
            "Accuracy of SVC Classifier: 0.9333333333333333\n",
            "Classification Report:\n",
            "               precision    recall  f1-score   support\n",
            "\n",
            "    Negative       0.00      0.00      0.00         2\n",
            "    Positive       0.93      1.00      0.97        28\n",
            "\n",
            "    accuracy                           0.93        30\n",
            "   macro avg       0.47      0.50      0.48        30\n",
            "weighted avg       0.87      0.93      0.90        30\n",
            "\n"
          ]
        }
      ]
    },
    {
      "cell_type": "code",
      "metadata": {
        "id": "4p_0fBzDG2X_",
        "outputId": "e6a93c1f-4185-4c8c-9a28-7541989f8989"
      },
      "source": [
        "# LinearSVC Classifier from Sklearn\n",
        "from sklearn.svm import LinearSVC\n",
        "LSVC_classifier = LinearSVC().fit(X_train, y_train)\n",
        "predicted_LSVC= LSVC_classifier.predict(X_test)\n",
        "print(\"Accuracy of LinearSVC Classifier:\", metrics.accuracy_score(y_test, predicted_LSVC))\n",
        "print(\"Classification Report:\\n\", metrics.classification_report(y_test, predicted_LSVC))"
      ],
      "execution_count": null,
      "outputs": [
        {
          "name": "stdout",
          "output_type": "stream",
          "text": [
            "Accuracy of LinearSVC Classifier: 0.9333333333333333\n",
            "Classification Report:\n",
            "               precision    recall  f1-score   support\n",
            "\n",
            "    Negative       0.00      0.00      0.00         2\n",
            "    Positive       0.93      1.00      0.97        28\n",
            "\n",
            "    accuracy                           0.93        30\n",
            "   macro avg       0.47      0.50      0.48        30\n",
            "weighted avg       0.87      0.93      0.90        30\n",
            "\n"
          ]
        }
      ]
    },
    {
      "cell_type": "code",
      "metadata": {
        "id": "v4E1wiDEG2YB",
        "outputId": "4ae94a7a-1bb3-4332-b5cb-6b9c46eaa9c2"
      },
      "source": [
        "# Decsion Tree Classifier from Sklearn\n",
        "from sklearn.tree import DecisionTreeClassifier\n",
        "DT_classifier = DecisionTreeClassifier().fit(X_train, y_train)\n",
        "predicted_DT= DT_classifier.predict(X_test)\n",
        "print(\"Accuracy of DT Classifier:\", metrics.accuracy_score(y_test, predicted_DT))\n",
        "print(\"Classification Report:\\n\", metrics.classification_report(y_test, predicted_DT))"
      ],
      "execution_count": null,
      "outputs": [
        {
          "name": "stdout",
          "output_type": "stream",
          "text": [
            "Accuracy of DT Classifier: 0.5666666666666667\n",
            "Classification Report:\n",
            "               precision    recall  f1-score   support\n",
            "\n",
            "    Negative       0.13      1.00      0.24         2\n",
            "    Positive       1.00      0.54      0.70        28\n",
            "\n",
            "    accuracy                           0.57        30\n",
            "   macro avg       0.57      0.77      0.47        30\n",
            "weighted avg       0.94      0.57      0.67        30\n",
            "\n"
          ]
        }
      ]
    },
    {
      "cell_type": "code",
      "metadata": {
        "id": "Mjcm-2AHG2YD",
        "outputId": "db5039ac-9c66-497d-da9c-304d287049ca",
        "colab": {
          "base_uri": "https://localhost:8080/"
        }
      },
      "source": [
        "# Random Forest Classifier from Sklearn\n",
        "from sklearn.ensemble import RandomForestClassifier\n",
        "RF_classifier = RandomForestClassifier().fit(X_train, y_train)\n",
        "predicted_RF = RF_classifier.predict(X_test)\n",
        "print(\"Accuracy of RF Classifier:\", metrics.accuracy_score(y_test, predicted_RF))\n",
        "print(\"Classification Report:\\n\", metrics.classification_report(y_test, predicted_RF))"
      ],
      "execution_count": null,
      "outputs": [
        {
          "output_type": "stream",
          "name": "stdout",
          "text": [
            "Accuracy of RF Classifier: 0.5666666666666667\n",
            "Classification Report:\n",
            "               precision    recall  f1-score   support\n",
            "\n",
            "    Negative       0.13      1.00      0.24         2\n",
            "    Positive       1.00      0.54      0.70        28\n",
            "\n",
            "    accuracy                           0.57        30\n",
            "   macro avg       0.57      0.77      0.47        30\n",
            "weighted avg       0.94      0.57      0.67        30\n",
            "\n"
          ]
        }
      ]
    },
    {
      "cell_type": "code",
      "metadata": {
        "id": "YAjCfXOmG2YF",
        "outputId": "eafec426-6fb1-46bc-b82c-1c6b571fd287"
      },
      "source": [
        "# AdaBoost Classifier from Sklearn\n",
        "from sklearn.ensemble import AdaBoostClassifier\n",
        "ADB_classifier = AdaBoostClassifier().fit(X_train, y_train)\n",
        "predicted_ADB = ADB_classifier.predict(X_test)\n",
        "print(\"Accuracy of ADB Classifier:\", metrics.accuracy_score(y_test, predicted_ADB))\n",
        "print(\"Classification Report:\\n\", metrics.classification_report(y_test, predicted_ADB))"
      ],
      "execution_count": null,
      "outputs": [
        {
          "name": "stdout",
          "output_type": "stream",
          "text": [
            "Accuracy of ADB Classifier: 0.6\n",
            "Classification Report:\n",
            "               precision    recall  f1-score   support\n",
            "\n",
            "    Negative       0.14      1.00      0.25         2\n",
            "    Positive       1.00      0.57      0.73        28\n",
            "\n",
            "    accuracy                           0.60        30\n",
            "   macro avg       0.57      0.79      0.49        30\n",
            "weighted avg       0.94      0.60      0.70        30\n",
            "\n"
          ]
        }
      ]
    },
    {
      "cell_type": "code",
      "metadata": {
        "id": "VHR2ZcHrG2YG",
        "outputId": "14dd00a3-1c99-4f10-987a-3cf5f35872a0"
      },
      "source": [
        "# KNN Classifier from Sklearn\n",
        "from sklearn.neighbors import KNeighborsClassifier\n",
        "KNN_classifier = KNeighborsClassifier().fit(X_train, y_train)\n",
        "predicted_KNN = KNN_classifier.predict(X_test)\n",
        "print(\"Accuracy of KNN Classifier:\", metrics.accuracy_score(y_test, predicted_KNN))\n",
        "print(\"Classification Report:\\n\", metrics.classification_report(y_test, predicted_KNN))"
      ],
      "execution_count": null,
      "outputs": [
        {
          "name": "stdout",
          "output_type": "stream",
          "text": [
            "Accuracy of KNN Classifier: 0.2\n",
            "Classification Report:\n",
            "               precision    recall  f1-score   support\n",
            "\n",
            "    Negative       0.08      1.00      0.14         2\n",
            "    Positive       1.00      0.14      0.25        28\n",
            "\n",
            "    accuracy                           0.20        30\n",
            "   macro avg       0.54      0.57      0.20        30\n",
            "weighted avg       0.94      0.20      0.24        30\n",
            "\n"
          ]
        }
      ]
    },
    {
      "cell_type": "code",
      "metadata": {
        "id": "LgVizohlG2YH",
        "outputId": "134883de-cb70-416c-a2a7-bd6657402fa0"
      },
      "source": [
        "# Multi Layer Perceptron Classifier from Sklearn\n",
        "from sklearn.neural_network import MLPClassifier\n",
        "MLP_classifier = MLPClassifier(max_iter=1000).fit(X_train, y_train)\n",
        "predicted_MLP = MLP_classifier.predict(X_test)\n",
        "print(\"Accuracy of MLP Classifier:\", metrics.accuracy_score(y_test, predicted_MLP))\n",
        "print(\"Classification Report:\\n\", metrics.classification_report(y_test, predicted_MLP))"
      ],
      "execution_count": null,
      "outputs": [
        {
          "name": "stdout",
          "output_type": "stream",
          "text": [
            "Accuracy of MLP Classifier: 0.7\n",
            "Classification Report:\n",
            "               precision    recall  f1-score   support\n",
            "\n",
            "    Negative       0.18      1.00      0.31         2\n",
            "    Positive       1.00      0.68      0.81        28\n",
            "\n",
            "    accuracy                           0.70        30\n",
            "   macro avg       0.59      0.84      0.56        30\n",
            "weighted avg       0.95      0.70      0.78        30\n",
            "\n"
          ]
        }
      ]
    },
    {
      "cell_type": "code",
      "metadata": {
        "id": "EfgnNtyPG2YI",
        "outputId": "881ea6b0-cd0f-4d14-b4ab-ddc1699ae5d4"
      },
      "source": [
        "# Confusion Matrix for MLP\n",
        "from sklearn.metrics import confusion_matrix\n",
        "CM_MLP = confusion_matrix(y_test, predicted_MLP)\n",
        "CM_MLP"
      ],
      "execution_count": null,
      "outputs": [
        {
          "data": {
            "text/plain": [
              "array([[ 2,  0],\n",
              "       [ 9, 19]], dtype=int64)"
            ]
          },
          "execution_count": 15,
          "metadata": {},
          "output_type": "execute_result"
        }
      ]
    },
    {
      "cell_type": "code",
      "metadata": {
        "id": "7Ks3eJpbG2YI",
        "outputId": "70eb32a8-962d-4b06-f88a-8902745bba11"
      },
      "source": [
        "# ~~~~~~~~~~~~~~~~~~~~~~~ Model Comparison ~~~~~~~~~~~~~~~~~~~~~~~~~~~~~~~~~~\n",
        "print(\"~~~~~~~~~~~~~~ Accuracies of the Classifiers ~~~~~~~~~~~~~~~~~~~~~~~~~\")\n",
        "print(\"\\nAccuracy of MNB Classifier:\", metrics.accuracy_score(y_test, predicted_MNB))\n",
        "print(\"\\nAccuracy of LR Classifier:\", metrics.accuracy_score(y_test, predicted_LR))\n",
        "print(\"\\nAccuracy of SGD Classifier:\", metrics.accuracy_score(y_test, predicted_SGD))\n",
        "print(\"\\nAccuracy of SVC Classifier:\", metrics.accuracy_score(y_test, predicted_SVC))\n",
        "print(\"\\nAccuracy of LinearSVC Classifier:\", metrics.accuracy_score(y_test, predicted_LSVC))\n",
        "print(\"\\nAccuracy of DT Classifier:\", metrics.accuracy_score(y_test, predicted_DT))\n",
        "print(\"\\nAccuracy of RF Classifier:\", metrics.accuracy_score(y_test, predicted_RF))\n",
        "print(\"\\nAccuracy of ADB Classifier:\", metrics.accuracy_score(y_test, predicted_ADB))\n",
        "print(\"\\nAccuracy of KNN Classifier:\", metrics.accuracy_score(y_test, predicted_KNN))\n",
        "print(\"\\nAccuracy of MLP Classifier:\", metrics.accuracy_score(y_test, predicted_MLP))"
      ],
      "execution_count": null,
      "outputs": [
        {
          "name": "stdout",
          "output_type": "stream",
          "text": [
            "~~~~~~~~~~~~~~ Accuracies of the Classifiers ~~~~~~~~~~~~~~~~~~~~~~~~~\n",
            "\n",
            "Accuracy of MNB Classifier: 0.9\n",
            "\n",
            "Accuracy of LR Classifier: 0.9333333333333333\n",
            "\n",
            "Accuracy of SGD Classifier: 0.6666666666666666\n",
            "\n",
            "Accuracy of SVC Classifier: 0.9333333333333333\n",
            "\n",
            "Accuracy of LinearSVC Classifier: 0.9333333333333333\n",
            "\n",
            "Accuracy of DT Classifier: 0.5666666666666667\n",
            "\n",
            "Accuracy of RF Classifier: 0.5666666666666667\n",
            "\n",
            "Accuracy of ADB Classifier: 0.6\n",
            "\n",
            "Accuracy of KNN Classifier: 0.2\n",
            "\n",
            "Accuracy of MLP Classifier: 0.7\n"
          ]
        }
      ]
    },
    {
      "cell_type": "code",
      "metadata": {
        "id": "JtkfjSo1G2YJ",
        "outputId": "92d86377-619d-4c82-e45e-0a812c1ac5bb"
      },
      "source": [
        "# Save and Load the classifier\n",
        "import pickle\n",
        "print(\" \\n~~~~~~~~~ Save and Load the classifier  ~~~~~~~~~ \")\n",
        "saved_model = pickle.dumps(SVC_classifier) \n",
        "SVC_from_pickle = pickle.loads(saved_model) \n",
        "SVC_from_pickle.predict(X_test) "
      ],
      "execution_count": null,
      "outputs": [
        {
          "name": "stdout",
          "output_type": "stream",
          "text": [
            " \n",
            "~~~~~~~~~ Save and Load the classifier  ~~~~~~~~~ \n"
          ]
        },
        {
          "data": {
            "text/plain": [
              "array(['Positive', 'Positive', 'Positive', 'Positive', 'Positive',\n",
              "       'Positive', 'Positive', 'Positive', 'Positive', 'Positive',\n",
              "       'Positive', 'Positive', 'Positive', 'Positive', 'Positive',\n",
              "       'Positive', 'Positive', 'Positive', 'Positive', 'Positive',\n",
              "       'Positive', 'Positive', 'Positive', 'Positive', 'Positive',\n",
              "       'Positive', 'Positive', 'Positive', 'Positive', 'Positive'],\n",
              "      dtype=object)"
            ]
          },
          "execution_count": 18,
          "metadata": {},
          "output_type": "execute_result"
        }
      ]
    }
  ]
}