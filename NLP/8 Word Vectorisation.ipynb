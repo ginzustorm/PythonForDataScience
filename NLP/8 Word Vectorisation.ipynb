{
  "cells": [
    {
      "cell_type": "markdown",
      "metadata": {
        "id": "hyOTYGNnqhF2"
      },
      "source": [
        "### **Text Vectorisation**  \n",
        "\n",
        "Machine learning algorithms expect the data to be 2D array with rows as instances and columns as features. The problem with natural language is that the data is in the form of raw text, so that the text needs to be transformed into a vector.\n",
        "\n",
        "**The process of transforming text into a vector is commonly referred to as text vectorization.** \n",
        "\n",
        "Word Embeddings or Word vectorization is a methodology in NLP to map words or phrases from vocabulary to a corresponding vector of real numbers which used to find word predictions, word similarities/semantics. "
      ]
    },
    {
      "cell_type": "markdown",
      "source": [
        "**Count Vectorizerization**"
      ],
      "metadata": {
        "id": "4xTLqeL1BEwK"
      }
    },
    {
      "cell_type": "markdown",
      "source": [
        "Machines cannot understand characters and words. So when dealing with text data we need to represent it in numbers.\n",
        "\n"
      ],
      "metadata": {
        "id": "FU2m0ekXwh0v"
      }
    },
    {
      "cell_type": "code",
      "execution_count": null,
      "metadata": {
        "id": "GNUS1j2RqhGA",
        "outputId": "00046daa-afe7-419a-b3d1-fd6cf85a6479"
      },
      "outputs": [
        {
          "name": "stdout",
          "output_type": "stream",
          "text": [
            "\n",
            "Text:  ['problem of evil', 'evil queen', 'horizon problem']\n",
            "~~~~~~~~~~~~~~~~~~~~~~~~~~~~~~~~~~~~~~~~~~~~~~~~~~~~~~~~~~~ \n"
          ]
        }
      ],
      "source": [
        "sample = ['problem of evil', 'evil queen', 'horizon problem']\n",
        "print(\"\\nText: \", sample)\n",
        "print(\"~~~~~~~~~~~~~~~~~~~~~~~~~~~~~~~~~~~~~~~~~~~~~~~~~~~~~~~~~~~ \")"
      ]
    },
    {
      "cell_type": "code",
      "execution_count": null,
      "metadata": {
        "id": "fPjIlHMPqhGI",
        "outputId": "b2073464-7b64-418f-edb1-a413baca0326"
      },
      "outputs": [
        {
          "name": "stdout",
          "output_type": "stream",
          "text": [
            "\n",
            "Count Vectorizer ~~~~~~~~~~~~~~~~~~~~~~~~~~~~~~~~~~~~~~~~~~~~~~~~~~~~\n",
            "\n",
            "Vocabulary: \n",
            " {'problem': 3, 'of': 2, 'evil': 0, 'queen': 4, 'horizon': 1}\n",
            "\n",
            " [[1 0 1 1 0]\n",
            " [1 0 0 0 1]\n",
            " [0 1 0 1 0]]\n"
          ]
        }
      ],
      "source": [
        "# Count Vectorizer ~~~~~~~~~~~~~~~~~~~~~~~~~~~~~~~~~~~~~~~~~~~~~~~~~~~~~~~~~~~~\n",
        "print(\"\\nCount Vectorizer ~~~~~~~~~~~~~~~~~~~~~~~~~~~~~~~~~~~~~~~~~~~~~~~~~~~~\")\n",
        "\n",
        "from sklearn.feature_extraction.text import CountVectorizer\n",
        "count_vectorizer  = CountVectorizer()\n",
        "# count_vectorizer  = CountVectorizer(lowercase=True, stop_words='english')\n",
        "\n",
        "count_vectorizer.fit(sample)\n",
        "print('\\nVocabulary: \\n', count_vectorizer.vocabulary_)\n",
        "\n",
        "X_train_counts = count_vectorizer.fit_transform(sample).toarray()\n",
        "print(\"\\n\", X_train_counts)"
      ]
    },
    {
      "cell_type": "markdown",
      "source": [
        "**Term Frequency-Inverse Document Frequency**\n",
        "\n",
        "**TF-IDF**\n",
        "\n",
        "Text vectorization algorithm namely TF-IDF vectorizer, which is a very popular approach for traditional machine learning algorithms can help in transforming text into vectors.\n",
        "\n",
        "Term frequency-inverse document frequency is a text vectorizer that transforms the text into a usable vector. It combines 2 concepts, Term Frequency (TF) and Document Frequency (DF).\n",
        "\n",
        "The term frequency is the number of occurrences of a specific term in a document. Term frequency indicates how important a specific term in a document. \n",
        "\n",
        "Document frequency is the number of documents containing a specific term. Document frequency indicates how common the term is.\n",
        "\n",
        "Inverse document frequency (IDF) is the weight of a term, it aims to reduce the weight of a term if the term’s occurrences are scattered throughout all the documents. IDF can be calculated as follow:\n",
        "![image.png](data:image/png;base64,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)\n",
        "\n",
        "Where idfᵢ is the IDF score for term i, dfᵢ is the number of documents containing term i, and n is the total number of documents. \n",
        "\n",
        "The TF-IDF score as the name suggests is just a multiplication of the term frequency matrix with its IDF, it can be calculated as follow:\n",
        "\n",
        "![image.png](data:image/png;base64,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)\n",
        "\n",
        "Where wᵢⱼ is TF-IDF score for term i in document j, tfᵢⱼ is term frequency for term i in document j, and idfᵢ is IDF score for term i."
      ],
      "metadata": {
        "id": "gJTZSIjl_xoI"
      }
    },
    {
      "cell_type": "markdown",
      "source": [
        "**Example**\n",
        "\n",
        "Suppose we have 3 texts and we need to vectorize these texts using TF-IDF.\n",
        "\n",
        "**Step 1:**\n",
        "Create a term frequency matrix where rows are documents and columns are distinct terms throughout all documents. Count word occurrences in every text.\n",
        "\n",
        "**Step 2:**\n",
        "Compute inverse document frequency (IDF) using the previously explained formula.\n",
        "\n",
        "**Step 3:**\n",
        "Multiply TF matrix with IDF respectively"
      ],
      "metadata": {
        "id": "ugFV7Xdmvo_g"
      }
    },
    {
      "cell_type": "code",
      "execution_count": null,
      "metadata": {
        "outputId": "00046daa-afe7-419a-b3d1-fd6cf85a6479",
        "id": "sye76ddwwQms"
      },
      "outputs": [
        {
          "name": "stdout",
          "output_type": "stream",
          "text": [
            "\n",
            "Text:  ['problem of evil', 'evil queen', 'horizon problem']\n",
            "~~~~~~~~~~~~~~~~~~~~~~~~~~~~~~~~~~~~~~~~~~~~~~~~~~~~~~~~~~~ \n"
          ]
        }
      ],
      "source": [
        "sample = ['problem of evil', 'evil queen', 'horizon problem']\n",
        "print(\"\\nText: \", sample)\n",
        "print(\"~~~~~~~~~~~~~~~~~~~~~~~~~~~~~~~~~~~~~~~~~~~~~~~~~~~~~~~~~~~ \")"
      ]
    },
    {
      "cell_type": "code",
      "execution_count": null,
      "metadata": {
        "id": "sqZMH_8xqhGL",
        "outputId": "42e9bfca-0877-4687-ba9c-1a20ec68d396"
      },
      "outputs": [
        {
          "name": "stdout",
          "output_type": "stream",
          "text": [
            "\n",
            "Tfidf Vectorizer ~~~~~~~~~~~~~~~~~~~~~~~~~~~~~~~~~~~~~~~~~~~~~~~~~~~~\n",
            "\n",
            "Vocabulary: \n",
            " {'problem': 3, 'of': 2, 'evil': 0, 'queen': 4, 'horizon': 1}\n",
            "\n",
            "   (0, 3)\t0.5178561161676974\n",
            "  (0, 2)\t0.680918560398684\n",
            "  (0, 0)\t0.5178561161676974\n",
            "  (1, 0)\t0.6053485081062916\n",
            "  (1, 4)\t0.7959605415681652\n",
            "  (2, 3)\t0.6053485081062916\n",
            "  (2, 1)\t0.7959605415681652\n"
          ]
        }
      ],
      "source": [
        "# Tfidf Vectorizer ~~~~~~~~~~~~~~~~~~~~~~~~~~~~~~~~~~~~~~~~~~~~~~~~~~~~~~~~~~~~\n",
        "print(\"\\nTfidf Vectorizer ~~~~~~~~~~~~~~~~~~~~~~~~~~~~~~~~~~~~~~~~~~~~~~~~~~~~\")\n",
        "\n",
        "from sklearn.feature_extraction.text import TfidfVectorizer\n",
        "TFIDF_vectorizer = TfidfVectorizer()\n",
        "# TFIDF_vectorizer = TfidfVectorizer(lowercase=True, stop_words='english')\n",
        "\n",
        "TFIDF_vectorizer.fit(sample)\n",
        "print('\\nVocabulary: \\n', TFIDF_vectorizer.vocabulary_)\n",
        "\n",
        "X = TFIDF_vectorizer.fit_transform(sample)\n",
        "print(\"\\n\", X)"
      ]
    },
    {
      "cell_type": "markdown",
      "metadata": {
        "id": "f-CKflAyqhGP"
      },
      "source": [
        "### Online Sources\n",
        "https://datascience.stackexchange.com/questions/25581/what-is-the-difference-between-countvectorizer-token-counts-and-tfidftransformer\n",
        "https://towardsdatascience.com/natural-language-processing-count-vectorization-with-scikit-learn-e7804269bb5e"
      ]
    }
  ],
  "metadata": {
    "kernelspec": {
      "display_name": "Python 3",
      "language": "python",
      "name": "python3"
    },
    "language_info": {
      "codemirror_mode": {
        "name": "ipython",
        "version": 3
      },
      "file_extension": ".py",
      "mimetype": "text/x-python",
      "name": "python",
      "nbconvert_exporter": "python",
      "pygments_lexer": "ipython3",
      "version": "3.7.3"
    },
    "colab": {
      "provenance": [],
      "collapsed_sections": []
    }
  },
  "nbformat": 4,
  "nbformat_minor": 0
}