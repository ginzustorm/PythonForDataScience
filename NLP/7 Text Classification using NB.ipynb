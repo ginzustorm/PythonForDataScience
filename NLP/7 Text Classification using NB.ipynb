{
  "cells": [
    {
      "cell_type": "code",
      "execution_count": 1,
      "metadata": {
        "colab": {
          "base_uri": "https://localhost:8080/"
        },
        "id": "IqcLIK_NCcvI",
        "outputId": "e856a2f7-9872-4907-bc7e-6c0ed58b3316"
      },
      "outputs": [
        {
          "name": "stdout",
          "output_type": "stream",
          "text": [
            "The test document is classified as:  j\n"
          ]
        },
        {
          "name": "stderr",
          "output_type": "stream",
          "text": [
            "[nltk_data] Downloading package punkt to\n",
            "[nltk_data]     C:\\Users\\laric\\AppData\\Roaming\\nltk_data...\n",
            "[nltk_data]   Package punkt is already up-to-date!\n"
          ]
        }
      ],
      "source": [
        "import nltk\n",
        "nltk.download('punkt')\n",
        "from nltk.classify import NaiveBayesClassifier\n",
        "\n",
        "def extract_words(words):\n",
        "  return dict([(word, True) for word in words])\n",
        "\n",
        "m_data = ['TPM Tianjin TPM', 'TPM TPM Shanghai', 'TPM Macao']\n",
        "j_data = ['Chiba Kobe Kyoto TPM', 'Chiba Kobe Macao']\n",
        "\n",
        "m_feats = [(extract_words(nltk.tokenize.word_tokenize(m_data[i[0]])), 'm') for i in enumerate(m_data)]\n",
        "j_feats = [(extract_words(nltk.tokenize.word_tokenize(j_data[i[0]])), 'j') for i in enumerate(j_data)]\n",
        "\n",
        "train_data = m_feats + j_feats\n",
        "\n",
        "clf = NaiveBayesClassifier.train(train_data) # building model\n",
        "\n",
        "print('The test document is classified as: ', clf.classify(extract_words(nltk.tokenize.word_tokenize('TPM Kyoto Macao Chiba Kobe'))))"
      ]
    },
    {
      "cell_type": "markdown",
      "metadata": {
        "id": "xvo4B909pMQa"
      },
      "source": [
        "**Testing word not found situation**"
      ]
    },
    {
      "cell_type": "code",
      "execution_count": 2,
      "metadata": {
        "colab": {
          "base_uri": "https://localhost:8080/"
        },
        "id": "SMF3WH6uXjwL",
        "outputId": "6c35b1cb-7097-4fb6-c125-4d7ea9e7eef1"
      },
      "outputs": [
        {
          "name": "stdout",
          "output_type": "stream",
          "text": [
            "The test document is classified as:  m\n"
          ]
        },
        {
          "name": "stderr",
          "output_type": "stream",
          "text": [
            "[nltk_data] Downloading package punkt to\n",
            "[nltk_data]     C:\\Users\\laric\\AppData\\Roaming\\nltk_data...\n",
            "[nltk_data]   Package punkt is already up-to-date!\n"
          ]
        }
      ],
      "source": [
        "import nltk\n",
        "nltk.download('punkt')\n",
        "from nltk.classify import NaiveBayesClassifier\n",
        "\n",
        "def extract_words(words):\n",
        "  return dict([(word, True) for word in words])\n",
        "\n",
        "m_data = ['TPM Tianjin TPM', 'TPM TPM Shanghai', 'TPM Macao']\n",
        "j_data = ['Chiba Kobe Kyoto TPM', 'Chiba Kobe Macao']\n",
        "\n",
        "m_feats = [(extract_words(nltk.tokenize.word_tokenize(m_data[i[0]])), 'm') for i in enumerate(m_data)]\n",
        "j_feats = [(extract_words(nltk.tokenize.word_tokenize(j_data[i[0]])), 'j') for i in enumerate(j_data)]\n",
        "\n",
        "train_data = m_feats + j_feats\n",
        "\n",
        "clf = NaiveBayesClassifier.train(train_data)\n",
        "\n",
        "print('The test document is classified as: ', clf.classify(extract_words(nltk.tokenize.word_tokenize('Malaysia'))))"
      ]
    },
    {
      "cell_type": "code",
      "execution_count": 3,
      "metadata": {
        "colab": {
          "base_uri": "https://localhost:8080/"
        },
        "id": "B3WmgugWvZ0C",
        "outputId": "818ca776-029b-42a4-882b-2e1c9ef08b25"
      },
      "outputs": [
        {
          "name": "stdout",
          "output_type": "stream",
          "text": [
            "The test document is classified as:  j\n"
          ]
        },
        {
          "name": "stderr",
          "output_type": "stream",
          "text": [
            "[nltk_data] Downloading package punkt to\n",
            "[nltk_data]     C:\\Users\\laric\\AppData\\Roaming\\nltk_data...\n",
            "[nltk_data]   Package punkt is already up-to-date!\n"
          ]
        }
      ],
      "source": [
        "# NaiveBayesClassifier from NLTK does unsmoothing\n",
        "import nltk\n",
        "nltk.download('punkt')\n",
        "from nltk.classify import NaiveBayesClassifier\n",
        "\n",
        "def extract_words(words):\n",
        "  return dict([(word, True) for word in words])\n",
        "\n",
        "c_data = ['Chinese Beijing Chinese', 'Chinese Chinese Shanghai', 'Chinese Macao']\n",
        "j_data = ['Tokyo Japan Chinese']\n",
        "\n",
        "c_feats = [(extract_words(nltk.tokenize.word_tokenize(c_data[i[0]])), 'c') for i in enumerate(c_data)]\n",
        "j_feats = [(extract_words(nltk.tokenize.word_tokenize(j_data[i[0]])), 'j') for i in enumerate(j_data)]\n",
        "\n",
        "train_data = c_feats + j_feats\n",
        "\n",
        "clf = NaiveBayesClassifier.train(train_data) # building model\n",
        "\n",
        "print('The test document is classified as: ', clf.classify(extract_words(nltk.tokenize.word_tokenize('Chinese Chinese Chinese Tokyo Japan'))))"
      ]
    }
  ],
  "metadata": {
    "colab": {
      "collapsed_sections": [],
      "provenance": []
    },
    "kernelspec": {
      "display_name": "Python 3",
      "name": "python3"
    },
    "language_info": {
      "codemirror_mode": {
        "name": "ipython",
        "version": 3
      },
      "file_extension": ".py",
      "mimetype": "text/x-python",
      "name": "python",
      "nbconvert_exporter": "python",
      "pygments_lexer": "ipython3",
      "version": "3.12.5"
    }
  },
  "nbformat": 4,
  "nbformat_minor": 0
}
