{
  "nbformat": 4,
  "nbformat_minor": 0,
  "metadata": {
    "colab": {
      "provenance": [],
      "collapsed_sections": []
    },
    "kernelspec": {
      "name": "python3",
      "display_name": "Python 3"
    },
    "language_info": {
      "name": "python"
    }
  },
  "cells": [
    {
      "cell_type": "code",
      "metadata": {
        "id": "IqcLIK_NCcvI",
        "colab": {
          "base_uri": "https://localhost:8080/"
        },
        "outputId": "e856a2f7-9872-4907-bc7e-6c0ed58b3316"
      },
      "source": [
        "import nltk\n",
        "nltk.download('punkt')\n",
        "from nltk.classify import NaiveBayesClassifier\n",
        "\n",
        "def extract_words(words):\n",
        "  return dict([(word, True) for word in words])\n",
        "\n",
        "m_data = ['TPM Tianjin TPM', 'TPM TPM Shanghai', 'TPM Macao']\n",
        "j_data = ['Chiba Kobe Kyoto TPM', 'Chiba Kobe Macao']\n",
        "\n",
        "m_feats = [(extract_words(nltk.tokenize.word_tokenize(m_data[i[0]])), 'm') for i in enumerate(m_data)]\n",
        "j_feats = [(extract_words(nltk.tokenize.word_tokenize(j_data[i[0]])), 'j') for i in enumerate(j_data)]\n",
        "\n",
        "train_data = m_feats + j_feats\n",
        "\n",
        "clf = NaiveBayesClassifier.train(train_data) # building model\n",
        "\n",
        "print('The test document is classified as: ', clf.classify(extract_words(nltk.tokenize.word_tokenize('TPM Kyoto Macao Chiba Kobe'))))"
      ],
      "execution_count": null,
      "outputs": [
        {
          "output_type": "stream",
          "name": "stdout",
          "text": [
            "[nltk_data] Downloading package punkt to /root/nltk_data...\n",
            "[nltk_data]   Unzipping tokenizers/punkt.zip.\n",
            "The test document is classified as:  j\n"
          ]
        }
      ]
    },
    {
      "cell_type": "markdown",
      "metadata": {
        "id": "xvo4B909pMQa"
      },
      "source": [
        "**Testing word not found situation**"
      ]
    },
    {
      "cell_type": "code",
      "metadata": {
        "colab": {
          "base_uri": "https://localhost:8080/"
        },
        "id": "SMF3WH6uXjwL",
        "outputId": "6c35b1cb-7097-4fb6-c125-4d7ea9e7eef1"
      },
      "source": [
        "import nltk\n",
        "nltk.download('punkt')\n",
        "from nltk.classify import NaiveBayesClassifier\n",
        "\n",
        "def extract_words(words):\n",
        "  return dict([(word, True) for word in words])\n",
        "\n",
        "m_data = ['TPM Tianjin TPM', 'TPM TPM Shanghai', 'TPM Macao']\n",
        "j_data = ['Chiba Kobe Kyoto TPM', 'Chiba Kobe Macao']\n",
        "\n",
        "m_feats = [(extract_words(nltk.tokenize.word_tokenize(m_data[i[0]])), 'm') for i in enumerate(m_data)]\n",
        "j_feats = [(extract_words(nltk.tokenize.word_tokenize(j_data[i[0]])), 'j') for i in enumerate(j_data)]\n",
        "\n",
        "train_data = m_feats + j_feats\n",
        "\n",
        "clf = NaiveBayesClassifier.train(train_data)\n",
        "\n",
        "print('The test document is classified as: ', clf.classify(extract_words(nltk.tokenize.word_tokenize('Malaysia'))))"
      ],
      "execution_count": 2,
      "outputs": [
        {
          "output_type": "stream",
          "name": "stderr",
          "text": [
            "[nltk_data] Downloading package punkt to /root/nltk_data...\n"
          ]
        },
        {
          "output_type": "stream",
          "name": "stdout",
          "text": [
            "The test document is classified as:  m\n"
          ]
        },
        {
          "output_type": "stream",
          "name": "stderr",
          "text": [
            "[nltk_data]   Package punkt is already up-to-date!\n"
          ]
        }
      ]
    },
    {
      "cell_type": "code",
      "source": [
        "# NaiveBayesClassifier from NLTK does unsmoothing\n",
        "import nltk\n",
        "nltk.download('punkt')\n",
        "from nltk.classify import NaiveBayesClassifier\n",
        "\n",
        "def extract_words(words):\n",
        "  return dict([(word, True) for word in words])\n",
        "\n",
        "c_data = ['Chinese Beijing Chinese', 'Chinese Chinese Shanghai', 'Chinese Macao']\n",
        "j_data = ['Tokyo Japan Chinese']\n",
        "\n",
        "c_feats = [(extract_words(nltk.tokenize.word_tokenize(c_data[i[0]])), 'c') for i in enumerate(c_data)]\n",
        "j_feats = [(extract_words(nltk.tokenize.word_tokenize(j_data[i[0]])), 'j') for i in enumerate(j_data)]\n",
        "\n",
        "train_data = c_feats + j_feats\n",
        "\n",
        "clf = NaiveBayesClassifier.train(train_data) # building model\n",
        "\n",
        "print('The test document is classified as: ', clf.classify(extract_words(nltk.tokenize.word_tokenize('Chinese Chinese Chinese Tokyo Japan'))))"
      ],
      "metadata": {
        "colab": {
          "base_uri": "https://localhost:8080/"
        },
        "id": "B3WmgugWvZ0C",
        "outputId": "818ca776-029b-42a4-882b-2e1c9ef08b25"
      },
      "execution_count": 3,
      "outputs": [
        {
          "output_type": "stream",
          "name": "stdout",
          "text": [
            "The test document is classified as:  j\n"
          ]
        },
        {
          "output_type": "stream",
          "name": "stderr",
          "text": [
            "[nltk_data] Downloading package punkt to /root/nltk_data...\n",
            "[nltk_data]   Package punkt is already up-to-date!\n"
          ]
        }
      ]
    }
  ]
}