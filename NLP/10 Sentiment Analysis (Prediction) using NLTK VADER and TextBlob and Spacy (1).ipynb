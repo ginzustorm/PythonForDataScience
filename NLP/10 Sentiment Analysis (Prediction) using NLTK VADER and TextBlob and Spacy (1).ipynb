{
  "nbformat": 4,
  "nbformat_minor": 0,
  "metadata": {
    "kernelspec": {
      "display_name": "Python 3",
      "language": "python",
      "name": "python3"
    },
    "language_info": {
      "codemirror_mode": {
        "name": "ipython",
        "version": 3
      },
      "file_extension": ".py",
      "mimetype": "text/x-python",
      "name": "python",
      "nbconvert_exporter": "python",
      "pygments_lexer": "ipython3",
      "version": "3.8.8"
    },
    "colab": {
      "provenance": []
    }
  },
  "cells": [
    {
      "cell_type": "markdown",
      "metadata": {
        "id": "qhDx5JB8M9__"
      },
      "source": [
        "### Sentiment Analysis (Prediction) using NLTK.VADER"
      ]
    },
    {
      "cell_type": "code",
      "metadata": {
        "id": "7enJX_sdM-AK",
        "outputId": "b5751d4a-e94b-4b09-becb-a00465460dbc",
        "colab": {
          "base_uri": "https://localhost:8080/"
        }
      },
      "source": [
        "import nltk\n",
        "nltk.download('vader_lexicon')\n",
        "\n",
        "from nltk.sentiment.vader import SentimentIntensityAnalyzer\n",
        "sia = SentimentIntensityAnalyzer()\n",
        "\n",
        "reviews = input(\"Enter the feedback: \")\n",
        "result = sia.polarity_scores(reviews)\n",
        "\n",
        "print(\"\\n\", result)\n",
        "\n",
        "if (result['compound'] == 0):\n",
        "    print (\"\\nThe sentiment is Neutral\")\n",
        "else:\n",
        "    if (result['compound'] > 0):\n",
        "        print (\"\\nThe sentiment is Positive\")\n",
        "    else:\n",
        "        print(\"\\nThe sentiment is Negative\")"
      ],
      "execution_count": null,
      "outputs": [
        {
          "output_type": "stream",
          "name": "stderr",
          "text": [
            "[nltk_data] Downloading package vader_lexicon to /root/nltk_data...\n"
          ]
        },
        {
          "output_type": "stream",
          "name": "stdout",
          "text": [
            "Enter the feedback: This movie is bad\n",
            "\n",
            " {'neg': 0.538, 'neu': 0.462, 'pos': 0.0, 'compound': -0.5423}\n",
            "\n",
            "The sentiment is Negative\n"
          ]
        }
      ]
    },
    {
      "cell_type": "markdown",
      "source": [
        "Handling Emojis"
      ],
      "metadata": {
        "id": "adlLjhdqgs6u"
      }
    },
    {
      "cell_type": "code",
      "source": [
        "import nltk\n",
        "nltk.download('vader_lexicon')\n",
        "import emoji # !pip install emoji\n",
        "\n",
        "from nltk.sentiment.vader import SentimentIntensityAnalyzer\n",
        "sia = SentimentIntensityAnalyzer()\n",
        "review = input(\"Enter the review: \")\n",
        "r = emoji.demojize(review)\n",
        "result = sia.polarity_scores(r)\n",
        "result"
      ],
      "metadata": {
        "id": "zac_aRHdgsXI"
      },
      "execution_count": null,
      "outputs": []
    },
    {
      "cell_type": "markdown",
      "source": [
        "Perform sentiment prediction for the reviews stored in a CSV file"
      ],
      "metadata": {
        "id": "L0LPAPV_oQeh"
      }
    },
    {
      "cell_type": "code",
      "metadata": {
        "id": "SVPh_87tM-AT"
      },
      "source": [
        "# Perform sentiment prediction for the reviews stored in a CSV file ~~~~~~~~~~~ \n",
        "from nltk.sentiment.vader import SentimentIntensityAnalyzer\n",
        "sia = SentimentIntensityAnalyzer()\n",
        "import pandas as pd \n",
        "\n",
        "data = pd.read_csv(\"/content/opinion_dataset.csv\") \n",
        "print(data.head())\n",
        "print()\n",
        "\n",
        "opinions = data['Opinions']\n",
        "print(opinions.count())\n",
        "print()\n",
        "\n",
        "for line in opinions:\n",
        "    print(line)\n",
        "    sent = sia.polarity_scores(line)\n",
        "    print(\"The compound is \", sent['compound'])\n",
        "    if (sent['compound'] == 0):\n",
        "        print (\"The sentiment is Neutral\")\n",
        "    else:\n",
        "        if (sent['compound'] > 0):\n",
        "            print (\"The sentiment is Positive\")\n",
        "        else:\n",
        "            print(\"The sentiment is Negative\")\n",
        "    print()"
      ],
      "execution_count": null,
      "outputs": []
    },
    {
      "cell_type": "markdown",
      "metadata": {
        "id": "q--bVQT4M-Ah"
      },
      "source": [
        "### Sentiment Analysis (Prediction) using TextBlob"
      ]
    },
    {
      "cell_type": "code",
      "metadata": {
        "id": "9aiZwMZ2M-Ai",
        "colab": {
          "base_uri": "https://localhost:8080/"
        },
        "outputId": "fd5d2116-b41f-4153-af01-1f8a92d72a99"
      },
      "source": [
        "# Sentiment Prediction using TextBlob\n",
        "from textblob import TextBlob\n",
        "reviews = input(\"Enter the feedback: \")\n",
        "sent = TextBlob(reviews)\n",
        "print(sent.sentiment) # Overall sentiment combined with polarity & subjectivity\n",
        "print(sent.polarity)\n",
        "print(sent.subjectivity)"
      ],
      "execution_count": null,
      "outputs": [
        {
          "output_type": "stream",
          "name": "stdout",
          "text": [
            "Enter the feedback: this  is ok\n",
            "Sentiment(polarity=0.5, subjectivity=0.5)\n",
            "0.5\n",
            "0.5\n"
          ]
        }
      ]
    },
    {
      "cell_type": "code",
      "metadata": {
        "id": "mcgGk7o2M-Ak",
        "outputId": "037f7cd6-31a6-4c14-89f8-53938928e807",
        "colab": {
          "base_uri": "https://localhost:8080/"
        }
      },
      "source": [
        "# Consider every sentence in the text input ~~~~~~~~~~~~~~~~~~~~~~~~~~~~~~~~~~~\n",
        "import nltk\n",
        "nltk.download('punkt')\n",
        "\n",
        "from textblob import TextBlob\n",
        "reviews = input(\"Enter the feedback: \")\n",
        "sent = TextBlob(reviews)\n",
        "for s in sent.sentences:\n",
        "    print(s)\n",
        "    print(\"The polarity is \", s.polarity)\n",
        "    if (s.polarity == 0):\n",
        "        print (\"The sentiment is Neutral\")\n",
        "    else:\n",
        "        if (s.polarity > 0):\n",
        "            print (\"The sentiment is Positive\")\n",
        "        else:\n",
        "            print(\"The sentiment is Negative\")"
      ],
      "execution_count": null,
      "outputs": [
        {
          "output_type": "stream",
          "name": "stderr",
          "text": [
            "[nltk_data] Downloading package punkt to /root/nltk_data...\n",
            "[nltk_data]   Package punkt is already up-to-date!\n"
          ]
        },
        {
          "output_type": "stream",
          "name": "stdout",
          "text": [
            "Enter the feedback: This movie is bad\n",
            "This movie is bad\n",
            "The polarity is  -0.6999999999999998\n",
            "The sentiment is Negative\n"
          ]
        }
      ]
    },
    {
      "cell_type": "code",
      "metadata": {
        "id": "GkXFWjmyM-As",
        "outputId": "6e9588de-0b2d-43c6-b7e1-604b9cdffb7d"
      },
      "source": [
        "# Consider it as overall text input ~~~~~~~~~~~~~~~~~~~~~~~~~~~~~~~~~~~~~~~~~~~\n",
        "\n",
        "from textblob import TextBlob\n",
        "reviews = input(\"Enter the feedback: \")\n",
        "sent = TextBlob(reviews)\n",
        "print(\"The polarity is \", sent.polarity)\n",
        "if (sent.polarity == 0):\n",
        "    print (\"The sentiment is Neutral\")\n",
        "else:\n",
        "    if (sent.polarity > 0):\n",
        "        print (\"The sentiment is Positive\")\n",
        "    else:\n",
        "        print(\"The sentiment is Negative\")"
      ],
      "execution_count": null,
      "outputs": [
        {
          "name": "stdout",
          "output_type": "stream",
          "text": [
            "Enter the feedback: I am learning Python\n",
            "The polarity is  0.0\n",
            "The sentiment is Neutral\n"
          ]
        }
      ]
    },
    {
      "cell_type": "code",
      "metadata": {
        "id": "7XaGGi_IM-Au",
        "outputId": "7f64c96b-4da0-495a-826a-e3bea95112a1"
      },
      "source": [
        "# Perform sentiment prediction for the reviews stored in a CSV file ~~~~~~~~~~~ \n",
        "from textblob import TextBlob\n",
        "import pandas as pd \n",
        "data = pd.read_csv(\"D:/APU/TXSA-CT107-3-3/LAB/LAB 9/opinion_dataset.csv\") \n",
        "data.head()\n",
        "opinions = data['Opinions']\n",
        "opinions.count()\n",
        "\n",
        "for line in opinions:\n",
        "    print(line)\n",
        "    sent = TextBlob(line)\n",
        "    print(\"The polarity is \", sent.polarity)\n",
        "    if (sent.polarity == 0):\n",
        "        print (\"The sentiment is Neutral\")\n",
        "    else:\n",
        "        if (sent.polarity > 0):\n",
        "            print (\"The sentiment is Positive\")\n",
        "        else:\n",
        "            print(\"The sentiment is Negative\")\n",
        "    print()"
      ],
      "execution_count": null,
      "outputs": [
        {
          "name": "stdout",
          "output_type": "stream",
          "text": [
            "Personal sms\n",
            "The polarity is  0.0\n",
            "The sentiment is Neutral\n",
            "\n",
            "Banners at high density population locations like university / condominium\n",
            "The polarity is  0.16\n",
            "The sentiment is Positive\n",
            "\n",
            "Opportunity to receive bonuses\n",
            "The polarity is  0.0\n",
            "The sentiment is Neutral\n",
            "\n",
            "Street advertising boards\n",
            "The polarity is  0.0\n",
            "The sentiment is Neutral\n",
            "\n",
            "Black happines \n",
            "The polarity is  -0.16666666666666666\n",
            "The sentiment is Negative\n",
            "\n",
            "Monthly promotional schemes for specific products\n",
            "The polarity is  0.0\n",
            "The sentiment is Neutral\n",
            "\n",
            "Pamplets delivered to each apartments nearby.  \n",
            "The polarity is  0.0\n",
            "The sentiment is Neutral\n",
            "\n",
            "Entrance of the shopping malls seem to display less promotions, If they had a few LED Tv's displaying promotions 24/7 even when the store is closed, that would be an eye catching advertisement scenario.\n",
            "The polarity is  0.033333333333333326\n",
            "The sentiment is Positive\n",
            "\n",
            "A small stall in the vicinity of the store advertising products & promotions encouraging people to visit the store.\n",
            "The polarity is  -0.25\n",
            "The sentiment is Negative\n",
            "\n",
            "Colourful pamphlets\n",
            "The polarity is  0.0\n",
            "The sentiment is Neutral\n",
            "\n",
            "On Air like FM\n",
            "The polarity is  0.0\n",
            "The sentiment is Neutral\n",
            "\n",
            "None \n",
            "The polarity is  0.0\n",
            "The sentiment is Neutral\n",
            "\n",
            "Pamphlets\n",
            "The polarity is  0.0\n",
            "The sentiment is Neutral\n",
            "\n",
            "No clue.\n",
            "The polarity is  0.0\n",
            "The sentiment is Neutral\n",
            "\n",
            "Offers must be realistic rather then fake 80-90% drops, customers are smart to judge whether the discount offered is real or just a gimmick by first increasing then applying an offer.\n",
            "The polarity is  0.07182539682539683\n",
            "The sentiment is Positive\n",
            "\n",
            "Not happy\n",
            "The polarity is  -0.4\n",
            "The sentiment is Negative\n",
            "\n",
            "none\n",
            "The polarity is  0.0\n",
            "The sentiment is Neutral\n",
            "\n",
            "Discount everyday\n",
            "The polarity is  -0.2\n",
            "The sentiment is Negative\n",
            "\n",
            "Mega sales \n",
            "The polarity is  0.0\n",
            "The sentiment is Neutral\n",
            "\n",
            "free delivery to doorstep if buy more than RM50\n",
            "The polarity is  0.45\n",
            "The sentiment is Positive\n",
            "\n",
            "Negotiable price if customers buy more of a particular product\n",
            "The polarity is  0.3333333333333333\n",
            "The sentiment is Positive\n",
            "\n",
            "Daily special sales\n",
            "The polarity is  0.17857142857142858\n",
            "The sentiment is Positive\n",
            "\n",
            "Through emails. Notifications pops up when promotions are on\n",
            "The polarity is  0.0\n",
            "The sentiment is Neutral\n",
            "\n",
            "The items which were promoted should have a long term promotion and warranty in order for the promotion to be a success.\n",
            "The polarity is  0.125\n",
            "The sentiment is Positive\n",
            "\n",
            "Code promotions \n",
            "The polarity is  0.0\n",
            "The sentiment is Neutral\n",
            "\n",
            "Discount when buying about 5-10 or above things , hence the offer shoulde be enjoy by every consumer but not limited as member  other consumer also can enjoy the offer so that every one will come to the shop offenly and enjoy the discount that offered by the shop they get happy then  the buisness becomr better and better\n",
            "sometimes give them some free gifts also can be acceptable for the future of shop or company\n",
            "The polarity is  0.30097402597402595\n",
            "The sentiment is Positive\n",
            "\n",
            "Based off real overall reviews by others users or customer\n",
            "The polarity is  0.0\n",
            "The sentiment is Neutral\n",
            "\n",
            "Sms\n",
            "The polarity is  0.0\n",
            "The sentiment is Neutral\n",
            "\n",
            "Billboards\n",
            "The polarity is  0.0\n",
            "The sentiment is Neutral\n",
            "\n",
            "SMS regarding the promotion\n",
            "The polarity is  0.0\n",
            "The sentiment is Neutral\n",
            "\n",
            "SMS\n",
            "The polarity is  0.0\n",
            "The sentiment is Neutral\n",
            "\n",
            "By calling person to person. \n",
            "The polarity is  0.0\n",
            "The sentiment is Neutral\n",
            "\n",
            "Promote in university\n",
            "The polarity is  0.0\n",
            "The sentiment is Neutral\n",
            "\n",
            "Nothing\n",
            "The polarity is  0.0\n",
            "The sentiment is Neutral\n",
            "\n",
            "Through TV advertisement.\n",
            "The polarity is  0.0\n",
            "The sentiment is Neutral\n",
            "\n",
            "Email and sms\n",
            "The polarity is  0.0\n",
            "The sentiment is Neutral\n",
            "\n",
            "Free gift\n",
            "The polarity is  0.4\n",
            "The sentiment is Positive\n",
            "\n",
            "Free samples\n",
            "The polarity is  0.4\n",
            "The sentiment is Positive\n",
            "\n",
            "Exhibitions/fairs\n",
            "The polarity is  0.0\n",
            "The sentiment is Neutral\n",
            "\n",
            "Bundling\n",
            "The polarity is  0.0\n",
            "The sentiment is Neutral\n",
            "\n",
            "Bundling\n",
            "The polarity is  0.0\n",
            "The sentiment is Neutral\n",
            "\n",
            "Get trial functional about the product \n",
            "The polarity is  0.0\n",
            "The sentiment is Neutral\n",
            "\n",
            "SMS\n",
            "The polarity is  0.0\n",
            "The sentiment is Neutral\n",
            "\n",
            "Would suggest to have a public conference to promote the product and give in depth details about it\n",
            "The polarity is  0.0\n",
            "The sentiment is Neutral\n",
            "\n",
            "Giving free delivery  services \n",
            "The polarity is  0.4\n",
            "The sentiment is Positive\n",
            "\n",
            "Give free\n",
            "The polarity is  0.4\n",
            "The sentiment is Positive\n",
            "\n",
            "Whatsapp promotion\n",
            "The polarity is  0.0\n",
            "The sentiment is Neutral\n",
            "\n",
            "Phone notification but not too exaggerating. Probably once or two a week or month\n",
            "The polarity is  0.0\n",
            "The sentiment is Neutral\n",
            "\n",
            "Attach the promotion information on th products which are in promo\n",
            "The polarity is  0.0\n",
            "The sentiment is Neutral\n",
            "\n",
            "End of each month \n",
            "The polarity is  0.0\n",
            "The sentiment is Neutral\n",
            "\n",
            "Email \n",
            "The polarity is  0.0\n",
            "The sentiment is Neutral\n",
            "\n",
            "Low prices \n",
            "The polarity is  0.0\n",
            "The sentiment is Neutral\n",
            "\n",
            "Efficient for the buyer where they can see the promo brochure or ads\n",
            "The polarity is  0.0\n",
            "The sentiment is Neutral\n",
            "\n",
            "Notifications through the retailer's mobile app\n",
            "The polarity is  0.0\n",
            "The sentiment is Neutral\n",
            "\n",
            "Accumulate more points in member card\n",
            "The polarity is  0.5\n",
            "The sentiment is Positive\n",
            "\n",
            "door to door promotion\n",
            "The polarity is  0.0\n",
            "The sentiment is Neutral\n",
            "\n",
            "Buy 5 product and get one product with higher discount like RM 588 to RM 59.90\n",
            "The polarity is  0.25\n",
            "The sentiment is Positive\n",
            "\n",
            "Internet marketing\n",
            "The polarity is  0.0\n",
            "The sentiment is Neutral\n",
            "\n",
            "Facebook\n",
            "The polarity is  0.0\n",
            "The sentiment is Neutral\n",
            "\n",
            "no comment\n",
            "The polarity is  0.0\n",
            "The sentiment is Neutral\n",
            "\n",
            "Not available \n",
            "The polarity is  -0.2\n",
            "The sentiment is Negative\n",
            "\n",
            "Can't think of\n",
            "The polarity is  0.0\n",
            "The sentiment is Neutral\n",
            "\n",
            "by having free gift \n",
            "The polarity is  0.4\n",
            "The sentiment is Positive\n",
            "\n",
            "Advertising promotions \n",
            "The polarity is  0.0\n",
            "The sentiment is Neutral\n",
            "\n",
            "Do demonstration \n",
            "The polarity is  0.0\n",
            "The sentiment is Neutral\n",
            "\n",
            "No\n",
            "The polarity is  0.0\n",
            "The sentiment is Neutral\n",
            "\n",
            "Priorities should be given to customers/ Concern more on how customer would really acknowledge and judge the product in the first look. Therefore the promotion should not only be eye catching yet the use or benefits should be exposed obviously! Hope it would help.\n",
            "The polarity is  0.2583333333333333\n",
            "The sentiment is Positive\n",
            "\n",
            "dance in commercial \n",
            "The polarity is  0.0\n",
            "The sentiment is Neutral\n",
            "\n",
            "Not a suggestion for a promotional method, but this survey is so long and tedious that i got bored halfway and lied about my answers. Please take this feedback into consideration, and do your best to not complain about it since people who complain will not succeed - Jack Ma\n",
            "The polarity is  -0.012500000000000011\n",
            "The sentiment is Negative\n",
            "\n",
            "Online shopping \n",
            "The polarity is  0.0\n",
            "The sentiment is Neutral\n",
            "\n",
            "I can't think of any, but online promotional methods using minimalist designs are still more attractive to me. They give a sense of exclusivity and not too flashy.\n",
            "The polarity is  0.26666666666666666\n",
            "The sentiment is Positive\n",
            "\n",
            "Word of mouth\n",
            "The polarity is  0.0\n",
            "The sentiment is Neutral\n",
            "\n",
            "Word of mouth\n",
            "The polarity is  0.0\n",
            "The sentiment is Neutral\n",
            "\n",
            "Facebook\n",
            "The polarity is  0.0\n",
            "The sentiment is Neutral\n",
            "\n",
            "Use of Social media platforms \n",
            "The polarity is  0.03333333333333333\n",
            "The sentiment is Positive\n",
            "\n",
            "Banner or poster\n",
            "The polarity is  0.0\n",
            "The sentiment is Neutral\n",
            "\n",
            "Word of mouth \n",
            "The polarity is  0.0\n",
            "The sentiment is Neutral\n",
            "\n",
            "Win a free trip to a place \n",
            "The polarity is  0.6000000000000001\n",
            "The sentiment is Positive\n",
            "\n",
            "There should be a more interactive promotion amongst the companies and their consumers/customers\n",
            "The polarity is  0.5\n",
            "The sentiment is Positive\n",
            "\n",
            "Artistic works and customer attracting special programs\n",
            "The polarity is  0.34523809523809523\n",
            "The sentiment is Positive\n",
            "\n",
            "Provide samples of the products in moving kiosks advertising the quality and feasibility of the product \n",
            "The polarity is  0.0\n",
            "The sentiment is Neutral\n",
            "\n",
            "Through friends and family\n",
            "The polarity is  0.0\n",
            "The sentiment is Neutral\n",
            "\n",
            "Promotional method...should not be a one timer....should be more like a continous scheme where both buyer and seller are satisfied..\n",
            "The polarity is  0.5\n",
            "The sentiment is Positive\n",
            "\n",
            "Enough is enough\n",
            "The polarity is  0.0\n",
            "The sentiment is Neutral\n",
            "\n",
            "SMS\n",
            "The polarity is  0.0\n",
            "The sentiment is Neutral\n",
            "\n",
            "Whatsapp promotion\n",
            "The polarity is  0.0\n",
            "The sentiment is Neutral\n",
            "\n",
            "Bundle discount\n",
            "The polarity is  0.0\n",
            "The sentiment is Neutral\n",
            "\n",
            "Free delivery service\n",
            "The polarity is  0.4\n",
            "The sentiment is Positive\n",
            "\n",
            " Promotion in Wechat\n",
            "The polarity is  0.0\n",
            "The sentiment is Neutral\n",
            "\n",
            "All good\n",
            "The polarity is  0.7\n",
            "The sentiment is Positive\n",
            "\n",
            "Please put more lights\n",
            "The polarity is  0.5\n",
            "The sentiment is Positive\n",
            "\n",
            "Integrating a number of promotion methods as a whole complete promo, combining them.\n",
            "The polarity is  0.15000000000000002\n",
            "The sentiment is Positive\n",
            "\n",
            "Price discount\n",
            "The polarity is  0.0\n",
            "The sentiment is Neutral\n",
            "\n",
            "YouTube ads\n",
            "The polarity is  0.0\n",
            "The sentiment is Neutral\n",
            "\n",
            "Lucky draws\n",
            "The polarity is  0.3333333333333333\n",
            "The sentiment is Positive\n",
            "\n",
            "Can be more attractive price.\n",
            "The polarity is  0.65\n",
            "The sentiment is Positive\n",
            "\n",
            "Social media\n",
            "The polarity is  0.03333333333333333\n",
            "The sentiment is Positive\n",
            "\n",
            "Facebook\n",
            "The polarity is  0.0\n",
            "The sentiment is Neutral\n",
            "\n",
            "Facebook\n",
            "The polarity is  0.0\n",
            "The sentiment is Neutral\n",
            "\n",
            "Give promotions more often on products that are used more by customers. Promotions should not be limited to a particular season but should come every month or even every week\n",
            "The polarity is  0.27380952380952384\n",
            "The sentiment is Positive\n",
            "\n"
          ]
        }
      ]
    },
    {
      "cell_type": "markdown",
      "source": [
        "### Sentiment Analysis (Prediction) using spacytextblob"
      ],
      "metadata": {
        "id": "eBVY-S2HhQbS"
      }
    },
    {
      "cell_type": "code",
      "source": [
        "!pip install spacytextblob"
      ],
      "metadata": {
        "colab": {
          "base_uri": "https://localhost:8080/"
        },
        "id": "QAd5dbpihp_6",
        "outputId": "b4f08880-5c0a-4843-a707-7637f6c6374c"
      },
      "execution_count": 2,
      "outputs": [
        {
          "output_type": "stream",
          "name": "stdout",
          "text": [
            "Looking in indexes: https://pypi.org/simple, https://us-python.pkg.dev/colab-wheels/public/simple/\n",
            "Collecting spacytextblob\n",
            "  Downloading spacytextblob-4.0.0-py3-none-any.whl (4.5 kB)\n",
            "Requirement already satisfied: spacy<4.0,>=3.0 in /usr/local/lib/python3.8/dist-packages (from spacytextblob) (3.4.4)\n",
            "Requirement already satisfied: textblob<0.16.0,>=0.15.3 in /usr/local/lib/python3.8/dist-packages (from spacytextblob) (0.15.3)\n",
            "Requirement already satisfied: typer<0.8.0,>=0.3.0 in /usr/local/lib/python3.8/dist-packages (from spacy<4.0,>=3.0->spacytextblob) (0.7.0)\n",
            "Requirement already satisfied: srsly<3.0.0,>=2.4.3 in /usr/local/lib/python3.8/dist-packages (from spacy<4.0,>=3.0->spacytextblob) (2.4.5)\n",
            "Requirement already satisfied: spacy-loggers<2.0.0,>=1.0.0 in /usr/local/lib/python3.8/dist-packages (from spacy<4.0,>=3.0->spacytextblob) (1.0.4)\n",
            "Requirement already satisfied: cymem<2.1.0,>=2.0.2 in /usr/local/lib/python3.8/dist-packages (from spacy<4.0,>=3.0->spacytextblob) (2.0.7)\n",
            "Requirement already satisfied: tqdm<5.0.0,>=4.38.0 in /usr/local/lib/python3.8/dist-packages (from spacy<4.0,>=3.0->spacytextblob) (4.64.1)\n",
            "Requirement already satisfied: packaging>=20.0 in /usr/local/lib/python3.8/dist-packages (from spacy<4.0,>=3.0->spacytextblob) (23.0)\n",
            "Requirement already satisfied: pathy>=0.3.5 in /usr/local/lib/python3.8/dist-packages (from spacy<4.0,>=3.0->spacytextblob) (0.10.1)\n",
            "Requirement already satisfied: pydantic!=1.8,!=1.8.1,<1.11.0,>=1.7.4 in /usr/local/lib/python3.8/dist-packages (from spacy<4.0,>=3.0->spacytextblob) (1.10.4)\n",
            "Requirement already satisfied: catalogue<2.1.0,>=2.0.6 in /usr/local/lib/python3.8/dist-packages (from spacy<4.0,>=3.0->spacytextblob) (2.0.8)\n",
            "Requirement already satisfied: setuptools in /usr/local/lib/python3.8/dist-packages (from spacy<4.0,>=3.0->spacytextblob) (57.4.0)\n",
            "Requirement already satisfied: thinc<8.2.0,>=8.1.0 in /usr/local/lib/python3.8/dist-packages (from spacy<4.0,>=3.0->spacytextblob) (8.1.7)\n",
            "Requirement already satisfied: spacy-legacy<3.1.0,>=3.0.10 in /usr/local/lib/python3.8/dist-packages (from spacy<4.0,>=3.0->spacytextblob) (3.0.12)\n",
            "Requirement already satisfied: preshed<3.1.0,>=3.0.2 in /usr/local/lib/python3.8/dist-packages (from spacy<4.0,>=3.0->spacytextblob) (3.0.8)\n",
            "Requirement already satisfied: numpy>=1.15.0 in /usr/local/lib/python3.8/dist-packages (from spacy<4.0,>=3.0->spacytextblob) (1.21.6)\n",
            "Requirement already satisfied: langcodes<4.0.0,>=3.2.0 in /usr/local/lib/python3.8/dist-packages (from spacy<4.0,>=3.0->spacytextblob) (3.3.0)\n",
            "Requirement already satisfied: murmurhash<1.1.0,>=0.28.0 in /usr/local/lib/python3.8/dist-packages (from spacy<4.0,>=3.0->spacytextblob) (1.0.9)\n",
            "Requirement already satisfied: jinja2 in /usr/local/lib/python3.8/dist-packages (from spacy<4.0,>=3.0->spacytextblob) (2.11.3)\n",
            "Requirement already satisfied: wasabi<1.1.0,>=0.9.1 in /usr/local/lib/python3.8/dist-packages (from spacy<4.0,>=3.0->spacytextblob) (0.10.1)\n",
            "Requirement already satisfied: smart-open<7.0.0,>=5.2.1 in /usr/local/lib/python3.8/dist-packages (from spacy<4.0,>=3.0->spacytextblob) (6.3.0)\n",
            "Requirement already satisfied: requests<3.0.0,>=2.13.0 in /usr/local/lib/python3.8/dist-packages (from spacy<4.0,>=3.0->spacytextblob) (2.25.1)\n",
            "Requirement already satisfied: nltk>=3.1 in /usr/local/lib/python3.8/dist-packages (from textblob<0.16.0,>=0.15.3->spacytextblob) (3.7)\n",
            "Requirement already satisfied: click in /usr/local/lib/python3.8/dist-packages (from nltk>=3.1->textblob<0.16.0,>=0.15.3->spacytextblob) (7.1.2)\n",
            "Requirement already satisfied: joblib in /usr/local/lib/python3.8/dist-packages (from nltk>=3.1->textblob<0.16.0,>=0.15.3->spacytextblob) (1.2.0)\n",
            "Requirement already satisfied: regex>=2021.8.3 in /usr/local/lib/python3.8/dist-packages (from nltk>=3.1->textblob<0.16.0,>=0.15.3->spacytextblob) (2022.6.2)\n",
            "Requirement already satisfied: typing-extensions>=4.2.0 in /usr/local/lib/python3.8/dist-packages (from pydantic!=1.8,!=1.8.1,<1.11.0,>=1.7.4->spacy<4.0,>=3.0->spacytextblob) (4.5.0)\n",
            "Requirement already satisfied: chardet<5,>=3.0.2 in /usr/local/lib/python3.8/dist-packages (from requests<3.0.0,>=2.13.0->spacy<4.0,>=3.0->spacytextblob) (4.0.0)\n",
            "Requirement already satisfied: certifi>=2017.4.17 in /usr/local/lib/python3.8/dist-packages (from requests<3.0.0,>=2.13.0->spacy<4.0,>=3.0->spacytextblob) (2022.12.7)\n",
            "Requirement already satisfied: urllib3<1.27,>=1.21.1 in /usr/local/lib/python3.8/dist-packages (from requests<3.0.0,>=2.13.0->spacy<4.0,>=3.0->spacytextblob) (1.24.3)\n",
            "Requirement already satisfied: idna<3,>=2.5 in /usr/local/lib/python3.8/dist-packages (from requests<3.0.0,>=2.13.0->spacy<4.0,>=3.0->spacytextblob) (2.10)\n",
            "Requirement already satisfied: confection<1.0.0,>=0.0.1 in /usr/local/lib/python3.8/dist-packages (from thinc<8.2.0,>=8.1.0->spacy<4.0,>=3.0->spacytextblob) (0.0.4)\n",
            "Requirement already satisfied: blis<0.8.0,>=0.7.8 in /usr/local/lib/python3.8/dist-packages (from thinc<8.2.0,>=8.1.0->spacy<4.0,>=3.0->spacytextblob) (0.7.9)\n",
            "Requirement already satisfied: MarkupSafe>=0.23 in /usr/local/lib/python3.8/dist-packages (from jinja2->spacy<4.0,>=3.0->spacytextblob) (2.0.1)\n",
            "Installing collected packages: spacytextblob\n",
            "Successfully installed spacytextblob-4.0.0\n"
          ]
        }
      ]
    },
    {
      "cell_type": "code",
      "source": [
        "import nltk\n",
        "nltk.download('punkt')\n",
        "\n",
        "import spacy\n",
        "from spacytextblob.spacytextblob import SpacyTextBlob\n",
        "\n",
        "nlp = spacy.load('en_core_web_sm')\n",
        "nlp.add_pipe('spacytextblob')\n",
        "text = 'I had a really horrible day. It was the worst day ever! But every now and then I have a really good day that makes me happy.'\n",
        "doc = nlp(text)\n",
        "print(doc._.blob.polarity)                            # Polarity: -0.125\n",
        "print(doc._.blob.subjectivity)                        # Subjectivity: 0.9\n",
        "print(doc._.blob.sentiment_assessments.assessments)   # Assessments: [(['really', 'horrible'], -1.0, 1.0, None), (['worst', '!'], -1.0, 1.0, None), (['really', 'good'], 0.7, 0.6000000000000001, None), (['happy'], 0.8, 1.0, None)]\n",
        "print(doc._.blob.ngrams())"
      ],
      "metadata": {
        "colab": {
          "base_uri": "https://localhost:8080/"
        },
        "id": "NzPOyxdXhVZr",
        "outputId": "4c611511-62c3-48cf-a096-5ad094c92e45"
      },
      "execution_count": 5,
      "outputs": [
        {
          "output_type": "stream",
          "name": "stderr",
          "text": [
            "[nltk_data] Downloading package punkt to /root/nltk_data...\n",
            "[nltk_data]   Package punkt is already up-to-date!\n"
          ]
        },
        {
          "output_type": "stream",
          "name": "stdout",
          "text": [
            "-0.125\n",
            "0.9\n",
            "[(['really', 'horrible'], -1.0, 1.0, None), (['worst', '!'], -1.0, 1.0, None), (['really', 'good'], 0.7, 0.6000000000000001, None), (['happy'], 0.8, 1.0, None)]\n",
            "[WordList(['I', 'had', 'a']), WordList(['had', 'a', 'really']), WordList(['a', 'really', 'horrible']), WordList(['really', 'horrible', 'day']), WordList(['horrible', 'day', 'It']), WordList(['day', 'It', 'was']), WordList(['It', 'was', 'the']), WordList(['was', 'the', 'worst']), WordList(['the', 'worst', 'day']), WordList(['worst', 'day', 'ever']), WordList(['day', 'ever', 'But']), WordList(['ever', 'But', 'every']), WordList(['But', 'every', 'now']), WordList(['every', 'now', 'and']), WordList(['now', 'and', 'then']), WordList(['and', 'then', 'I']), WordList(['then', 'I', 'have']), WordList(['I', 'have', 'a']), WordList(['have', 'a', 'really']), WordList(['a', 'really', 'good']), WordList(['really', 'good', 'day']), WordList(['good', 'day', 'that']), WordList(['day', 'that', 'makes']), WordList(['that', 'makes', 'me']), WordList(['makes', 'me', 'happy'])]\n"
          ]
        }
      ]
    },
    {
      "cell_type": "markdown",
      "source": [
        "**Converting a CSV file into a text file**"
      ],
      "metadata": {
        "id": "NfitOiC6hBgh"
      }
    },
    {
      "cell_type": "code",
      "metadata": {
        "id": "FxTTteCaM-Ay",
        "outputId": "3614742d-80c3-4a58-dace-2fdf56397ff5"
      },
      "source": [
        "\n",
        "import csv\n",
        "csv_file = input('Enter the name of your input file: ')\n",
        "txt_file = input('Enter the name of your output file: ')\n",
        "with open(txt_file, \"w\") as my_output_file:\n",
        "    with open(csv_file, \"r\") as my_input_file:\n",
        "        [ my_output_file.write(\" \".join(row)+'\\n') for row in csv.reader(my_input_file)]\n",
        "    my_output_file.close()"
      ],
      "execution_count": null,
      "outputs": [
        {
          "name": "stdout",
          "output_type": "stream",
          "text": [
            "Enter the name of your input file: I am learning Python\n",
            "Enter the name of your output file: I am learning Python\n"
          ]
        }
      ]
    }
  ]
}