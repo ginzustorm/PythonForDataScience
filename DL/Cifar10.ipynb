{
  "cells": [
    {
      "cell_type": "markdown",
      "metadata": {},
      "source": [
        "### Importing the dataset Cifar10 from Keras"
      ]
    },
    {
      "cell_type": "code",
      "execution_count": 1,
      "metadata": {
        "id": "lRuRpZZfIQlE"
      },
      "outputs": [],
      "source": [
        "import tensorflow as tf\n",
        "\n",
        "(x_train, y_train), (x_test, y_test) = tf.keras.datasets.cifar10.load_data()\n",
        "# assert x_train.shape == (60000, 28, 28)\n",
        "# assert x_test.shape == (10000, 28, 28)\n",
        "# assert y_train.shape == (60000,)\n",
        "# assert y_test.shape == (10000,)"
      ]
    },
    {
      "cell_type": "code",
      "execution_count": 2,
      "metadata": {
        "colab": {
          "base_uri": "https://localhost:8080/"
        },
        "id": "oO5vVLWhJAZM",
        "outputId": "19d012f3-e0e1-405a-b9ed-0cd746bf3644"
      },
      "outputs": [
        {
          "name": "stdout",
          "output_type": "stream",
          "text": [
            "x_train shape:  (50000, 32, 32, 3)\n",
            "y_train shape:  (50000, 1)\n",
            "x_test shape:  (10000, 32, 32, 3)\n",
            "y_test shape:  (10000, 1)\n"
          ]
        }
      ],
      "source": [
        "print(\"x_train shape: \", x_train.shape)\n",
        "print(\"y_train shape: \", y_train.shape)\n",
        "print(\"x_test shape: \", x_test.shape)\n",
        "print(\"y_test shape: \", y_test.shape)"
      ]
    },
    {
      "cell_type": "markdown",
      "metadata": {},
      "source": [
        "### Reshaping the train and test sets by flattening the images"
      ]
    },
    {
      "cell_type": "code",
      "execution_count": 3,
      "metadata": {
        "id": "MalqttaQJiaV"
      },
      "outputs": [],
      "source": [
        "from keras.models import Sequential\n",
        "from keras.layers import Dense, Dropout\n",
        "from keras.utils import to_categorical\n",
        "\n",
        "# Flattening images from the 28 28 = 784 pixels to 10 784 pixels\n",
        "X_train = x_train.reshape(50000, 3072)\n",
        "X_test = x_test.reshape(10000, 3072)\n",
        "X_train = X_train.astype(\"float32\")\n",
        "X_test = X_test.astype(\"float32\")"
      ]
    },
    {
      "cell_type": "markdown",
      "metadata": {},
      "source": [
        "### Normalizing the data"
      ]
    },
    {
      "cell_type": "code",
      "execution_count": 4,
      "metadata": {
        "id": "Qj9oo7DsKZD1"
      },
      "outputs": [],
      "source": [
        "# normalizing the data to help with the training\n",
        "\n",
        "X_train /= 255\n",
        "X_test /= 255"
      ]
    },
    {
      "cell_type": "markdown",
      "metadata": {},
      "source": [
        "### One-hot encoding of the target variable"
      ]
    },
    {
      "cell_type": "code",
      "execution_count": 5,
      "metadata": {
        "colab": {
          "base_uri": "https://localhost:8080/"
        },
        "id": "YhY3cgcTKfZA",
        "outputId": "fb410d4f-f4b6-4aa9-95c3-fd1e6028dbc7"
      },
      "outputs": [
        {
          "name": "stdout",
          "output_type": "stream",
          "text": [
            "Shape before one-hot encoding:  (50000, 1)\n",
            "Shape after one-hot encoding:  (50000, 10)\n"
          ]
        }
      ],
      "source": [
        "Y_train = to_categorical(y_train)\n",
        "Y_test = to_categorical(y_test)\n",
        "print(\"Shape before one-hot encoding: \", y_train.shape)\n",
        "print(\"Shape after one-hot encoding: \", Y_train.shape)"
      ]
    },
    {
      "cell_type": "code",
      "execution_count": 6,
      "metadata": {
        "colab": {
          "base_uri": "https://localhost:8080/"
        },
        "id": "cq-iX6rHLCie",
        "outputId": "83b0c1fa-2be4-4b7b-8acf-857566d4396a"
      },
      "outputs": [
        {
          "data": {
            "text/plain": [
              "array([[0., 0., 0., ..., 0., 0., 0.],\n",
              "       [0., 0., 0., ..., 0., 0., 1.],\n",
              "       [0., 0., 0., ..., 0., 0., 1.],\n",
              "       ...,\n",
              "       [0., 0., 0., ..., 0., 0., 1.],\n",
              "       [0., 1., 0., ..., 0., 0., 0.],\n",
              "       [0., 1., 0., ..., 0., 0., 0.]])"
            ]
          },
          "execution_count": 6,
          "metadata": {},
          "output_type": "execute_result"
        }
      ],
      "source": [
        "Y_train"
      ]
    },
    {
      "cell_type": "markdown",
      "metadata": {},
      "source": [
        "### First model\n",
        "\n",
        "Baseline model to get an initial understanding"
      ]
    },
    {
      "cell_type": "code",
      "execution_count": 19,
      "metadata": {
        "colab": {
          "base_uri": "https://localhost:8080/"
        },
        "id": "mdNtJ28wLlgV",
        "outputId": "dd2d84bc-36b5-451f-d0f2-57f13f10876a"
      },
      "outputs": [
        {
          "name": "stderr",
          "output_type": "stream",
          "text": [
            "C:\\Users\\laric\\AppData\\Local\\Packages\\PythonSoftwareFoundation.Python.3.12_qbz5n2kfra8p0\\LocalCache\\local-packages\\Python312\\site-packages\\keras\\src\\layers\\core\\dense.py:87: UserWarning: Do not pass an `input_shape`/`input_dim` argument to a layer. When using Sequential models, prefer using an `Input(shape)` object as the first layer in the model instead.\n",
            "  super().__init__(activity_regularizer=activity_regularizer, **kwargs)\n"
          ]
        }
      ],
      "source": [
        "from keras.layers import LeakyReLU\n",
        "\n",
        "L1 = 200\n",
        "L2 = 100\n",
        "L3 = 50\n",
        "model = Sequential()\n",
        "model.add(Dense(L1, input_dim = 3072, activation = \"relu\"))\n",
        "model.add(Dense(L2, activation = \"relu\"))\n",
        "model.add(Dense(L3, activation = \"relu\"))\n",
        "# output layer (Softmax = multinominal)\n",
        "model.add(Dense(10, activation = \"softmax\"))"
      ]
    },
    {
      "cell_type": "code",
      "execution_count": 46,
      "metadata": {
        "id": "9i3USCmdMiDz"
      },
      "outputs": [],
      "source": [
        "# compiling the sequential model\n",
        "model.compile(loss='categorical_crossentropy', metrics=['accuracy'], optimizer='adam')"
      ]
    },
    {
      "cell_type": "code",
      "execution_count": 47,
      "metadata": {
        "colab": {
          "base_uri": "https://localhost:8080/"
        },
        "id": "1_SXK9oTMt_q",
        "outputId": "d4223dc1-fa83-4eb2-dcab-5027b9cb691f"
      },
      "outputs": [
        {
          "name": "stdout",
          "output_type": "stream",
          "text": [
            "Epoch 1/10\n",
            "\u001b[1m1563/1563\u001b[0m \u001b[32m━━━━━━━━━━━━━━━━━━━━\u001b[0m\u001b[37m\u001b[0m \u001b[1m6s\u001b[0m 3ms/step - accuracy: 0.2612 - loss: 1.9929 - val_accuracy: 0.3805 - val_loss: 1.7366\n",
            "Epoch 2/10\n",
            "\u001b[1m1563/1563\u001b[0m \u001b[32m━━━━━━━━━━━━━━━━━━━━\u001b[0m\u001b[37m\u001b[0m \u001b[1m5s\u001b[0m 3ms/step - accuracy: 0.3825 - loss: 1.7193 - val_accuracy: 0.4022 - val_loss: 1.6639\n",
            "Epoch 3/10\n",
            "\u001b[1m1563/1563\u001b[0m \u001b[32m━━━━━━━━━━━━━━━━━━━━\u001b[0m\u001b[37m\u001b[0m \u001b[1m5s\u001b[0m 3ms/step - accuracy: 0.4192 - loss: 1.6227 - val_accuracy: 0.4282 - val_loss: 1.5874\n",
            "Epoch 4/10\n",
            "\u001b[1m1563/1563\u001b[0m \u001b[32m━━━━━━━━━━━━━━━━━━━━\u001b[0m\u001b[37m\u001b[0m \u001b[1m5s\u001b[0m 3ms/step - accuracy: 0.4363 - loss: 1.5650 - val_accuracy: 0.4526 - val_loss: 1.5450\n",
            "Epoch 5/10\n",
            "\u001b[1m1563/1563\u001b[0m \u001b[32m━━━━━━━━━━━━━━━━━━━━\u001b[0m\u001b[37m\u001b[0m \u001b[1m5s\u001b[0m 3ms/step - accuracy: 0.4546 - loss: 1.5234 - val_accuracy: 0.4578 - val_loss: 1.5289\n",
            "Epoch 6/10\n",
            "\u001b[1m1563/1563\u001b[0m \u001b[32m━━━━━━━━━━━━━━━━━━━━\u001b[0m\u001b[37m\u001b[0m \u001b[1m5s\u001b[0m 3ms/step - accuracy: 0.4698 - loss: 1.4901 - val_accuracy: 0.4675 - val_loss: 1.4964\n",
            "Epoch 7/10\n",
            "\u001b[1m1563/1563\u001b[0m \u001b[32m━━━━━━━━━━━━━━━━━━━━\u001b[0m\u001b[37m\u001b[0m \u001b[1m5s\u001b[0m 3ms/step - accuracy: 0.4739 - loss: 1.4646 - val_accuracy: 0.4599 - val_loss: 1.4997\n",
            "Epoch 8/10\n",
            "\u001b[1m1563/1563\u001b[0m \u001b[32m━━━━━━━━━━━━━━━━━━━━\u001b[0m\u001b[37m\u001b[0m \u001b[1m5s\u001b[0m 3ms/step - accuracy: 0.4833 - loss: 1.4448 - val_accuracy: 0.4671 - val_loss: 1.4849\n",
            "Epoch 9/10\n",
            "\u001b[1m1563/1563\u001b[0m \u001b[32m━━━━━━━━━━━━━━━━━━━━\u001b[0m\u001b[37m\u001b[0m \u001b[1m5s\u001b[0m 3ms/step - accuracy: 0.4920 - loss: 1.4242 - val_accuracy: 0.4843 - val_loss: 1.4659\n",
            "Epoch 10/10\n",
            "\u001b[1m1563/1563\u001b[0m \u001b[32m━━━━━━━━━━━━━━━━━━━━\u001b[0m\u001b[37m\u001b[0m \u001b[1m5s\u001b[0m 3ms/step - accuracy: 0.4931 - loss: 1.4144 - val_accuracy: 0.4728 - val_loss: 1.4682\n"
          ]
        }
      ],
      "source": [
        "# training the model for 10 epochs\n",
        "history = model.fit(X_train, Y_train, epochs=10, batch_size=32, validation_data=(X_test, Y_test))"
      ]
    },
    {
      "cell_type": "code",
      "execution_count": 16,
      "metadata": {
        "colab": {
          "base_uri": "https://localhost:8080/",
          "height": 282
        },
        "id": "DUSg51VmOCG3",
        "outputId": "c4fad6dd-fa1d-4403-e44a-68d62d092f82"
      },
      "outputs": [
        {
          "data": {
            "image/png": "[encoded data removed]",
            "text/plain": [
              "<Figure size 700x300 with 2 Axes>"
            ]
          },
          "metadata": {},
          "output_type": "display_data"
        }
      ],
      "source": [
        "import matplotlib.pyplot as plt\n",
        "\n",
        "acc2 = history.history['accuracy']\n",
        "val_acc = history.history['val_accuracy']\n",
        "loss2 = history.history['loss']\n",
        "val_loss = history.history['val_loss']\n",
        "\n",
        "epochs = range(1,len(acc2)+1)\n",
        "\n",
        "# Creating subplots\n",
        "fig, axes = plt.subplots(nrows=1, ncols=2, figsize=(7,3))\n",
        "\n",
        "axes[0].plot(epochs, acc2,'b',label='Train Accuracy')\n",
        "axes[0].plot(epochs, val_acc,'r',label='Test Accuracy')\n",
        "axes[0].set_xlabel('Epoch')\n",
        "axes[0].set_ylabel('Accuracy')\n",
        "axes[0].legend()\n",
        "\n",
        "axes[1].plot(epochs, loss2,'b',label='Train Loss')\n",
        "axes[1].plot(epochs, val_loss,'r',label='Test Loss')\n",
        "axes[1].set_xlabel('Epoch')\n",
        "axes[1].set_ylabel('Loss')\n",
        "axes[1].legend()\n",
        "\n",
        "# Adjusting layout for better spacing\n",
        "plt.tight_layout()\n",
        "\n",
        "# Display the figure\n",
        "plt.show()"
      ]
    },
    {
      "cell_type": "markdown",
      "metadata": {},
      "source": [
        "### Added regularization to the baseline model"
      ]
    },
    {
      "cell_type": "code",
      "execution_count": 20,
      "metadata": {
        "colab": {
          "base_uri": "https://localhost:8080/"
        },
        "id": "Hz0I1wS_Q58v",
        "outputId": "e9014116-0fa5-479b-9209-8bb876761d72"
      },
      "outputs": [],
      "source": [
        "from keras import regularizers\n",
        "\n",
        "model = Sequential()\n",
        "model.add(Dense(L1, input_dim = 3072, activation = 'relu',\n",
        "                kernel_initializer = 'he_normal',\n",
        "                kernel_regularizer = regularizers.l2(0.001)))\n",
        "model.add(Dense(L2, activation = 'relu'))\n",
        "model.add(Dense(L3, activation = 'relu'))\n",
        "model.add(Dense(10, activation = 'softmax')) # output layer"
      ]
    },
    {
      "cell_type": "code",
      "execution_count": 100,
      "metadata": {},
      "outputs": [],
      "source": [
        "model.compile(loss = 'categorical_crossentropy',\n",
        "              metrics = ['accuracy'], optimizer = 'adam')"
      ]
    },
    {
      "cell_type": "code",
      "execution_count": 101,
      "metadata": {},
      "outputs": [
        {
          "name": "stdout",
          "output_type": "stream",
          "text": [
            "Epoch 1/10\n",
            "\u001b[1m1563/1563\u001b[0m \u001b[32m━━━━━━━━━━━━━━━━━━━━\u001b[0m\u001b[37m\u001b[0m \u001b[1m8s\u001b[0m 4ms/step - accuracy: 0.2706 - loss: 2.2205 - val_accuracy: 0.3692 - val_loss: 1.8081\n",
            "Epoch 2/10\n",
            "\u001b[1m1563/1563\u001b[0m \u001b[32m━━━━━━━━━━━━━━━━━━━━\u001b[0m\u001b[37m\u001b[0m \u001b[1m7s\u001b[0m 4ms/step - accuracy: 0.3736 - loss: 1.7950 - val_accuracy: 0.3592 - val_loss: 1.7867\n",
            "Epoch 3/10\n",
            "\u001b[1m1563/1563\u001b[0m \u001b[32m━━━━━━━━━━━━━━━━━━━━\u001b[0m\u001b[37m\u001b[0m \u001b[1m7s\u001b[0m 4ms/step - accuracy: 0.4002 - loss: 1.7262 - val_accuracy: 0.4099 - val_loss: 1.7075\n",
            "Epoch 4/10\n",
            "\u001b[1m1563/1563\u001b[0m \u001b[32m━━━━━━━━━━━━━━━━━━━━\u001b[0m\u001b[37m\u001b[0m \u001b[1m7s\u001b[0m 4ms/step - accuracy: 0.4158 - loss: 1.6884 - val_accuracy: 0.4089 - val_loss: 1.7367\n",
            "Epoch 5/10\n",
            "\u001b[1m1563/1563\u001b[0m \u001b[32m━━━━━━━━━━━━━━━━━━━━\u001b[0m\u001b[37m\u001b[0m \u001b[1m7s\u001b[0m 4ms/step - accuracy: 0.4270 - loss: 1.6633 - val_accuracy: 0.4275 - val_loss: 1.6841\n",
            "Epoch 6/10\n",
            "\u001b[1m1563/1563\u001b[0m \u001b[32m━━━━━━━━━━━━━━━━━━━━\u001b[0m\u001b[37m\u001b[0m \u001b[1m7s\u001b[0m 4ms/step - accuracy: 0.4395 - loss: 1.6341 - val_accuracy: 0.4345 - val_loss: 1.6583\n",
            "Epoch 7/10\n",
            "\u001b[1m1563/1563\u001b[0m \u001b[32m━━━━━━━━━━━━━━━━━━━━\u001b[0m\u001b[37m\u001b[0m \u001b[1m7s\u001b[0m 4ms/step - accuracy: 0.4428 - loss: 1.6217 - val_accuracy: 0.4548 - val_loss: 1.6043\n",
            "Epoch 8/10\n",
            "\u001b[1m1563/1563\u001b[0m \u001b[32m━━━━━━━━━━━━━━━━━━━━\u001b[0m\u001b[37m\u001b[0m \u001b[1m7s\u001b[0m 4ms/step - accuracy: 0.4509 - loss: 1.6099 - val_accuracy: 0.4582 - val_loss: 1.5955\n",
            "Epoch 9/10\n",
            "\u001b[1m1563/1563\u001b[0m \u001b[32m━━━━━━━━━━━━━━━━━━━━\u001b[0m\u001b[37m\u001b[0m \u001b[1m7s\u001b[0m 5ms/step - accuracy: 0.4531 - loss: 1.6011 - val_accuracy: 0.4399 - val_loss: 1.6338\n",
            "Epoch 10/10\n",
            "\u001b[1m1563/1563\u001b[0m \u001b[32m━━━━━━━━━━━━━━━━━━━━\u001b[0m\u001b[37m\u001b[0m \u001b[1m7s\u001b[0m 4ms/step - accuracy: 0.4605 - loss: 1.5826 - val_accuracy: 0.4529 - val_loss: 1.6164\n"
          ]
        }
      ],
      "source": [
        "# training the model for 10 epochs\n",
        "history = model.fit(X_train, Y_train, epochs = 10, batch_size = 32,\n",
        "                    validation_data = (X_test, Y_test))"
      ]
    },
    {
      "cell_type": "code",
      "execution_count": 102,
      "metadata": {
        "id": "oOvyj256R72R"
      },
      "outputs": [
        {
          "data": {
            "image/png": "[encoded data removed]",
            "text/plain": [
              "<Figure size 700x300 with 2 Axes>"
            ]
          },
          "metadata": {},
          "output_type": "display_data"
        }
      ],
      "source": [
        "import matplotlib.pyplot as plt\n",
        "\n",
        "acc2 = history.history['accuracy']\n",
        "val_acc = history.history['val_accuracy']\n",
        "loss2 = history.history['loss']\n",
        "val_loss = history.history['val_loss']\n",
        "\n",
        "epochs = range(1,len(acc2)+1)\n",
        "\n",
        "# Creating subplots\n",
        "fig, axes = plt.subplots(nrows=1, ncols=2, figsize=(7,3))\n",
        "\n",
        "axes[0].plot(epochs, acc2,'b',label='Train Accuracy')\n",
        "axes[0].plot(epochs, val_acc,'r',label='Test Accuracy')\n",
        "axes[0].set_xlabel('Epoch')\n",
        "axes[0].set_ylabel('Accuracy')\n",
        "axes[0].legend()\n",
        "\n",
        "axes[1].plot(epochs, loss2,'b',label='Train Loss')\n",
        "axes[1].plot(epochs, val_loss,'r',label='Test Loss')\n",
        "axes[1].set_xlabel('Epoch')\n",
        "axes[1].set_ylabel('Loss')\n",
        "axes[1].legend()\n",
        "\n",
        "# Adjusting layout for better spacing\n",
        "plt.tight_layout()\n",
        "\n",
        "# Display the figure\n",
        "plt.show()"
      ]
    },
    {
      "cell_type": "markdown",
      "metadata": {},
      "source": [
        "### Trying to add the dropout to the model "
      ]
    },
    {
      "cell_type": "code",
      "execution_count": 21,
      "metadata": {
        "colab": {
          "base_uri": "https://localhost:8080/"
        },
        "id": "PMCG-4uxQALH",
        "outputId": "088dd31c-e934-444f-b6dd-495cb7a1fdee"
      },
      "outputs": [],
      "source": [
        "from keras.layers import Dropout\n",
        "from keras import regularizers\n",
        "\n",
        "# Building a sequential model\n",
        "\n",
        "model = Sequential()\n",
        "model.add(Dense(L1, input_dim = 3072, activation = 'relu',\n",
        "                kernel_initializer = 'he_normal',\n",
        "                kernel_regularizer = regularizers.l2(0.001)))\n",
        "model.add(Dense(L2, activation = 'relu'))\n",
        "model.add(Dense(L3, activation = 'relu'))\n",
        "model.add(Dropout(rate = 0.2))\n",
        "model.add(Dense(10, activation = 'softmax')) # output layer"
      ]
    },
    {
      "cell_type": "code",
      "execution_count": 29,
      "metadata": {},
      "outputs": [],
      "source": [
        "# compiling the sequential model\n",
        "model.compile(loss = 'categorical_crossentropy',\n",
        "              metrics = ['accuracy'], optimizer = 'adam')"
      ]
    },
    {
      "cell_type": "code",
      "execution_count": 31,
      "metadata": {},
      "outputs": [
        {
          "name": "stdout",
          "output_type": "stream",
          "text": [
            "Epoch 1/10\n",
            "\u001b[1m1563/1563\u001b[0m \u001b[32m━━━━━━━━━━━━━━━━━━━━\u001b[0m\u001b[37m\u001b[0m \u001b[1m5s\u001b[0m 3ms/step - accuracy: 0.3161 - loss: 1.9375 - val_accuracy: 0.3619 - val_loss: 1.8011\n",
            "Epoch 2/10\n",
            "\u001b[1m1563/1563\u001b[0m \u001b[32m━━━━━━━━━━━━━━━━━━━━\u001b[0m\u001b[37m\u001b[0m \u001b[1m5s\u001b[0m 3ms/step - accuracy: 0.3570 - loss: 1.8421 - val_accuracy: 0.3944 - val_loss: 1.7407\n",
            "Epoch 3/10\n",
            "\u001b[1m1563/1563\u001b[0m \u001b[32m━━━━━━━━━━━━━━━━━━━━\u001b[0m\u001b[37m\u001b[0m \u001b[1m5s\u001b[0m 3ms/step - accuracy: 0.3752 - loss: 1.8028 - val_accuracy: 0.4117 - val_loss: 1.7008\n",
            "Epoch 4/10\n",
            "\u001b[1m1563/1563\u001b[0m \u001b[32m━━━━━━━━━━━━━━━━━━━━\u001b[0m\u001b[37m\u001b[0m \u001b[1m5s\u001b[0m 3ms/step - accuracy: 0.3901 - loss: 1.7564 - val_accuracy: 0.4138 - val_loss: 1.7099\n",
            "Epoch 5/10\n",
            "\u001b[1m1563/1563\u001b[0m \u001b[32m━━━━━━━━━━━━━━━━━━━━\u001b[0m\u001b[37m\u001b[0m \u001b[1m5s\u001b[0m 3ms/step - accuracy: 0.3981 - loss: 1.7421 - val_accuracy: 0.4002 - val_loss: 1.7506\n",
            "Epoch 6/10\n",
            "\u001b[1m1563/1563\u001b[0m \u001b[32m━━━━━━━━━━━━━━━━━━━━\u001b[0m\u001b[37m\u001b[0m \u001b[1m5s\u001b[0m 3ms/step - accuracy: 0.4017 - loss: 1.7334 - val_accuracy: 0.4202 - val_loss: 1.6779\n",
            "Epoch 7/10\n",
            "\u001b[1m1563/1563\u001b[0m \u001b[32m━━━━━━━━━━━━━━━━━━━━\u001b[0m\u001b[37m\u001b[0m \u001b[1m5s\u001b[0m 3ms/step - accuracy: 0.4080 - loss: 1.7166 - val_accuracy: 0.4274 - val_loss: 1.6682\n",
            "Epoch 8/10\n",
            "\u001b[1m1563/1563\u001b[0m \u001b[32m━━━━━━━━━━━━━━━━━━━━\u001b[0m\u001b[37m\u001b[0m \u001b[1m6s\u001b[0m 4ms/step - accuracy: 0.4103 - loss: 1.7023 - val_accuracy: 0.4188 - val_loss: 1.6640\n",
            "Epoch 9/10\n",
            "\u001b[1m1563/1563\u001b[0m \u001b[32m━━━━━━━━━━━━━━━━━━━━\u001b[0m\u001b[37m\u001b[0m \u001b[1m6s\u001b[0m 4ms/step - accuracy: 0.4219 - loss: 1.6887 - val_accuracy: 0.4349 - val_loss: 1.6627\n",
            "Epoch 10/10\n",
            "\u001b[1m1563/1563\u001b[0m \u001b[32m━━━━━━━━━━━━━━━━━━━━\u001b[0m\u001b[37m\u001b[0m \u001b[1m5s\u001b[0m 3ms/step - accuracy: 0.4248 - loss: 1.6790 - val_accuracy: 0.4369 - val_loss: 1.6473\n"
          ]
        }
      ],
      "source": [
        "# training the model for 10 epochs\n",
        "history = model.fit(X_train, Y_train, epochs = 10, batch_size = 32,\n",
        "                    validation_data = (X_test, Y_test))"
      ]
    },
    {
      "cell_type": "markdown",
      "metadata": {},
      "source": [
        "### The model perfomance is poor. \n",
        "### Decision is to run Grid search cross-validation to find the best hyperparameters"
      ]
    },
    {
      "cell_type": "code",
      "execution_count": 13,
      "metadata": {
        "id": "wqN-ux_KbaAP"
      },
      "outputs": [],
      "source": [
        "from sklearn.model_selection import GridSearchCV\n",
        "from scikeras.wrappers import KerasClassifier"
      ]
    },
    {
      "cell_type": "code",
      "execution_count": 8,
      "metadata": {
        "id": "uxgrDGsEcHMC"
      },
      "outputs": [],
      "source": [
        "# Function to create model, required for KerasClassifier\n",
        "def create_model():\n",
        "  model = Sequential()\n",
        "  model.add(Dense(200, input_dim = 3072, activation = 'relu'))\n",
        "  model.add(Dense(100, activation = 'relu'))\n",
        "  model.add(Dense(50, activation = 'relu'))\n",
        "  model.add(Dense(10, activation = 'softmax'))\n",
        "  # Compile model\n",
        "  model.compile(loss = 'categorical_crossentropy',\n",
        "                optimizer = 'adam', metrics = ['accuracy'])\n",
        "\n",
        "  return model"
      ]
    },
    {
      "cell_type": "code",
      "execution_count": 9,
      "metadata": {},
      "outputs": [],
      "source": [
        "# create model\n",
        "model = KerasClassifier(build_fn = create_model, verbose = 0)"
      ]
    },
    {
      "cell_type": "code",
      "execution_count": 10,
      "metadata": {
        "colab": {
          "background_save": true,
          "base_uri": "https://localhost:8080/"
        },
        "id": "6o5XRIntdPXW",
        "outputId": "de42d695-c905-47b0-ebac-c74d42c5e125"
      },
      "outputs": [],
      "source": [
        "# define the grid search parameters\n",
        "batch_size = [32, 64, 128]\n",
        "epochs = [10, 15, 20]\n",
        "optimizer = ['SGD', 'RMSprop', 'Adagrad', 'Adadelta',\n",
        "             'Adam', 'Adamax', 'Nadam']\n",
        "param_grid = dict(batch_size = batch_size, epochs = epochs,\n",
        "                  optimizer = optimizer)\n",
        "grid = GridSearchCV(estimator = model, param_grid = param_grid,\n",
        "                    n_jobs = -1, cv = 4)"
      ]
    },
    {
      "cell_type": "code",
      "execution_count": 11,
      "metadata": {},
      "outputs": [
        {
          "name": "stderr",
          "output_type": "stream",
          "text": [
            "C:\\Users\\laric\\AppData\\Local\\Packages\\PythonSoftwareFoundation.Python.3.12_qbz5n2kfra8p0\\LocalCache\\local-packages\\Python312\\site-packages\\scikeras\\wrappers.py:925: UserWarning: ``build_fn`` will be renamed to ``model`` in a future release, at which point use of ``build_fn`` will raise an Error instead.\n",
            "  X, y = self._initialize(X, y)\n",
            "C:\\Users\\laric\\AppData\\Local\\Packages\\PythonSoftwareFoundation.Python.3.12_qbz5n2kfra8p0\\LocalCache\\local-packages\\Python312\\site-packages\\keras\\src\\layers\\core\\dense.py:87: UserWarning: Do not pass an `input_shape`/`input_dim` argument to a layer. When using Sequential models, prefer using an `Input(shape)` object as the first layer in the model instead.\n",
            "  super().__init__(activity_regularizer=activity_regularizer, **kwargs)\n"
          ]
        }
      ],
      "source": [
        "grid_result = grid.fit(X_train, Y_train)"
      ]
    },
    {
      "cell_type": "code",
      "execution_count": 12,
      "metadata": {
        "id": "plOMpGhRgC4a"
      },
      "outputs": [
        {
          "name": "stdout",
          "output_type": "stream",
          "text": [
            "Best: 0.487260 using {'batch_size': 128, 'epochs': 20, 'optimizer': 'Adamax'}\n",
            "0.452360 with: {'batch_size': 32, 'epochs': 10, 'optimizer': 'SGD'}\n",
            "0.458300 with: {'batch_size': 32, 'epochs': 10, 'optimizer': 'RMSprop'}\n",
            "0.456660 with: {'batch_size': 32, 'epochs': 10, 'optimizer': 'Adagrad'}\n",
            "0.460560 with: {'batch_size': 32, 'epochs': 10, 'optimizer': 'Adadelta'}\n",
            "0.458620 with: {'batch_size': 32, 'epochs': 10, 'optimizer': 'Adam'}\n",
            "0.461800 with: {'batch_size': 32, 'epochs': 10, 'optimizer': 'Adamax'}\n",
            "0.458740 with: {'batch_size': 32, 'epochs': 10, 'optimizer': 'Nadam'}\n",
            "0.468480 with: {'batch_size': 32, 'epochs': 15, 'optimizer': 'SGD'}\n",
            "0.463300 with: {'batch_size': 32, 'epochs': 15, 'optimizer': 'RMSprop'}\n",
            "0.466000 with: {'batch_size': 32, 'epochs': 15, 'optimizer': 'Adagrad'}\n",
            "0.472920 with: {'batch_size': 32, 'epochs': 15, 'optimizer': 'Adadelta'}\n",
            "0.468020 with: {'batch_size': 32, 'epochs': 15, 'optimizer': 'Adam'}\n",
            "0.462300 with: {'batch_size': 32, 'epochs': 15, 'optimizer': 'Adamax'}\n",
            "0.465940 with: {'batch_size': 32, 'epochs': 15, 'optimizer': 'Nadam'}\n",
            "0.474620 with: {'batch_size': 32, 'epochs': 20, 'optimizer': 'SGD'}\n",
            "0.468540 with: {'batch_size': 32, 'epochs': 20, 'optimizer': 'RMSprop'}\n",
            "0.475960 with: {'batch_size': 32, 'epochs': 20, 'optimizer': 'Adagrad'}\n",
            "0.478440 with: {'batch_size': 32, 'epochs': 20, 'optimizer': 'Adadelta'}\n",
            "0.468980 with: {'batch_size': 32, 'epochs': 20, 'optimizer': 'Adam'}\n",
            "0.480500 with: {'batch_size': 32, 'epochs': 20, 'optimizer': 'Adamax'}\n",
            "0.462700 with: {'batch_size': 32, 'epochs': 20, 'optimizer': 'Nadam'}\n",
            "0.462040 with: {'batch_size': 64, 'epochs': 10, 'optimizer': 'SGD'}\n",
            "0.462520 with: {'batch_size': 64, 'epochs': 10, 'optimizer': 'RMSprop'}\n",
            "0.463980 with: {'batch_size': 64, 'epochs': 10, 'optimizer': 'Adagrad'}\n",
            "0.462820 with: {'batch_size': 64, 'epochs': 10, 'optimizer': 'Adadelta'}\n",
            "0.460020 with: {'batch_size': 64, 'epochs': 10, 'optimizer': 'Adam'}\n",
            "0.459640 with: {'batch_size': 64, 'epochs': 10, 'optimizer': 'Adamax'}\n",
            "0.462180 with: {'batch_size': 64, 'epochs': 10, 'optimizer': 'Nadam'}\n",
            "0.477600 with: {'batch_size': 64, 'epochs': 15, 'optimizer': 'SGD'}\n",
            "0.475000 with: {'batch_size': 64, 'epochs': 15, 'optimizer': 'RMSprop'}\n",
            "0.474000 with: {'batch_size': 64, 'epochs': 15, 'optimizer': 'Adagrad'}\n",
            "0.473020 with: {'batch_size': 64, 'epochs': 15, 'optimizer': 'Adadelta'}\n",
            "0.478780 with: {'batch_size': 64, 'epochs': 15, 'optimizer': 'Adam'}\n",
            "0.482160 with: {'batch_size': 64, 'epochs': 15, 'optimizer': 'Adamax'}\n",
            "0.460860 with: {'batch_size': 64, 'epochs': 15, 'optimizer': 'Nadam'}\n",
            "0.484920 with: {'batch_size': 64, 'epochs': 20, 'optimizer': 'SGD'}\n",
            "0.483360 with: {'batch_size': 64, 'epochs': 20, 'optimizer': 'RMSprop'}\n",
            "0.474160 with: {'batch_size': 64, 'epochs': 20, 'optimizer': 'Adagrad'}\n",
            "0.476300 with: {'batch_size': 64, 'epochs': 20, 'optimizer': 'Adadelta'}\n",
            "0.483980 with: {'batch_size': 64, 'epochs': 20, 'optimizer': 'Adam'}\n",
            "0.473520 with: {'batch_size': 64, 'epochs': 20, 'optimizer': 'Adamax'}\n",
            "0.481980 with: {'batch_size': 64, 'epochs': 20, 'optimizer': 'Nadam'}\n",
            "0.458320 with: {'batch_size': 128, 'epochs': 10, 'optimizer': 'SGD'}\n",
            "0.465500 with: {'batch_size': 128, 'epochs': 10, 'optimizer': 'RMSprop'}\n",
            "0.457520 with: {'batch_size': 128, 'epochs': 10, 'optimizer': 'Adagrad'}\n",
            "0.458820 with: {'batch_size': 128, 'epochs': 10, 'optimizer': 'Adadelta'}\n",
            "0.463920 with: {'batch_size': 128, 'epochs': 10, 'optimizer': 'Adam'}\n",
            "0.460360 with: {'batch_size': 128, 'epochs': 10, 'optimizer': 'Adamax'}\n",
            "0.464860 with: {'batch_size': 128, 'epochs': 10, 'optimizer': 'Nadam'}\n",
            "0.474520 with: {'batch_size': 128, 'epochs': 15, 'optimizer': 'SGD'}\n",
            "0.478940 with: {'batch_size': 128, 'epochs': 15, 'optimizer': 'RMSprop'}\n",
            "0.476280 with: {'batch_size': 128, 'epochs': 15, 'optimizer': 'Adagrad'}\n",
            "0.482300 with: {'batch_size': 128, 'epochs': 15, 'optimizer': 'Adadelta'}\n",
            "0.474320 with: {'batch_size': 128, 'epochs': 15, 'optimizer': 'Adam'}\n",
            "0.476000 with: {'batch_size': 128, 'epochs': 15, 'optimizer': 'Adamax'}\n",
            "0.478740 with: {'batch_size': 128, 'epochs': 15, 'optimizer': 'Nadam'}\n",
            "0.484760 with: {'batch_size': 128, 'epochs': 20, 'optimizer': 'SGD'}\n",
            "0.485620 with: {'batch_size': 128, 'epochs': 20, 'optimizer': 'RMSprop'}\n",
            "0.479220 with: {'batch_size': 128, 'epochs': 20, 'optimizer': 'Adagrad'}\n",
            "0.486340 with: {'batch_size': 128, 'epochs': 20, 'optimizer': 'Adadelta'}\n",
            "0.483480 with: {'batch_size': 128, 'epochs': 20, 'optimizer': 'Adam'}\n",
            "0.487260 with: {'batch_size': 128, 'epochs': 20, 'optimizer': 'Adamax'}\n",
            "0.480340 with: {'batch_size': 128, 'epochs': 20, 'optimizer': 'Nadam'}\n"
          ]
        }
      ],
      "source": [
        "print(\"Best: %f using %s\" % (grid_result.best_score_,\n",
        "                             grid_result.best_params_))\n",
        "means = grid_result.cv_results_['mean_test_score']\n",
        "params = grid_result.cv_results_['params']\n",
        "for mean, param in zip(means, params):\n",
        "  print(\"%f with: %r\" % (mean, param))"
      ]
    },
    {
      "cell_type": "markdown",
      "metadata": {},
      "source": [
        "The best HP are:\n",
        "batch size = 128\n",
        "epochs = 20\n",
        "adamax optimizer\n",
        "\n",
        "Will proceed with these HP and try to change the architecture of the model to improve accuracy"
      ]
    },
    {
      "cell_type": "markdown",
      "metadata": {},
      "source": [
        "To the model below the regularization was changed from L2 to Elastic Net.\n",
        "Also added more neuron layers and changed the number of neurons"
      ]
    },
    {
      "cell_type": "code",
      "execution_count": 22,
      "metadata": {},
      "outputs": [],
      "source": [
        "from keras.layers import Dropout, BatchNormalization\n",
        "from keras import regularizers\n",
        "from keras.callbacks import EarlyStopping, ReduceLROnPlateau\n",
        "\n",
        "# Building a sequential model\n",
        "\n",
        "model = Sequential()\n",
        "model.add(Dense(1000, input_dim = 3072, activation = 'relu',\n",
        "                kernel_initializer = 'he_normal',\n",
        "                kernel_regularizer = regularizers.l1_l2(1e-5, 1e-3)))\n",
        "model.add(Dense(500, activation = 'relu'))\n",
        "model.add(Dense(250, activation = 'relu'))\n",
        "model.add(Dense(125, activation = 'relu'))\n",
        "model.add(Dense(60, activation = 'relu'))\n",
        "model.add(Dense(30, activation = 'relu'))\n",
        "#model.add(Dropout(rate = 0.2))\n",
        "model.add(Dense(10, activation = 'softmax')) # output layer"
      ]
    },
    {
      "cell_type": "code",
      "execution_count": 106,
      "metadata": {},
      "outputs": [],
      "source": [
        "# compiling the sequential model\n",
        "model.compile(loss = 'categorical_crossentropy',\n",
        "              metrics = ['accuracy'], optimizer = 'adamax')"
      ]
    },
    {
      "cell_type": "code",
      "execution_count": 107,
      "metadata": {},
      "outputs": [],
      "source": [
        "# Callbacks\n",
        "early_stopping = EarlyStopping(monitor='val_loss', patience=10, restore_best_weights=True)\n",
        "reduce_lr = ReduceLROnPlateau(monitor='val_loss', factor=0.2, patience=5, min_lr=0.0001)"
      ]
    },
    {
      "cell_type": "code",
      "execution_count": 109,
      "metadata": {},
      "outputs": [
        {
          "name": "stdout",
          "output_type": "stream",
          "text": [
            "Epoch 1/40\n",
            "\u001b[1m391/391\u001b[0m \u001b[32m━━━━━━━━━━━━━━━━━━━━\u001b[0m\u001b[37m\u001b[0m \u001b[1m12s\u001b[0m 30ms/step - accuracy: 0.4847 - loss: 1.5342 - val_accuracy: 0.4808 - val_loss: 1.5704 - learning_rate: 0.0010\n",
            "Epoch 2/40\n",
            "\u001b[1m391/391\u001b[0m \u001b[32m━━━━━━━━━━━━━━━━━━━━\u001b[0m\u001b[37m\u001b[0m \u001b[1m11s\u001b[0m 28ms/step - accuracy: 0.4885 - loss: 1.5183 - val_accuracy: 0.4616 - val_loss: 1.6096 - learning_rate: 0.0010\n",
            "Epoch 3/40\n",
            "\u001b[1m391/391\u001b[0m \u001b[32m━━━━━━━━━━━━━━━━━━━━\u001b[0m\u001b[37m\u001b[0m \u001b[1m11s\u001b[0m 29ms/step - accuracy: 0.5025 - loss: 1.4785 - val_accuracy: 0.5002 - val_loss: 1.4906 - learning_rate: 0.0010\n",
            "Epoch 4/40\n",
            "\u001b[1m391/391\u001b[0m \u001b[32m━━━━━━━━━━━━━━━━━━━━\u001b[0m\u001b[37m\u001b[0m \u001b[1m11s\u001b[0m 28ms/step - accuracy: 0.5072 - loss: 1.4721 - val_accuracy: 0.4998 - val_loss: 1.4945 - learning_rate: 0.0010\n",
            "Epoch 5/40\n",
            "\u001b[1m391/391\u001b[0m \u001b[32m━━━━━━━━━━━━━━━━━━━━\u001b[0m\u001b[37m\u001b[0m \u001b[1m11s\u001b[0m 29ms/step - accuracy: 0.5140 - loss: 1.4463 - val_accuracy: 0.5098 - val_loss: 1.4803 - learning_rate: 0.0010\n",
            "Epoch 6/40\n",
            "\u001b[1m391/391\u001b[0m \u001b[32m━━━━━━━━━━━━━━━━━━━━\u001b[0m\u001b[37m\u001b[0m \u001b[1m11s\u001b[0m 28ms/step - accuracy: 0.5242 - loss: 1.4207 - val_accuracy: 0.5032 - val_loss: 1.4733 - learning_rate: 0.0010\n",
            "Epoch 7/40\n",
            "\u001b[1m391/391\u001b[0m \u001b[32m━━━━━━━━━━━━━━━━━━━━\u001b[0m\u001b[37m\u001b[0m \u001b[1m11s\u001b[0m 29ms/step - accuracy: 0.5293 - loss: 1.4059 - val_accuracy: 0.5095 - val_loss: 1.4759 - learning_rate: 0.0010\n",
            "Epoch 8/40\n",
            "\u001b[1m391/391\u001b[0m \u001b[32m━━━━━━━━━━━━━━━━━━━━\u001b[0m\u001b[37m\u001b[0m \u001b[1m12s\u001b[0m 30ms/step - accuracy: 0.5353 - loss: 1.3965 - val_accuracy: 0.5170 - val_loss: 1.4576 - learning_rate: 0.0010\n",
            "Epoch 9/40\n",
            "\u001b[1m391/391\u001b[0m \u001b[32m━━━━━━━━━━━━━━━━━━━━\u001b[0m\u001b[37m\u001b[0m \u001b[1m11s\u001b[0m 29ms/step - accuracy: 0.5444 - loss: 1.3684 - val_accuracy: 0.5024 - val_loss: 1.4818 - learning_rate: 0.0010\n",
            "Epoch 10/40\n",
            "\u001b[1m391/391\u001b[0m \u001b[32m━━━━━━━━━━━━━━━━━━━━\u001b[0m\u001b[37m\u001b[0m \u001b[1m12s\u001b[0m 30ms/step - accuracy: 0.5443 - loss: 1.3640 - val_accuracy: 0.4957 - val_loss: 1.4880 - learning_rate: 0.0010\n",
            "Epoch 11/40\n",
            "\u001b[1m391/391\u001b[0m \u001b[32m━━━━━━━━━━━━━━━━━━━━\u001b[0m\u001b[37m\u001b[0m \u001b[1m12s\u001b[0m 31ms/step - accuracy: 0.5590 - loss: 1.3298 - val_accuracy: 0.5124 - val_loss: 1.4587 - learning_rate: 0.0010\n",
            "Epoch 12/40\n",
            "\u001b[1m391/391\u001b[0m \u001b[32m━━━━━━━━━━━━━━━━━━━━\u001b[0m\u001b[37m\u001b[0m \u001b[1m12s\u001b[0m 31ms/step - accuracy: 0.5623 - loss: 1.3297 - val_accuracy: 0.5083 - val_loss: 1.4895 - learning_rate: 0.0010\n",
            "Epoch 13/40\n",
            "\u001b[1m391/391\u001b[0m \u001b[32m━━━━━━━━━━━━━━━━━━━━\u001b[0m\u001b[37m\u001b[0m \u001b[1m12s\u001b[0m 31ms/step - accuracy: 0.5705 - loss: 1.3100 - val_accuracy: 0.5169 - val_loss: 1.4590 - learning_rate: 0.0010\n",
            "Epoch 14/40\n",
            "\u001b[1m391/391\u001b[0m \u001b[32m━━━━━━━━━━━━━━━━━━━━\u001b[0m\u001b[37m\u001b[0m \u001b[1m12s\u001b[0m 30ms/step - accuracy: 0.6077 - loss: 1.2158 - val_accuracy: 0.5507 - val_loss: 1.3806 - learning_rate: 2.0000e-04\n",
            "Epoch 15/40\n",
            "\u001b[1m391/391\u001b[0m \u001b[32m━━━━━━━━━━━━━━━━━━━━\u001b[0m\u001b[37m\u001b[0m \u001b[1m11s\u001b[0m 29ms/step - accuracy: 0.6130 - loss: 1.1849 - val_accuracy: 0.5435 - val_loss: 1.3888 - learning_rate: 2.0000e-04\n",
            "Epoch 16/40\n",
            "\u001b[1m391/391\u001b[0m \u001b[32m━━━━━━━━━━━━━━━━━━━━\u001b[0m\u001b[37m\u001b[0m \u001b[1m11s\u001b[0m 29ms/step - accuracy: 0.6132 - loss: 1.1733 - val_accuracy: 0.5501 - val_loss: 1.3727 - learning_rate: 2.0000e-04\n",
            "Epoch 17/40\n",
            "\u001b[1m391/391\u001b[0m \u001b[32m━━━━━━━━━━━━━━━━━━━━\u001b[0m\u001b[37m\u001b[0m \u001b[1m12s\u001b[0m 30ms/step - accuracy: 0.6248 - loss: 1.1541 - val_accuracy: 0.5497 - val_loss: 1.3825 - learning_rate: 2.0000e-04\n",
            "Epoch 18/40\n",
            "\u001b[1m391/391\u001b[0m \u001b[32m━━━━━━━━━━━━━━━━━━━━\u001b[0m\u001b[37m\u001b[0m \u001b[1m12s\u001b[0m 30ms/step - accuracy: 0.6280 - loss: 1.1462 - val_accuracy: 0.5505 - val_loss: 1.3745 - learning_rate: 2.0000e-04\n",
            "Epoch 19/40\n",
            "\u001b[1m391/391\u001b[0m \u001b[32m━━━━━━━━━━━━━━━━━━━━\u001b[0m\u001b[37m\u001b[0m \u001b[1m11s\u001b[0m 29ms/step - accuracy: 0.6300 - loss: 1.1319 - val_accuracy: 0.5477 - val_loss: 1.3812 - learning_rate: 2.0000e-04\n",
            "Epoch 20/40\n",
            "\u001b[1m391/391\u001b[0m \u001b[32m━━━━━━━━━━━━━━━━━━━━\u001b[0m\u001b[37m\u001b[0m \u001b[1m11s\u001b[0m 29ms/step - accuracy: 0.6378 - loss: 1.1229 - val_accuracy: 0.5478 - val_loss: 1.3764 - learning_rate: 2.0000e-04\n",
            "Epoch 21/40\n",
            "\u001b[1m391/391\u001b[0m \u001b[32m━━━━━━━━━━━━━━━━━━━━\u001b[0m\u001b[37m\u001b[0m \u001b[1m11s\u001b[0m 28ms/step - accuracy: 0.6396 - loss: 1.1138 - val_accuracy: 0.5525 - val_loss: 1.3763 - learning_rate: 2.0000e-04\n",
            "Epoch 22/40\n",
            "\u001b[1m391/391\u001b[0m \u001b[32m━━━━━━━━━━━━━━━━━━━━\u001b[0m\u001b[37m\u001b[0m \u001b[1m12s\u001b[0m 31ms/step - accuracy: 0.6481 - loss: 1.0909 - val_accuracy: 0.5558 - val_loss: 1.3619 - learning_rate: 1.0000e-04\n",
            "Epoch 23/40\n",
            "\u001b[1m391/391\u001b[0m \u001b[32m━━━━━━━━━━━━━━━━━━━━\u001b[0m\u001b[37m\u001b[0m \u001b[1m13s\u001b[0m 32ms/step - accuracy: 0.6550 - loss: 1.0703 - val_accuracy: 0.5566 - val_loss: 1.3669 - learning_rate: 1.0000e-04\n",
            "Epoch 24/40\n",
            "\u001b[1m391/391\u001b[0m \u001b[32m━━━━━━━━━━━━━━━━━━━━\u001b[0m\u001b[37m\u001b[0m \u001b[1m13s\u001b[0m 34ms/step - accuracy: 0.6545 - loss: 1.0645 - val_accuracy: 0.5594 - val_loss: 1.3570 - learning_rate: 1.0000e-04\n",
            "Epoch 25/40\n",
            "\u001b[1m391/391\u001b[0m \u001b[32m━━━━━━━━━━━━━━━━━━━━\u001b[0m\u001b[37m\u001b[0m \u001b[1m14s\u001b[0m 34ms/step - accuracy: 0.6545 - loss: 1.0727 - val_accuracy: 0.5604 - val_loss: 1.3569 - learning_rate: 1.0000e-04\n",
            "Epoch 26/40\n",
            "\u001b[1m391/391\u001b[0m \u001b[32m━━━━━━━━━━━━━━━━━━━━\u001b[0m\u001b[37m\u001b[0m \u001b[1m12s\u001b[0m 31ms/step - accuracy: 0.6593 - loss: 1.0530 - val_accuracy: 0.5580 - val_loss: 1.3612 - learning_rate: 1.0000e-04\n",
            "Epoch 27/40\n",
            "\u001b[1m391/391\u001b[0m \u001b[32m━━━━━━━━━━━━━━━━━━━━\u001b[0m\u001b[37m\u001b[0m \u001b[1m11s\u001b[0m 29ms/step - accuracy: 0.6636 - loss: 1.0469 - val_accuracy: 0.5567 - val_loss: 1.3688 - learning_rate: 1.0000e-04\n",
            "Epoch 28/40\n",
            "\u001b[1m391/391\u001b[0m \u001b[32m━━━━━━━━━━━━━━━━━━━━\u001b[0m\u001b[37m\u001b[0m \u001b[1m11s\u001b[0m 29ms/step - accuracy: 0.6616 - loss: 1.0436 - val_accuracy: 0.5575 - val_loss: 1.3630 - learning_rate: 1.0000e-04\n",
            "Epoch 29/40\n",
            "\u001b[1m391/391\u001b[0m \u001b[32m━━━━━━━━━━━━━━━━━━━━\u001b[0m\u001b[37m\u001b[0m \u001b[1m12s\u001b[0m 31ms/step - accuracy: 0.6656 - loss: 1.0408 - val_accuracy: 0.5574 - val_loss: 1.3667 - learning_rate: 1.0000e-04\n",
            "Epoch 30/40\n",
            "\u001b[1m391/391\u001b[0m \u001b[32m━━━━━━━━━━━━━━━━━━━━\u001b[0m\u001b[37m\u001b[0m \u001b[1m13s\u001b[0m 32ms/step - accuracy: 0.6657 - loss: 1.0338 - val_accuracy: 0.5557 - val_loss: 1.3754 - learning_rate: 1.0000e-04\n",
            "Epoch 31/40\n",
            "\u001b[1m391/391\u001b[0m \u001b[32m━━━━━━━━━━━━━━━━━━━━\u001b[0m\u001b[37m\u001b[0m \u001b[1m13s\u001b[0m 32ms/step - accuracy: 0.6683 - loss: 1.0235 - val_accuracy: 0.5581 - val_loss: 1.3658 - learning_rate: 1.0000e-04\n",
            "Epoch 32/40\n",
            "\u001b[1m391/391\u001b[0m \u001b[32m━━━━━━━━━━━━━━━━━━━━\u001b[0m\u001b[37m\u001b[0m \u001b[1m12s\u001b[0m 31ms/step - accuracy: 0.6710 - loss: 1.0218 - val_accuracy: 0.5591 - val_loss: 1.3642 - learning_rate: 1.0000e-04\n",
            "Epoch 33/40\n",
            "\u001b[1m391/391\u001b[0m \u001b[32m━━━━━━━━━━━━━━━━━━━━\u001b[0m\u001b[37m\u001b[0m \u001b[1m12s\u001b[0m 30ms/step - accuracy: 0.6741 - loss: 1.0162 - val_accuracy: 0.5552 - val_loss: 1.3680 - learning_rate: 1.0000e-04\n",
            "Epoch 34/40\n",
            "\u001b[1m391/391\u001b[0m \u001b[32m━━━━━━━━━━━━━━━━━━━━\u001b[0m\u001b[37m\u001b[0m \u001b[1m11s\u001b[0m 28ms/step - accuracy: 0.6800 - loss: 1.0054 - val_accuracy: 0.5596 - val_loss: 1.3730 - learning_rate: 1.0000e-04\n",
            "Epoch 35/40\n",
            "\u001b[1m391/391\u001b[0m \u001b[32m━━━━━━━━━━━━━━━━━━━━\u001b[0m\u001b[37m\u001b[0m \u001b[1m11s\u001b[0m 28ms/step - accuracy: 0.6794 - loss: 1.0034 - val_accuracy: 0.5583 - val_loss: 1.3730 - learning_rate: 1.0000e-04\n"
          ]
        }
      ],
      "source": [
        "# training the model for 10 epochs\n",
        "history = model.fit(X_train, Y_train, epochs = 40, batch_size = 128,\n",
        "                    validation_data = (X_test, Y_test),\n",
        "                    callbacks=[early_stopping, reduce_lr])"
      ]
    },
    {
      "cell_type": "markdown",
      "metadata": {},
      "source": [
        "New architecture showed much better result with training accuracy of 67.94% validation accuracy of 55.83%\n",
        "\n",
        "Will proceed with other activation functions, the following is LeakyReLU"
      ]
    },
    {
      "cell_type": "code",
      "execution_count": 23,
      "metadata": {},
      "outputs": [
        {
          "name": "stderr",
          "output_type": "stream",
          "text": [
            "C:\\Users\\laric\\AppData\\Local\\Packages\\PythonSoftwareFoundation.Python.3.12_qbz5n2kfra8p0\\LocalCache\\local-packages\\Python312\\site-packages\\keras\\src\\layers\\activations\\leaky_relu.py:41: UserWarning: Argument `alpha` is deprecated. Use `negative_slope` instead.\n",
            "  warnings.warn(\n"
          ]
        }
      ],
      "source": [
        "# Building a sequential model\n",
        "from keras.layers import LeakyReLU\n",
        "\n",
        "model = Sequential()\n",
        "model.add(Dense(1000, input_dim = 3072,\n",
        "                kernel_initializer = 'he_normal',\n",
        "                kernel_regularizer = regularizers.l1_l2(1e-5, 1e-3)))\n",
        "model.add(LeakyReLU(alpha = 0.01))\n",
        "model.add(Dense(500))\n",
        "model.add(LeakyReLU(alpha = 0.01))\n",
        "model.add(Dense(250))\n",
        "model.add(LeakyReLU(alpha = 0.01))\n",
        "model.add(Dense(125))\n",
        "model.add(LeakyReLU(alpha = 0.01))\n",
        "model.add(Dense(60))\n",
        "model.add(LeakyReLU(alpha = 0.01))\n",
        "model.add(Dense(30))\n",
        "model.add(LeakyReLU(alpha = 0.01))\n",
        "#model.add(Dropout(rate = 0.2))\n",
        "model.add(Dense(10, activation = 'softmax')) # output layer"
      ]
    },
    {
      "cell_type": "code",
      "execution_count": 115,
      "metadata": {},
      "outputs": [],
      "source": [
        "# compiling the sequential model\n",
        "model.compile(loss = 'categorical_crossentropy',\n",
        "              metrics = ['accuracy'], optimizer = 'adamax')"
      ]
    },
    {
      "cell_type": "code",
      "execution_count": 116,
      "metadata": {},
      "outputs": [],
      "source": [
        "# Callbacks\n",
        "early_stopping = EarlyStopping(monitor='val_loss', patience=10, restore_best_weights=True)\n",
        "reduce_lr = ReduceLROnPlateau(monitor='val_loss', factor=0.2, patience=5, min_lr=0.0001)"
      ]
    },
    {
      "cell_type": "code",
      "execution_count": 118,
      "metadata": {},
      "outputs": [
        {
          "name": "stdout",
          "output_type": "stream",
          "text": [
            "Epoch 1/30\n",
            "\u001b[1m391/391\u001b[0m \u001b[32m━━━━━━━━━━━━━━━━━━━━\u001b[0m\u001b[37m\u001b[0m \u001b[1m11s\u001b[0m 29ms/step - accuracy: 0.5609 - loss: 1.3301 - val_accuracy: 0.5223 - val_loss: 1.4513 - learning_rate: 0.0010\n",
            "Epoch 2/30\n",
            "\u001b[1m391/391\u001b[0m \u001b[32m━━━━━━━━━━━━━━━━━━━━\u001b[0m\u001b[37m\u001b[0m \u001b[1m11s\u001b[0m 28ms/step - accuracy: 0.5694 - loss: 1.3183 - val_accuracy: 0.5183 - val_loss: 1.4876 - learning_rate: 0.0010\n",
            "Epoch 3/30\n",
            "\u001b[1m391/391\u001b[0m \u001b[32m━━━━━━━━━━━━━━━━━━━━\u001b[0m\u001b[37m\u001b[0m \u001b[1m11s\u001b[0m 29ms/step - accuracy: 0.5729 - loss: 1.3082 - val_accuracy: 0.5243 - val_loss: 1.4511 - learning_rate: 0.0010\n",
            "Epoch 4/30\n",
            "\u001b[1m391/391\u001b[0m \u001b[32m━━━━━━━━━━━━━━━━━━━━\u001b[0m\u001b[37m\u001b[0m \u001b[1m12s\u001b[0m 31ms/step - accuracy: 0.5797 - loss: 1.2797 - val_accuracy: 0.5246 - val_loss: 1.4423 - learning_rate: 0.0010\n",
            "Epoch 5/30\n",
            "\u001b[1m391/391\u001b[0m \u001b[32m━━━━━━━━━━━━━━━━━━━━\u001b[0m\u001b[37m\u001b[0m \u001b[1m12s\u001b[0m 30ms/step - accuracy: 0.5851 - loss: 1.2679 - val_accuracy: 0.5244 - val_loss: 1.4510 - learning_rate: 0.0010\n",
            "Epoch 6/30\n",
            "\u001b[1m391/391\u001b[0m \u001b[32m━━━━━━━━━━━━━━━━━━━━\u001b[0m\u001b[37m\u001b[0m \u001b[1m11s\u001b[0m 29ms/step - accuracy: 0.5886 - loss: 1.2590 - val_accuracy: 0.5106 - val_loss: 1.4907 - learning_rate: 0.0010\n",
            "Epoch 7/30\n",
            "\u001b[1m391/391\u001b[0m \u001b[32m━━━━━━━━━━━━━━━━━━━━\u001b[0m\u001b[37m\u001b[0m \u001b[1m11s\u001b[0m 27ms/step - accuracy: 0.5919 - loss: 1.2543 - val_accuracy: 0.5215 - val_loss: 1.4905 - learning_rate: 0.0010\n",
            "Epoch 8/30\n",
            "\u001b[1m391/391\u001b[0m \u001b[32m━━━━━━━━━━━━━━━━━━━━\u001b[0m\u001b[37m\u001b[0m \u001b[1m11s\u001b[0m 27ms/step - accuracy: 0.6065 - loss: 1.2184 - val_accuracy: 0.5194 - val_loss: 1.4995 - learning_rate: 0.0010\n",
            "Epoch 9/30\n",
            "\u001b[1m391/391\u001b[0m \u001b[32m━━━━━━━━━━━━━━━━━━━━\u001b[0m\u001b[37m\u001b[0m \u001b[1m11s\u001b[0m 28ms/step - accuracy: 0.6048 - loss: 1.2273 - val_accuracy: 0.5311 - val_loss: 1.4568 - learning_rate: 0.0010\n",
            "Epoch 10/30\n",
            "\u001b[1m391/391\u001b[0m \u001b[32m━━━━━━━━━━━━━━━━━━━━\u001b[0m\u001b[37m\u001b[0m \u001b[1m11s\u001b[0m 28ms/step - accuracy: 0.6534 - loss: 1.0972 - val_accuracy: 0.5597 - val_loss: 1.3829 - learning_rate: 2.0000e-04\n",
            "Epoch 11/30\n",
            "\u001b[1m391/391\u001b[0m \u001b[32m━━━━━━━━━━━━━━━━━━━━\u001b[0m\u001b[37m\u001b[0m \u001b[1m11s\u001b[0m 28ms/step - accuracy: 0.6617 - loss: 1.0635 - val_accuracy: 0.5599 - val_loss: 1.3935 - learning_rate: 2.0000e-04\n",
            "Epoch 12/30\n",
            "\u001b[1m391/391\u001b[0m \u001b[32m━━━━━━━━━━━━━━━━━━━━\u001b[0m\u001b[37m\u001b[0m \u001b[1m11s\u001b[0m 28ms/step - accuracy: 0.6675 - loss: 1.0444 - val_accuracy: 0.5587 - val_loss: 1.3840 - learning_rate: 2.0000e-04\n",
            "Epoch 13/30\n",
            "\u001b[1m391/391\u001b[0m \u001b[32m━━━━━━━━━━━━━━━━━━━━\u001b[0m\u001b[37m\u001b[0m \u001b[1m11s\u001b[0m 28ms/step - accuracy: 0.6734 - loss: 1.0297 - val_accuracy: 0.5589 - val_loss: 1.3778 - learning_rate: 2.0000e-04\n",
            "Epoch 14/30\n",
            "\u001b[1m391/391\u001b[0m \u001b[32m━━━━━━━━━━━━━━━━━━━━\u001b[0m\u001b[37m\u001b[0m \u001b[1m11s\u001b[0m 29ms/step - accuracy: 0.6742 - loss: 1.0268 - val_accuracy: 0.5539 - val_loss: 1.4165 - learning_rate: 2.0000e-04\n",
            "Epoch 15/30\n",
            "\u001b[1m391/391\u001b[0m \u001b[32m━━━━━━━━━━━━━━━━━━━━\u001b[0m\u001b[37m\u001b[0m \u001b[1m12s\u001b[0m 30ms/step - accuracy: 0.6779 - loss: 1.0137 - val_accuracy: 0.5565 - val_loss: 1.3902 - learning_rate: 2.0000e-04\n",
            "Epoch 16/30\n",
            "\u001b[1m391/391\u001b[0m \u001b[32m━━━━━━━━━━━━━━━━━━━━\u001b[0m\u001b[37m\u001b[0m \u001b[1m11s\u001b[0m 29ms/step - accuracy: 0.6848 - loss: 0.9964 - val_accuracy: 0.5570 - val_loss: 1.3961 - learning_rate: 2.0000e-04\n",
            "Epoch 17/30\n",
            "\u001b[1m391/391\u001b[0m \u001b[32m━━━━━━━━━━━━━━━━━━━━\u001b[0m\u001b[37m\u001b[0m \u001b[1m11s\u001b[0m 29ms/step - accuracy: 0.6871 - loss: 0.9912 - val_accuracy: 0.5523 - val_loss: 1.4205 - learning_rate: 2.0000e-04\n",
            "Epoch 18/30\n",
            "\u001b[1m391/391\u001b[0m \u001b[32m━━━━━━━━━━━━━━━━━━━━\u001b[0m\u001b[37m\u001b[0m \u001b[1m11s\u001b[0m 28ms/step - accuracy: 0.6915 - loss: 0.9825 - val_accuracy: 0.5563 - val_loss: 1.4084 - learning_rate: 2.0000e-04\n",
            "Epoch 19/30\n",
            "\u001b[1m391/391\u001b[0m \u001b[32m━━━━━━━━━━━━━━━━━━━━\u001b[0m\u001b[37m\u001b[0m \u001b[1m13s\u001b[0m 32ms/step - accuracy: 0.6994 - loss: 0.9560 - val_accuracy: 0.5579 - val_loss: 1.4081 - learning_rate: 1.0000e-04\n",
            "Epoch 20/30\n",
            "\u001b[1m391/391\u001b[0m \u001b[32m━━━━━━━━━━━━━━━━━━━━\u001b[0m\u001b[37m\u001b[0m \u001b[1m13s\u001b[0m 32ms/step - accuracy: 0.7019 - loss: 0.9449 - val_accuracy: 0.5587 - val_loss: 1.4021 - learning_rate: 1.0000e-04\n",
            "Epoch 21/30\n",
            "\u001b[1m391/391\u001b[0m \u001b[32m━━━━━━━━━━━━━━━━━━━━\u001b[0m\u001b[37m\u001b[0m \u001b[1m13s\u001b[0m 32ms/step - accuracy: 0.7078 - loss: 0.9340 - val_accuracy: 0.5596 - val_loss: 1.4009 - learning_rate: 1.0000e-04\n",
            "Epoch 22/30\n",
            "\u001b[1m391/391\u001b[0m \u001b[32m━━━━━━━━━━━━━━━━━━━━\u001b[0m\u001b[37m\u001b[0m \u001b[1m12s\u001b[0m 31ms/step - accuracy: 0.7117 - loss: 0.9283 - val_accuracy: 0.5641 - val_loss: 1.4041 - learning_rate: 1.0000e-04\n",
            "Epoch 23/30\n",
            "\u001b[1m391/391\u001b[0m \u001b[32m━━━━━━━━━━━━━━━━━━━━\u001b[0m\u001b[37m\u001b[0m \u001b[1m11s\u001b[0m 29ms/step - accuracy: 0.7141 - loss: 0.9194 - val_accuracy: 0.5573 - val_loss: 1.4161 - learning_rate: 1.0000e-04\n"
          ]
        }
      ],
      "source": [
        "# training the model for 10 epochs\n",
        "history = model.fit(X_train, Y_train, epochs = 30, batch_size = 128,\n",
        "                    validation_data = (X_test, Y_test),\n",
        "                    callbacks=[early_stopping, reduce_lr])"
      ]
    },
    {
      "cell_type": "markdown",
      "metadata": {},
      "source": [
        "Overall the perfomance is the same in terms of validation accuracy. Will try a new Swish activation function which outperforms Relu in some cases."
      ]
    },
    {
      "cell_type": "code",
      "execution_count": 122,
      "metadata": {},
      "outputs": [
        {
          "name": "stderr",
          "output_type": "stream",
          "text": [
            "C:\\Users\\laric\\AppData\\Local\\Packages\\PythonSoftwareFoundation.Python.3.12_qbz5n2kfra8p0\\LocalCache\\local-packages\\Python312\\site-packages\\keras\\src\\layers\\core\\dense.py:87: UserWarning: Do not pass an `input_shape`/`input_dim` argument to a layer. When using Sequential models, prefer using an `Input(shape)` object as the first layer in the model instead.\n",
            "  super().__init__(activity_regularizer=activity_regularizer, **kwargs)\n"
          ]
        }
      ],
      "source": [
        "# Building a sequential model\n",
        "from keras.layers import LeakyReLU\n",
        "\n",
        "model = Sequential()\n",
        "model.add(Dense(1000, input_dim = 3072,\n",
        "                kernel_initializer = 'he_normal',\n",
        "                kernel_regularizer = regularizers.l1_l2(1e-5, 1e-3)))\n",
        "model.add(tf.keras.layers.Activation('swish'))\n",
        "model.add(Dense(500))\n",
        "model.add(tf.keras.layers.Activation('swish'))\n",
        "model.add(Dense(250))\n",
        "model.add(tf.keras.layers.Activation('swish'))\n",
        "model.add(Dense(125))\n",
        "model.add(tf.keras.layers.Activation('swish'))\n",
        "model.add(Dense(60))\n",
        "model.add(tf.keras.layers.Activation('swish'))\n",
        "model.add(Dense(30))\n",
        "model.add(tf.keras.layers.Activation('swish'))\n",
        "#model.add(Dropout(rate = 0.2))\n",
        "model.add(Dense(10, activation = 'softmax')) # output layer"
      ]
    },
    {
      "cell_type": "code",
      "execution_count": 123,
      "metadata": {},
      "outputs": [],
      "source": [
        "# compiling the sequential model\n",
        "model.compile(loss = 'categorical_crossentropy',\n",
        "              metrics = ['accuracy'], optimizer = 'adamax')"
      ]
    },
    {
      "cell_type": "code",
      "execution_count": 124,
      "metadata": {},
      "outputs": [],
      "source": [
        "# Callbacks\n",
        "early_stopping = EarlyStopping(monitor='val_loss', patience=10, restore_best_weights=True)\n",
        "reduce_lr = ReduceLROnPlateau(monitor='val_loss', factor=0.2, patience=5, min_lr=0.0001)"
      ]
    },
    {
      "cell_type": "code",
      "execution_count": 125,
      "metadata": {},
      "outputs": [
        {
          "name": "stdout",
          "output_type": "stream",
          "text": [
            "Epoch 1/50\n",
            "\u001b[1m391/391\u001b[0m \u001b[32m━━━━━━━━━━━━━━━━━━━━\u001b[0m\u001b[37m\u001b[0m \u001b[1m13s\u001b[0m 29ms/step - accuracy: 0.2566 - loss: 3.8733 - val_accuracy: 0.3628 - val_loss: 2.6930 - learning_rate: 0.0010\n",
            "Epoch 2/50\n",
            "\u001b[1m391/391\u001b[0m \u001b[32m━━━━━━━━━━━━━━━━━━━━\u001b[0m\u001b[37m\u001b[0m \u001b[1m11s\u001b[0m 28ms/step - accuracy: 0.3766 - loss: 2.5258 - val_accuracy: 0.4143 - val_loss: 2.1320 - learning_rate: 0.0010\n",
            "Epoch 3/50\n",
            "\u001b[1m391/391\u001b[0m \u001b[32m━━━━━━━━━━━━━━━━━━━━\u001b[0m\u001b[37m\u001b[0m \u001b[1m11s\u001b[0m 28ms/step - accuracy: 0.4055 - loss: 2.0854 - val_accuracy: 0.4307 - val_loss: 1.8906 - learning_rate: 0.0010\n",
            "Epoch 4/50\n",
            "\u001b[1m391/391\u001b[0m \u001b[32m━━━━━━━━━━━━━━━━━━━━\u001b[0m\u001b[37m\u001b[0m \u001b[1m11s\u001b[0m 28ms/step - accuracy: 0.4201 - loss: 1.8702 - val_accuracy: 0.4329 - val_loss: 1.7900 - learning_rate: 0.0010\n",
            "Epoch 5/50\n",
            "\u001b[1m391/391\u001b[0m \u001b[32m━━━━━━━━━━━━━━━━━━━━\u001b[0m\u001b[37m\u001b[0m \u001b[1m12s\u001b[0m 29ms/step - accuracy: 0.4446 - loss: 1.7248 - val_accuracy: 0.4422 - val_loss: 1.7235 - learning_rate: 0.0010\n",
            "Epoch 6/50\n",
            "\u001b[1m391/391\u001b[0m \u001b[32m━━━━━━━━━━━━━━━━━━━━\u001b[0m\u001b[37m\u001b[0m \u001b[1m11s\u001b[0m 29ms/step - accuracy: 0.4586 - loss: 1.6598 - val_accuracy: 0.4675 - val_loss: 1.6546 - learning_rate: 0.0010\n",
            "Epoch 7/50\n",
            "\u001b[1m391/391\u001b[0m \u001b[32m━━━━━━━━━━━━━━━━━━━━\u001b[0m\u001b[37m\u001b[0m \u001b[1m12s\u001b[0m 30ms/step - accuracy: 0.4681 - loss: 1.6184 - val_accuracy: 0.4896 - val_loss: 1.5844 - learning_rate: 0.0010\n",
            "Epoch 8/50\n",
            "\u001b[1m391/391\u001b[0m \u001b[32m━━━━━━━━━━━━━━━━━━━━\u001b[0m\u001b[37m\u001b[0m \u001b[1m12s\u001b[0m 29ms/step - accuracy: 0.4841 - loss: 1.5693 - val_accuracy: 0.4616 - val_loss: 1.6355 - learning_rate: 0.0010\n",
            "Epoch 9/50\n",
            "\u001b[1m391/391\u001b[0m \u001b[32m━━━━━━━━━━━━━━━━━━━━\u001b[0m\u001b[37m\u001b[0m \u001b[1m11s\u001b[0m 29ms/step - accuracy: 0.4858 - loss: 1.5555 - val_accuracy: 0.4781 - val_loss: 1.5796 - learning_rate: 0.0010\n",
            "Epoch 10/50\n",
            "\u001b[1m391/391\u001b[0m \u001b[32m━━━━━━━━━━━━━━━━━━━━\u001b[0m\u001b[37m\u001b[0m \u001b[1m11s\u001b[0m 28ms/step - accuracy: 0.4894 - loss: 1.5429 - val_accuracy: 0.4831 - val_loss: 1.5688 - learning_rate: 0.0010\n",
            "Epoch 11/50\n",
            "\u001b[1m391/391\u001b[0m \u001b[32m━━━━━━━━━━━━━━━━━━━━\u001b[0m\u001b[37m\u001b[0m \u001b[1m12s\u001b[0m 30ms/step - accuracy: 0.5003 - loss: 1.5093 - val_accuracy: 0.4816 - val_loss: 1.5755 - learning_rate: 0.0010\n",
            "Epoch 12/50\n",
            "\u001b[1m391/391\u001b[0m \u001b[32m━━━━━━━━━━━━━━━━━━━━\u001b[0m\u001b[37m\u001b[0m \u001b[1m12s\u001b[0m 30ms/step - accuracy: 0.5098 - loss: 1.4900 - val_accuracy: 0.4941 - val_loss: 1.5452 - learning_rate: 0.0010\n",
            "Epoch 13/50\n",
            "\u001b[1m391/391\u001b[0m \u001b[32m━━━━━━━━━━━━━━━━━━━━\u001b[0m\u001b[37m\u001b[0m \u001b[1m12s\u001b[0m 29ms/step - accuracy: 0.5182 - loss: 1.4690 - val_accuracy: 0.4983 - val_loss: 1.5297 - learning_rate: 0.0010\n",
            "Epoch 14/50\n",
            "\u001b[1m391/391\u001b[0m \u001b[32m━━━━━━━━━━━━━━━━━━━━\u001b[0m\u001b[37m\u001b[0m \u001b[1m11s\u001b[0m 28ms/step - accuracy: 0.5192 - loss: 1.4630 - val_accuracy: 0.4988 - val_loss: 1.5324 - learning_rate: 0.0010\n",
            "Epoch 15/50\n",
            "\u001b[1m391/391\u001b[0m \u001b[32m━━━━━━━━━━━━━━━━━━━━\u001b[0m\u001b[37m\u001b[0m \u001b[1m11s\u001b[0m 29ms/step - accuracy: 0.5270 - loss: 1.4444 - val_accuracy: 0.5021 - val_loss: 1.5355 - learning_rate: 0.0010\n",
            "Epoch 16/50\n",
            "\u001b[1m391/391\u001b[0m \u001b[32m━━━━━━━━━━━━━━━━━━━━\u001b[0m\u001b[37m\u001b[0m \u001b[1m11s\u001b[0m 29ms/step - accuracy: 0.5313 - loss: 1.4250 - val_accuracy: 0.5159 - val_loss: 1.4879 - learning_rate: 0.0010\n",
            "Epoch 17/50\n",
            "\u001b[1m391/391\u001b[0m \u001b[32m━━━━━━━━━━━━━━━━━━━━\u001b[0m\u001b[37m\u001b[0m \u001b[1m12s\u001b[0m 30ms/step - accuracy: 0.5433 - loss: 1.3992 - val_accuracy: 0.5138 - val_loss: 1.5032 - learning_rate: 0.0010\n",
            "Epoch 18/50\n",
            "\u001b[1m391/391\u001b[0m \u001b[32m━━━━━━━━━━━━━━━━━━━━\u001b[0m\u001b[37m\u001b[0m \u001b[1m11s\u001b[0m 29ms/step - accuracy: 0.5385 - loss: 1.4052 - val_accuracy: 0.5201 - val_loss: 1.4926 - learning_rate: 0.0010\n",
            "Epoch 19/50\n",
            "\u001b[1m391/391\u001b[0m \u001b[32m━━━━━━━━━━━━━━━━━━━━\u001b[0m\u001b[37m\u001b[0m \u001b[1m11s\u001b[0m 29ms/step - accuracy: 0.5543 - loss: 1.3713 - val_accuracy: 0.5154 - val_loss: 1.4950 - learning_rate: 0.0010\n",
            "Epoch 20/50\n",
            "\u001b[1m391/391\u001b[0m \u001b[32m━━━━━━━━━━━━━━━━━━━━\u001b[0m\u001b[37m\u001b[0m \u001b[1m11s\u001b[0m 29ms/step - accuracy: 0.5572 - loss: 1.3625 - val_accuracy: 0.5177 - val_loss: 1.4999 - learning_rate: 0.0010\n",
            "Epoch 21/50\n",
            "\u001b[1m391/391\u001b[0m \u001b[32m━━━━━━━━━━━━━━━━━━━━\u001b[0m\u001b[37m\u001b[0m \u001b[1m11s\u001b[0m 29ms/step - accuracy: 0.5619 - loss: 1.3526 - val_accuracy: 0.4920 - val_loss: 1.5653 - learning_rate: 0.0010\n",
            "Epoch 22/50\n",
            "\u001b[1m391/391\u001b[0m \u001b[32m━━━━━━━━━━━━━━━━━━━━\u001b[0m\u001b[37m\u001b[0m \u001b[1m11s\u001b[0m 29ms/step - accuracy: 0.5983 - loss: 1.2539 - val_accuracy: 0.5364 - val_loss: 1.4406 - learning_rate: 2.0000e-04\n",
            "Epoch 23/50\n",
            "\u001b[1m391/391\u001b[0m \u001b[32m━━━━━━━━━━━━━━━━━━━━\u001b[0m\u001b[37m\u001b[0m \u001b[1m11s\u001b[0m 29ms/step - accuracy: 0.6081 - loss: 1.2094 - val_accuracy: 0.5410 - val_loss: 1.4406 - learning_rate: 2.0000e-04\n",
            "Epoch 24/50\n",
            "\u001b[1m391/391\u001b[0m \u001b[32m━━━━━━━━━━━━━━━━━━━━\u001b[0m\u001b[37m\u001b[0m \u001b[1m11s\u001b[0m 29ms/step - accuracy: 0.6162 - loss: 1.2001 - val_accuracy: 0.5351 - val_loss: 1.4542 - learning_rate: 2.0000e-04\n",
            "Epoch 25/50\n",
            "\u001b[1m391/391\u001b[0m \u001b[32m━━━━━━━━━━━━━━━━━━━━\u001b[0m\u001b[37m\u001b[0m \u001b[1m11s\u001b[0m 29ms/step - accuracy: 0.6194 - loss: 1.1826 - val_accuracy: 0.5407 - val_loss: 1.4379 - learning_rate: 2.0000e-04\n",
            "Epoch 26/50\n",
            "\u001b[1m391/391\u001b[0m \u001b[32m━━━━━━━━━━━━━━━━━━━━\u001b[0m\u001b[37m\u001b[0m \u001b[1m12s\u001b[0m 29ms/step - accuracy: 0.6212 - loss: 1.1743 - val_accuracy: 0.5391 - val_loss: 1.4473 - learning_rate: 2.0000e-04\n",
            "Epoch 27/50\n",
            "\u001b[1m391/391\u001b[0m \u001b[32m━━━━━━━━━━━━━━━━━━━━\u001b[0m\u001b[37m\u001b[0m \u001b[1m11s\u001b[0m 28ms/step - accuracy: 0.6256 - loss: 1.1688 - val_accuracy: 0.5397 - val_loss: 1.4426 - learning_rate: 2.0000e-04\n",
            "Epoch 28/50\n",
            "\u001b[1m391/391\u001b[0m \u001b[32m━━━━━━━━━━━━━━━━━━━━\u001b[0m\u001b[37m\u001b[0m \u001b[1m11s\u001b[0m 29ms/step - accuracy: 0.6250 - loss: 1.1703 - val_accuracy: 0.5450 - val_loss: 1.4297 - learning_rate: 2.0000e-04\n",
            "Epoch 29/50\n",
            "\u001b[1m391/391\u001b[0m \u001b[32m━━━━━━━━━━━━━━━━━━━━\u001b[0m\u001b[37m\u001b[0m \u001b[1m11s\u001b[0m 28ms/step - accuracy: 0.6278 - loss: 1.1565 - val_accuracy: 0.5417 - val_loss: 1.4410 - learning_rate: 2.0000e-04\n",
            "Epoch 30/50\n",
            "\u001b[1m391/391\u001b[0m \u001b[32m━━━━━━━━━━━━━━━━━━━━\u001b[0m\u001b[37m\u001b[0m \u001b[1m11s\u001b[0m 29ms/step - accuracy: 0.6268 - loss: 1.1574 - val_accuracy: 0.5447 - val_loss: 1.4475 - learning_rate: 2.0000e-04\n",
            "Epoch 31/50\n",
            "\u001b[1m391/391\u001b[0m \u001b[32m━━━━━━━━━━━━━━━━━━━━\u001b[0m\u001b[37m\u001b[0m \u001b[1m11s\u001b[0m 29ms/step - accuracy: 0.6349 - loss: 1.1383 - val_accuracy: 0.5419 - val_loss: 1.4408 - learning_rate: 2.0000e-04\n",
            "Epoch 32/50\n",
            "\u001b[1m391/391\u001b[0m \u001b[32m━━━━━━━━━━━━━━━━━━━━\u001b[0m\u001b[37m\u001b[0m \u001b[1m11s\u001b[0m 29ms/step - accuracy: 0.6322 - loss: 1.1421 - val_accuracy: 0.5452 - val_loss: 1.4336 - learning_rate: 2.0000e-04\n",
            "Epoch 33/50\n",
            "\u001b[1m391/391\u001b[0m \u001b[32m━━━━━━━━━━━━━━━━━━━━\u001b[0m\u001b[37m\u001b[0m \u001b[1m11s\u001b[0m 28ms/step - accuracy: 0.6366 - loss: 1.1351 - val_accuracy: 0.5453 - val_loss: 1.4333 - learning_rate: 2.0000e-04\n",
            "Epoch 34/50\n",
            "\u001b[1m391/391\u001b[0m \u001b[32m━━━━━━━━━━━━━━━━━━━━\u001b[0m\u001b[37m\u001b[0m \u001b[1m11s\u001b[0m 28ms/step - accuracy: 0.6452 - loss: 1.1082 - val_accuracy: 0.5427 - val_loss: 1.4330 - learning_rate: 1.0000e-04\n",
            "Epoch 35/50\n",
            "\u001b[1m391/391\u001b[0m \u001b[32m━━━━━━━━━━━━━━━━━━━━\u001b[0m\u001b[37m\u001b[0m \u001b[1m11s\u001b[0m 28ms/step - accuracy: 0.6509 - loss: 1.0964 - val_accuracy: 0.5493 - val_loss: 1.4247 - learning_rate: 1.0000e-04\n",
            "Epoch 36/50\n",
            "\u001b[1m391/391\u001b[0m \u001b[32m━━━━━━━━━━━━━━━━━━━━\u001b[0m\u001b[37m\u001b[0m \u001b[1m11s\u001b[0m 28ms/step - accuracy: 0.6545 - loss: 1.0869 - val_accuracy: 0.5411 - val_loss: 1.4627 - learning_rate: 1.0000e-04\n",
            "Epoch 37/50\n",
            "\u001b[1m391/391\u001b[0m \u001b[32m━━━━━━━━━━━━━━━━━━━━\u001b[0m\u001b[37m\u001b[0m \u001b[1m12s\u001b[0m 30ms/step - accuracy: 0.6535 - loss: 1.0832 - val_accuracy: 0.5495 - val_loss: 1.4379 - learning_rate: 1.0000e-04\n",
            "Epoch 38/50\n",
            "\u001b[1m391/391\u001b[0m \u001b[32m━━━━━━━━━━━━━━━━━━━━\u001b[0m\u001b[37m\u001b[0m \u001b[1m11s\u001b[0m 29ms/step - accuracy: 0.6551 - loss: 1.0789 - val_accuracy: 0.5492 - val_loss: 1.4264 - learning_rate: 1.0000e-04\n",
            "Epoch 39/50\n",
            "\u001b[1m391/391\u001b[0m \u001b[32m━━━━━━━━━━━━━━━━━━━━\u001b[0m\u001b[37m\u001b[0m \u001b[1m11s\u001b[0m 28ms/step - accuracy: 0.6526 - loss: 1.0878 - val_accuracy: 0.5486 - val_loss: 1.4400 - learning_rate: 1.0000e-04\n",
            "Epoch 40/50\n",
            "\u001b[1m391/391\u001b[0m \u001b[32m━━━━━━━━━━━━━━━━━━━━\u001b[0m\u001b[37m\u001b[0m \u001b[1m11s\u001b[0m 29ms/step - accuracy: 0.6599 - loss: 1.0748 - val_accuracy: 0.5475 - val_loss: 1.4361 - learning_rate: 1.0000e-04\n",
            "Epoch 41/50\n",
            "\u001b[1m391/391\u001b[0m \u001b[32m━━━━━━━━━━━━━━━━━━━━\u001b[0m\u001b[37m\u001b[0m \u001b[1m12s\u001b[0m 30ms/step - accuracy: 0.6569 - loss: 1.0785 - val_accuracy: 0.5472 - val_loss: 1.4452 - learning_rate: 1.0000e-04\n",
            "Epoch 42/50\n",
            "\u001b[1m391/391\u001b[0m \u001b[32m━━━━━━━━━━━━━━━━━━━━\u001b[0m\u001b[37m\u001b[0m \u001b[1m11s\u001b[0m 29ms/step - accuracy: 0.6597 - loss: 1.0708 - val_accuracy: 0.5468 - val_loss: 1.4510 - learning_rate: 1.0000e-04\n",
            "Epoch 43/50\n",
            "\u001b[1m391/391\u001b[0m \u001b[32m━━━━━━━━━━━━━━━━━━━━\u001b[0m\u001b[37m\u001b[0m \u001b[1m11s\u001b[0m 28ms/step - accuracy: 0.6608 - loss: 1.0635 - val_accuracy: 0.5558 - val_loss: 1.4337 - learning_rate: 1.0000e-04\n",
            "Epoch 44/50\n",
            "\u001b[1m391/391\u001b[0m \u001b[32m━━━━━━━━━━━━━━━━━━━━\u001b[0m\u001b[37m\u001b[0m \u001b[1m11s\u001b[0m 28ms/step - accuracy: 0.6624 - loss: 1.0599 - val_accuracy: 0.5507 - val_loss: 1.4423 - learning_rate: 1.0000e-04\n",
            "Epoch 45/50\n",
            "\u001b[1m391/391\u001b[0m \u001b[32m━━━━━━━━━━━━━━━━━━━━\u001b[0m\u001b[37m\u001b[0m \u001b[1m11s\u001b[0m 28ms/step - accuracy: 0.6610 - loss: 1.0643 - val_accuracy: 0.5506 - val_loss: 1.4438 - learning_rate: 1.0000e-04\n"
          ]
        }
      ],
      "source": [
        "# training the model for 10 epochs\n",
        "history = model.fit(X_train, Y_train, epochs = 50, batch_size = 128,\n",
        "                    validation_data = (X_test, Y_test),\n",
        "                    callbacks=[early_stopping, reduce_lr])"
      ]
    },
    {
      "cell_type": "markdown",
      "metadata": {},
      "source": [
        "Architecture with Relu activation function remains the best across all tested activation fucntions.\n",
        "The following step is running Grid search CV for the last time."
      ]
    },
    {
      "cell_type": "code",
      "execution_count": 24,
      "metadata": {},
      "outputs": [],
      "source": [
        "# Function to create model, required for KerasClassifier\n",
        "def create_model():\n",
        "    model = Sequential()\n",
        "    model.add(Dense(1000, input_dim = 3072, activation = 'relu',\n",
        "                kernel_initializer = 'he_normal',\n",
        "                kernel_regularizer = regularizers.l1_l2(1e-5, 1e-3)))\n",
        "    model.add(Dense(500, activation = 'relu'))\n",
        "    model.add(Dense(250, activation = 'relu'))\n",
        "    model.add(Dense(125, activation = 'relu'))\n",
        "    model.add(Dense(60, activation = 'relu'))\n",
        "    model.add(Dense(30, activation = 'relu'))\n",
        "    #model.add(Dropout(rate = 0.2))\n",
        "    model.add(Dense(10, activation = 'softmax')) # output layer\n",
        "    # Compile model\n",
        "    model.compile(loss = 'categorical_crossentropy',\n",
        "                optimizer = 'adamax', metrics = ['accuracy'])\n",
        "\n",
        "    return model"
      ]
    },
    {
      "cell_type": "code",
      "execution_count": 25,
      "metadata": {},
      "outputs": [],
      "source": [
        "from scikeras.wrappers import KerasClassifier\n",
        "# create model\n",
        "model = KerasClassifier(build_fn = create_model, verbose = 0)"
      ]
    },
    {
      "cell_type": "code",
      "execution_count": 26,
      "metadata": {},
      "outputs": [],
      "source": [
        "# define the grid search parameters\n",
        "batch_size = [32, 64, 128]\n",
        "epochs = [20]\n",
        "optimizer = ['SGD', 'RMSprop', 'Adam', 'Adamax', 'Nadam']\n",
        "param_grid = dict(batch_size = batch_size, epochs = epochs,\n",
        "                  optimizer = optimizer)\n",
        "grid = GridSearchCV(estimator = model, param_grid = param_grid,\n",
        "                    n_jobs = -1, cv = 4)"
      ]
    },
    {
      "cell_type": "code",
      "execution_count": 30,
      "metadata": {},
      "outputs": [
        {
          "name": "stderr",
          "output_type": "stream",
          "text": [
            "C:\\Users\\laric\\AppData\\Local\\Packages\\PythonSoftwareFoundation.Python.3.12_qbz5n2kfra8p0\\LocalCache\\local-packages\\Python312\\site-packages\\scikeras\\wrappers.py:925: UserWarning: ``build_fn`` will be renamed to ``model`` in a future release, at which point use of ``build_fn`` will raise an Error instead.\n",
            "  X, y = self._initialize(X, y)\n",
            "C:\\Users\\laric\\AppData\\Local\\Packages\\PythonSoftwareFoundation.Python.3.12_qbz5n2kfra8p0\\LocalCache\\local-packages\\Python312\\site-packages\\keras\\src\\layers\\core\\dense.py:87: UserWarning: Do not pass an `input_shape`/`input_dim` argument to a layer. When using Sequential models, prefer using an `Input(shape)` object as the first layer in the model instead.\n",
            "  super().__init__(activity_regularizer=activity_regularizer, **kwargs)\n"
          ]
        }
      ],
      "source": [
        "grid_result = grid.fit(X_train, Y_train)"
      ]
    },
    {
      "cell_type": "code",
      "execution_count": 31,
      "metadata": {},
      "outputs": [
        {
          "name": "stdout",
          "output_type": "stream",
          "text": [
            "Best: 0.495960 using {'batch_size': 128, 'epochs': 20, 'optimizer': 'RMSprop'}\n",
            "0.491020 with: {'batch_size': 32, 'epochs': 20, 'optimizer': 'SGD'}\n",
            "0.487320 with: {'batch_size': 32, 'epochs': 20, 'optimizer': 'RMSprop'}\n",
            "0.480620 with: {'batch_size': 32, 'epochs': 20, 'optimizer': 'Adam'}\n",
            "0.493140 with: {'batch_size': 32, 'epochs': 20, 'optimizer': 'Adamax'}\n",
            "0.490260 with: {'batch_size': 32, 'epochs': 20, 'optimizer': 'Nadam'}\n",
            "0.486080 with: {'batch_size': 64, 'epochs': 20, 'optimizer': 'SGD'}\n",
            "0.492640 with: {'batch_size': 64, 'epochs': 20, 'optimizer': 'RMSprop'}\n",
            "0.489260 with: {'batch_size': 64, 'epochs': 20, 'optimizer': 'Adam'}\n",
            "0.493020 with: {'batch_size': 64, 'epochs': 20, 'optimizer': 'Adamax'}\n",
            "0.492640 with: {'batch_size': 64, 'epochs': 20, 'optimizer': 'Nadam'}\n",
            "0.495460 with: {'batch_size': 128, 'epochs': 20, 'optimizer': 'SGD'}\n",
            "0.495960 with: {'batch_size': 128, 'epochs': 20, 'optimizer': 'RMSprop'}\n",
            "0.492260 with: {'batch_size': 128, 'epochs': 20, 'optimizer': 'Adam'}\n",
            "0.494960 with: {'batch_size': 128, 'epochs': 20, 'optimizer': 'Adamax'}\n",
            "0.483340 with: {'batch_size': 128, 'epochs': 20, 'optimizer': 'Nadam'}\n"
          ]
        }
      ],
      "source": [
        "print(\"Best: %f using %s\" % (grid_result.best_score_,\n",
        "                             grid_result.best_params_))\n",
        "means = grid_result.cv_results_['mean_test_score']\n",
        "params = grid_result.cv_results_['params']\n",
        "for mean, param in zip(means, params):\n",
        "  print(\"%f with: %r\" % (mean, param))"
      ]
    },
    {
      "cell_type": "markdown",
      "metadata": {},
      "source": [
        "Final model creation after grid search cv"
      ]
    },
    {
      "cell_type": "code",
      "execution_count": 51,
      "metadata": {},
      "outputs": [],
      "source": [
        "# Building a sequential model\n",
        "\n",
        "model = Sequential()\n",
        "model.add(Dense(1000, input_dim = 3072, activation = 'relu',\n",
        "                kernel_initializer = 'he_normal',\n",
        "                kernel_regularizer = regularizers.l1_l2(1e-4, 1e-2)))\n",
        "model.add(Dense(500, activation = 'relu'))\n",
        "model.add(Dense(250, activation = 'relu'))\n",
        "model.add(Dense(125, activation = 'relu'))\n",
        "model.add(Dense(60, activation = 'relu'))\n",
        "model.add(Dense(30, activation = 'relu'))\n",
        "model.add(Dropout(rate = 0.1))\n",
        "model.add(Dense(10, activation = 'softmax')) # output layer"
      ]
    },
    {
      "cell_type": "code",
      "execution_count": 52,
      "metadata": {},
      "outputs": [],
      "source": [
        "# compiling the sequential model\n",
        "model.compile(loss = 'categorical_crossentropy',\n",
        "              metrics = ['accuracy'], optimizer = 'SGD')"
      ]
    },
    {
      "cell_type": "code",
      "execution_count": 53,
      "metadata": {},
      "outputs": [],
      "source": [
        "# Callbacks\n",
        "early_stopping = EarlyStopping(monitor='val_loss', patience=10, restore_best_weights=True)\n",
        "reduce_lr = ReduceLROnPlateau(monitor='val_loss', factor=0.2, patience=5, min_lr=0.0001)"
      ]
    },
    {
      "cell_type": "code",
      "execution_count": 55,
      "metadata": {},
      "outputs": [
        {
          "name": "stdout",
          "output_type": "stream",
          "text": [
            "Epoch 1/100\n",
            "\u001b[1m1563/1563\u001b[0m \u001b[32m━━━━━━━━━━━━━━━━━━━━\u001b[0m\u001b[37m\u001b[0m \u001b[1m24s\u001b[0m 15ms/step - accuracy: 0.5632 - loss: 1.3196 - val_accuracy: 0.5345 - val_loss: 1.4016 - learning_rate: 1.0000e-04\n",
            "Epoch 2/100\n",
            "\u001b[1m1563/1563\u001b[0m \u001b[32m━━━━━━━━━━━━━━━━━━━━\u001b[0m\u001b[37m\u001b[0m \u001b[1m24s\u001b[0m 15ms/step - accuracy: 0.5582 - loss: 1.3305 - val_accuracy: 0.5360 - val_loss: 1.4012 - learning_rate: 1.0000e-04\n",
            "Epoch 3/100\n",
            "\u001b[1m1563/1563\u001b[0m \u001b[32m━━━━━━━━━━━━━━━━━━━━\u001b[0m\u001b[37m\u001b[0m \u001b[1m24s\u001b[0m 15ms/step - accuracy: 0.5624 - loss: 1.3191 - val_accuracy: 0.5377 - val_loss: 1.4027 - learning_rate: 1.0000e-04\n",
            "Epoch 4/100\n",
            "\u001b[1m1563/1563\u001b[0m \u001b[32m━━━━━━━━━━━━━━━━━━━━\u001b[0m\u001b[37m\u001b[0m \u001b[1m24s\u001b[0m 16ms/step - accuracy: 0.5587 - loss: 1.3275 - val_accuracy: 0.5342 - val_loss: 1.4024 - learning_rate: 1.0000e-04\n",
            "Epoch 5/100\n",
            "\u001b[1m1563/1563\u001b[0m \u001b[32m━━━━━━━━━━━━━━━━━━━━\u001b[0m\u001b[37m\u001b[0m \u001b[1m24s\u001b[0m 15ms/step - accuracy: 0.5603 - loss: 1.3278 - val_accuracy: 0.5327 - val_loss: 1.4047 - learning_rate: 1.0000e-04\n",
            "Epoch 6/100\n",
            "\u001b[1m1563/1563\u001b[0m \u001b[32m━━━━━━━━━━━━━━━━━━━━\u001b[0m\u001b[37m\u001b[0m \u001b[1m23s\u001b[0m 15ms/step - accuracy: 0.5636 - loss: 1.3252 - val_accuracy: 0.5355 - val_loss: 1.4011 - learning_rate: 1.0000e-04\n",
            "Epoch 7/100\n",
            "\u001b[1m1563/1563\u001b[0m \u001b[32m━━━━━━━━━━━━━━━━━━━━\u001b[0m\u001b[37m\u001b[0m \u001b[1m24s\u001b[0m 15ms/step - accuracy: 0.5609 - loss: 1.3227 - val_accuracy: 0.5355 - val_loss: 1.3990 - learning_rate: 1.0000e-04\n",
            "Epoch 8/100\n",
            "\u001b[1m1563/1563\u001b[0m \u001b[32m━━━━━━━━━━━━━━━━━━━━\u001b[0m\u001b[37m\u001b[0m \u001b[1m23s\u001b[0m 15ms/step - accuracy: 0.5655 - loss: 1.3166 - val_accuracy: 0.5351 - val_loss: 1.4033 - learning_rate: 1.0000e-04\n",
            "Epoch 9/100\n",
            "\u001b[1m1563/1563\u001b[0m \u001b[32m━━━━━━━━━━━━━━━━━━━━\u001b[0m\u001b[37m\u001b[0m \u001b[1m24s\u001b[0m 15ms/step - accuracy: 0.5673 - loss: 1.3146 - val_accuracy: 0.5333 - val_loss: 1.3999 - learning_rate: 1.0000e-04\n",
            "Epoch 10/100\n",
            "\u001b[1m1563/1563\u001b[0m \u001b[32m━━━━━━━━━━━━━━━━━━━━\u001b[0m\u001b[37m\u001b[0m \u001b[1m24s\u001b[0m 15ms/step - accuracy: 0.5672 - loss: 1.3142 - val_accuracy: 0.5337 - val_loss: 1.3967 - learning_rate: 1.0000e-04\n",
            "Epoch 11/100\n",
            "\u001b[1m1563/1563\u001b[0m \u001b[32m━━━━━━━━━━━━━━━━━━━━\u001b[0m\u001b[37m\u001b[0m \u001b[1m24s\u001b[0m 15ms/step - accuracy: 0.5626 - loss: 1.3154 - val_accuracy: 0.5364 - val_loss: 1.3973 - learning_rate: 1.0000e-04\n",
            "Epoch 12/100\n",
            "\u001b[1m1563/1563\u001b[0m \u001b[32m━━━━━━━━━━━━━━━━━━━━\u001b[0m\u001b[37m\u001b[0m \u001b[1m24s\u001b[0m 15ms/step - accuracy: 0.5621 - loss: 1.3141 - val_accuracy: 0.5368 - val_loss: 1.4019 - learning_rate: 1.0000e-04\n",
            "Epoch 13/100\n",
            "\u001b[1m1563/1563\u001b[0m \u001b[32m━━━━━━━━━━━━━━━━━━━━\u001b[0m\u001b[37m\u001b[0m \u001b[1m24s\u001b[0m 15ms/step - accuracy: 0.5680 - loss: 1.3105 - val_accuracy: 0.5373 - val_loss: 1.3978 - learning_rate: 1.0000e-04\n",
            "Epoch 14/100\n",
            "\u001b[1m1563/1563\u001b[0m \u001b[32m━━━━━━━━━━━━━━━━━━━━\u001b[0m\u001b[37m\u001b[0m \u001b[1m24s\u001b[0m 15ms/step - accuracy: 0.5648 - loss: 1.3156 - val_accuracy: 0.5364 - val_loss: 1.4012 - learning_rate: 1.0000e-04\n",
            "Epoch 15/100\n",
            "\u001b[1m1563/1563\u001b[0m \u001b[32m━━━━━━━━━━━━━━━━━━━━\u001b[0m\u001b[37m\u001b[0m \u001b[1m23s\u001b[0m 15ms/step - accuracy: 0.5661 - loss: 1.3150 - val_accuracy: 0.5398 - val_loss: 1.4006 - learning_rate: 1.0000e-04\n",
            "Epoch 16/100\n",
            "\u001b[1m1563/1563\u001b[0m \u001b[32m━━━━━━━━━━━━━━━━━━━━\u001b[0m\u001b[37m\u001b[0m \u001b[1m23s\u001b[0m 15ms/step - accuracy: 0.5617 - loss: 1.3169 - val_accuracy: 0.5356 - val_loss: 1.3999 - learning_rate: 1.0000e-04\n",
            "Epoch 17/100\n",
            "\u001b[1m1563/1563\u001b[0m \u001b[32m━━━━━━━━━━━━━━━━━━━━\u001b[0m\u001b[37m\u001b[0m \u001b[1m23s\u001b[0m 15ms/step - accuracy: 0.5653 - loss: 1.3115 - val_accuracy: 0.5324 - val_loss: 1.3976 - learning_rate: 1.0000e-04\n",
            "Epoch 18/100\n",
            "\u001b[1m1563/1563\u001b[0m \u001b[32m━━━━━━━━━━━━━━━━━━━━\u001b[0m\u001b[37m\u001b[0m \u001b[1m24s\u001b[0m 15ms/step - accuracy: 0.5638 - loss: 1.3102 - val_accuracy: 0.5353 - val_loss: 1.3979 - learning_rate: 1.0000e-04\n",
            "Epoch 19/100\n",
            "\u001b[1m1563/1563\u001b[0m \u001b[32m━━━━━━━━━━━━━━━━━━━━\u001b[0m\u001b[37m\u001b[0m \u001b[1m24s\u001b[0m 15ms/step - accuracy: 0.5660 - loss: 1.3062 - val_accuracy: 0.5358 - val_loss: 1.3963 - learning_rate: 1.0000e-04\n",
            "Epoch 20/100\n",
            "\u001b[1m1563/1563\u001b[0m \u001b[32m━━━━━━━━━━━━━━━━━━━━\u001b[0m\u001b[37m\u001b[0m \u001b[1m24s\u001b[0m 15ms/step - accuracy: 0.5680 - loss: 1.3013 - val_accuracy: 0.5349 - val_loss: 1.3985 - learning_rate: 1.0000e-04\n",
            "Epoch 21/100\n",
            "\u001b[1m1563/1563\u001b[0m \u001b[32m━━━━━━━━━━━━━━━━━━━━\u001b[0m\u001b[37m\u001b[0m \u001b[1m25s\u001b[0m 16ms/step - accuracy: 0.5623 - loss: 1.3115 - val_accuracy: 0.5335 - val_loss: 1.4022 - learning_rate: 1.0000e-04\n",
            "Epoch 22/100\n",
            "\u001b[1m1563/1563\u001b[0m \u001b[32m━━━━━━━━━━━━━━━━━━━━\u001b[0m\u001b[37m\u001b[0m \u001b[1m23s\u001b[0m 15ms/step - accuracy: 0.5653 - loss: 1.3092 - val_accuracy: 0.5369 - val_loss: 1.3966 - learning_rate: 1.0000e-04\n",
            "Epoch 23/100\n",
            "\u001b[1m1563/1563\u001b[0m \u001b[32m━━━━━━━━━━━━━━━━━━━━\u001b[0m\u001b[37m\u001b[0m \u001b[1m23s\u001b[0m 15ms/step - accuracy: 0.5702 - loss: 1.3119 - val_accuracy: 0.5344 - val_loss: 1.4027 - learning_rate: 1.0000e-04\n",
            "Epoch 24/100\n",
            "\u001b[1m1563/1563\u001b[0m \u001b[32m━━━━━━━━━━━━━━━━━━━━\u001b[0m\u001b[37m\u001b[0m \u001b[1m23s\u001b[0m 15ms/step - accuracy: 0.5642 - loss: 1.3069 - val_accuracy: 0.5345 - val_loss: 1.4044 - learning_rate: 1.0000e-04\n",
            "Epoch 25/100\n",
            "\u001b[1m1563/1563\u001b[0m \u001b[32m━━━━━━━━━━━━━━━━━━━━\u001b[0m\u001b[37m\u001b[0m \u001b[1m24s\u001b[0m 15ms/step - accuracy: 0.5646 - loss: 1.3139 - val_accuracy: 0.5357 - val_loss: 1.3984 - learning_rate: 1.0000e-04\n",
            "Epoch 26/100\n",
            "\u001b[1m1563/1563\u001b[0m \u001b[32m━━━━━━━━━━━━━━━━━━━━\u001b[0m\u001b[37m\u001b[0m \u001b[1m23s\u001b[0m 15ms/step - accuracy: 0.5643 - loss: 1.3115 - val_accuracy: 0.5370 - val_loss: 1.3966 - learning_rate: 1.0000e-04\n",
            "Epoch 27/100\n",
            "\u001b[1m1563/1563\u001b[0m \u001b[32m━━━━━━━━━━━━━━━━━━━━\u001b[0m\u001b[37m\u001b[0m \u001b[1m23s\u001b[0m 15ms/step - accuracy: 0.5692 - loss: 1.2992 - val_accuracy: 0.5322 - val_loss: 1.4000 - learning_rate: 1.0000e-04\n",
            "Epoch 28/100\n",
            "\u001b[1m1563/1563\u001b[0m \u001b[32m━━━━━━━━━━━━━━━━━━━━\u001b[0m\u001b[37m\u001b[0m \u001b[1m24s\u001b[0m 15ms/step - accuracy: 0.5693 - loss: 1.3019 - val_accuracy: 0.5327 - val_loss: 1.4043 - learning_rate: 1.0000e-04\n",
            "Epoch 29/100\n",
            "\u001b[1m1563/1563\u001b[0m \u001b[32m━━━━━━━━━━━━━━━━━━━━\u001b[0m\u001b[37m\u001b[0m \u001b[1m24s\u001b[0m 15ms/step - accuracy: 0.5665 - loss: 1.3116 - val_accuracy: 0.5373 - val_loss: 1.3966 - learning_rate: 1.0000e-04\n"
          ]
        }
      ],
      "source": [
        "# training the model for 10 epochs\n",
        "history = model.fit(X_train, Y_train, epochs = 100, batch_size = 32,\n",
        "                    validation_data = (X_test, Y_test),\n",
        "                    callbacks=[early_stopping, reduce_lr])"
      ]
    },
    {
      "cell_type": "markdown",
      "metadata": {},
      "source": [
        "### Using Keras Tuner"
      ]
    },
    {
      "cell_type": "code",
      "execution_count": 27,
      "metadata": {
        "id": "Kh_V4rMXhpTj"
      },
      "outputs": [],
      "source": [
        "import tensorflow as tf\n",
        "from tensorflow import keras\n",
        "import keras_tuner as kt"
      ]
    },
    {
      "cell_type": "code",
      "execution_count": 28,
      "metadata": {
        "id": "_5byQiE2iKha"
      },
      "outputs": [],
      "source": [
        "def build_model(hp):\n",
        "  model = Sequential()\n",
        "  model.add(Dense(1000, input_dim = 3072, activation = 'relu', \n",
        "                  kernel_initializer = 'he_normal',\n",
        "                  kernel_regularizer = regularizers.l1_l2(1e-5, 1e-3)))\n",
        "\n",
        "  # Tune the number of units in the Dense layer\n",
        "  hp_units = hp.Int('units', min_value = 30, max_value = 1000, step = 33)\n",
        "  model.add(Dense(units = hp_units, activation = 'relu'))\n",
        "  \n",
        "  hp_units = hp.Int('units', min_value = 30, max_value = 1000, step = 33)\n",
        "  model.add(Dense(units = hp_units, activation = 'relu'))\n",
        "  \n",
        "  hp_units = hp.Int('units', min_value = 30, max_value = 1000, step = 33)\n",
        "  model.add(Dense(units = hp_units, activation = 'relu'))\n",
        "\n",
        "  hp_units = hp.Int('units', min_value = 30, max_value = 1000, step = 33)\n",
        "  model.add(Dense(units = hp_units, activation = 'relu'))\n",
        "  \n",
        "  hp_units = hp.Int('units', min_value = 30, max_value = 1000, step = 33)\n",
        "  model.add(Dropout(rate = hp.Float('dropout', 0, 0.3, step = 0.1)))\n",
        "\n",
        "  model.add(Dense(10, activation = 'softmax'))\n",
        "\n",
        "  # Compile model\n",
        "  model.compile(optimizer = hp.Choice('optimizer', ['adamax', 'rmsprop']),\n",
        "                loss = 'categorical_crossentropy', metrics = ['accuracy'])\n",
        "\n",
        "  return model"
      ]
    },
    {
      "cell_type": "code",
      "execution_count": 29,
      "metadata": {
        "id": "nvHawIPnk0Y1"
      },
      "outputs": [],
      "source": [
        "tuner = kt.RandomSearch(\n",
        "    build_model,\n",
        "    objective = 'val_accuracy',\n",
        "    max_trials = 5, # number of different models to try\n",
        "    executions_per_trial = 2, # number of models to train for each trial\n",
        "    directory = 'Cifar10 tuning results', # directory to store tuner results\n",
        "    project_name = 'Cifar10 tuning' # project name\n",
        ")"
      ]
    },
    {
      "cell_type": "code",
      "execution_count": 32,
      "metadata": {
        "id": "uE4WBnw5nprL"
      },
      "outputs": [
        {
          "name": "stdout",
          "output_type": "stream",
          "text": [
            "Trial 5 Complete [00h 05m 31s]\n",
            "val_accuracy: 0.39159999787807465\n",
            "\n",
            "Best val_accuracy So Far: 0.4431999921798706\n",
            "Total elapsed time: 00h 29m 16s\n"
          ]
        }
      ],
      "source": [
        "tuner.search(X_train, Y_train, epochs = 5, batch_size = 32,\n",
        "             validation_data = (X_test, Y_test))"
      ]
    },
    {
      "cell_type": "code",
      "execution_count": 50,
      "metadata": {
        "id": "RCVxSUuCoO7Y"
      },
      "outputs": [
        {
          "name": "stderr",
          "output_type": "stream",
          "text": [
            "C:\\Users\\laric\\AppData\\Local\\Packages\\PythonSoftwareFoundation.Python.3.12_qbz5n2kfra8p0\\LocalCache\\local-packages\\Python312\\site-packages\\keras\\src\\layers\\core\\dense.py:87: UserWarning: Do not pass an `input_shape`/`input_dim` argument to a layer. When using Sequential models, prefer using an `Input(shape)` object as the first layer in the model instead.\n",
            "  super().__init__(activity_regularizer=activity_regularizer, **kwargs)\n",
            "C:\\Users\\laric\\AppData\\Local\\Packages\\PythonSoftwareFoundation.Python.3.12_qbz5n2kfra8p0\\LocalCache\\local-packages\\Python312\\site-packages\\keras\\src\\saving\\saving_lib.py:713: UserWarning: Skipping variable loading for optimizer 'adamax', because it has 2 variables whereas the saved optimizer has 26 variables. \n",
            "  saveable.load_own_variables(weights_store.get(inner_path))\n"
          ]
        },
        {
          "data": {
            "text/html": [
              "<pre style=\"white-space:pre;overflow-x:auto;line-height:normal;font-family:Menlo,'DejaVu Sans Mono',consolas,'Courier New',monospace\"><span style=\"font-weight: bold\">Model: \"sequential\"</span>\n",
              "</pre>\n"
            ],
            "text/plain": [
              "\u001b[1mModel: \"sequential\"\u001b[0m\n"
            ]
          },
          "metadata": {},
          "output_type": "display_data"
        },
        {
          "data": {
            "text/html": [
              "<pre style=\"white-space:pre;overflow-x:auto;line-height:normal;font-family:Menlo,'DejaVu Sans Mono',consolas,'Courier New',monospace\">┏━━━━━━━━━━━━━━━━━━━━━━━━━━━━━━━━━┳━━━━━━━━━━━━━━━━━━━━━━━━┳━━━━━━━━━━━━━━━┓\n",
              "┃<span style=\"font-weight: bold\"> Layer (type)                    </span>┃<span style=\"font-weight: bold\"> Output Shape           </span>┃<span style=\"font-weight: bold\">       Param # </span>┃\n",
              "┡━━━━━━━━━━━━━━━━━━━━━━━━━━━━━━━━━╇━━━━━━━━━━━━━━━━━━━━━━━━╇━━━━━━━━━━━━━━━┩\n",
              "│ dense (<span style=\"color: #0087ff; text-decoration-color: #0087ff\">Dense</span>)                   │ (<span style=\"color: #00d7ff; text-decoration-color: #00d7ff\">None</span>, <span style=\"color: #00af00; text-decoration-color: #00af00\">1000</span>)           │     <span style=\"color: #00af00; text-decoration-color: #00af00\">3,073,000</span> │\n",
              "├─────────────────────────────────┼────────────────────────┼───────────────┤\n",
              "│ dense_1 (<span style=\"color: #0087ff; text-decoration-color: #0087ff\">Dense</span>)                 │ (<span style=\"color: #00d7ff; text-decoration-color: #00d7ff\">None</span>, <span style=\"color: #00af00; text-decoration-color: #00af00\">195</span>)            │       <span style=\"color: #00af00; text-decoration-color: #00af00\">195,195</span> │\n",
              "├─────────────────────────────────┼────────────────────────┼───────────────┤\n",
              "│ dense_2 (<span style=\"color: #0087ff; text-decoration-color: #0087ff\">Dense</span>)                 │ (<span style=\"color: #00d7ff; text-decoration-color: #00d7ff\">None</span>, <span style=\"color: #00af00; text-decoration-color: #00af00\">195</span>)            │        <span style=\"color: #00af00; text-decoration-color: #00af00\">38,220</span> │\n",
              "├─────────────────────────────────┼────────────────────────┼───────────────┤\n",
              "│ dense_3 (<span style=\"color: #0087ff; text-decoration-color: #0087ff\">Dense</span>)                 │ (<span style=\"color: #00d7ff; text-decoration-color: #00d7ff\">None</span>, <span style=\"color: #00af00; text-decoration-color: #00af00\">195</span>)            │        <span style=\"color: #00af00; text-decoration-color: #00af00\">38,220</span> │\n",
              "├─────────────────────────────────┼────────────────────────┼───────────────┤\n",
              "│ dense_4 (<span style=\"color: #0087ff; text-decoration-color: #0087ff\">Dense</span>)                 │ (<span style=\"color: #00d7ff; text-decoration-color: #00d7ff\">None</span>, <span style=\"color: #00af00; text-decoration-color: #00af00\">195</span>)            │        <span style=\"color: #00af00; text-decoration-color: #00af00\">38,220</span> │\n",
              "├─────────────────────────────────┼────────────────────────┼───────────────┤\n",
              "│ dropout (<span style=\"color: #0087ff; text-decoration-color: #0087ff\">Dropout</span>)               │ (<span style=\"color: #00d7ff; text-decoration-color: #00d7ff\">None</span>, <span style=\"color: #00af00; text-decoration-color: #00af00\">195</span>)            │             <span style=\"color: #00af00; text-decoration-color: #00af00\">0</span> │\n",
              "├─────────────────────────────────┼────────────────────────┼───────────────┤\n",
              "│ dense_5 (<span style=\"color: #0087ff; text-decoration-color: #0087ff\">Dense</span>)                 │ (<span style=\"color: #00d7ff; text-decoration-color: #00d7ff\">None</span>, <span style=\"color: #00af00; text-decoration-color: #00af00\">10</span>)             │         <span style=\"color: #00af00; text-decoration-color: #00af00\">1,960</span> │\n",
              "└─────────────────────────────────┴────────────────────────┴───────────────┘\n",
              "</pre>\n"
            ],
            "text/plain": [
              "┏━━━━━━━━━━━━━━━━━━━━━━━━━━━━━━━━━┳━━━━━━━━━━━━━━━━━━━━━━━━┳━━━━━━━━━━━━━━━┓\n",
              "┃\u001b[1m \u001b[0m\u001b[1mLayer (type)                   \u001b[0m\u001b[1m \u001b[0m┃\u001b[1m \u001b[0m\u001b[1mOutput Shape          \u001b[0m\u001b[1m \u001b[0m┃\u001b[1m \u001b[0m\u001b[1m      Param #\u001b[0m\u001b[1m \u001b[0m┃\n",
              "┡━━━━━━━━━━━━━━━━━━━━━━━━━━━━━━━━━╇━━━━━━━━━━━━━━━━━━━━━━━━╇━━━━━━━━━━━━━━━┩\n",
              "│ dense (\u001b[38;5;33mDense\u001b[0m)                   │ (\u001b[38;5;45mNone\u001b[0m, \u001b[38;5;34m1000\u001b[0m)           │     \u001b[38;5;34m3,073,000\u001b[0m │\n",
              "├─────────────────────────────────┼────────────────────────┼───────────────┤\n",
              "│ dense_1 (\u001b[38;5;33mDense\u001b[0m)                 │ (\u001b[38;5;45mNone\u001b[0m, \u001b[38;5;34m195\u001b[0m)            │       \u001b[38;5;34m195,195\u001b[0m │\n",
              "├─────────────────────────────────┼────────────────────────┼───────────────┤\n",
              "│ dense_2 (\u001b[38;5;33mDense\u001b[0m)                 │ (\u001b[38;5;45mNone\u001b[0m, \u001b[38;5;34m195\u001b[0m)            │        \u001b[38;5;34m38,220\u001b[0m │\n",
              "├─────────────────────────────────┼────────────────────────┼───────────────┤\n",
              "│ dense_3 (\u001b[38;5;33mDense\u001b[0m)                 │ (\u001b[38;5;45mNone\u001b[0m, \u001b[38;5;34m195\u001b[0m)            │        \u001b[38;5;34m38,220\u001b[0m │\n",
              "├─────────────────────────────────┼────────────────────────┼───────────────┤\n",
              "│ dense_4 (\u001b[38;5;33mDense\u001b[0m)                 │ (\u001b[38;5;45mNone\u001b[0m, \u001b[38;5;34m195\u001b[0m)            │        \u001b[38;5;34m38,220\u001b[0m │\n",
              "├─────────────────────────────────┼────────────────────────┼───────────────┤\n",
              "│ dropout (\u001b[38;5;33mDropout\u001b[0m)               │ (\u001b[38;5;45mNone\u001b[0m, \u001b[38;5;34m195\u001b[0m)            │             \u001b[38;5;34m0\u001b[0m │\n",
              "├─────────────────────────────────┼────────────────────────┼───────────────┤\n",
              "│ dense_5 (\u001b[38;5;33mDense\u001b[0m)                 │ (\u001b[38;5;45mNone\u001b[0m, \u001b[38;5;34m10\u001b[0m)             │         \u001b[38;5;34m1,960\u001b[0m │\n",
              "└─────────────────────────────────┴────────────────────────┴───────────────┘\n"
            ]
          },
          "metadata": {},
          "output_type": "display_data"
        },
        {
          "data": {
            "text/html": [
              "<pre style=\"white-space:pre;overflow-x:auto;line-height:normal;font-family:Menlo,'DejaVu Sans Mono',consolas,'Courier New',monospace\"><span style=\"font-weight: bold\"> Total params: </span><span style=\"color: #00af00; text-decoration-color: #00af00\">3,384,815</span> (12.91 MB)\n",
              "</pre>\n"
            ],
            "text/plain": [
              "\u001b[1m Total params: \u001b[0m\u001b[38;5;34m3,384,815\u001b[0m (12.91 MB)\n"
            ]
          },
          "metadata": {},
          "output_type": "display_data"
        },
        {
          "data": {
            "text/html": [
              "<pre style=\"white-space:pre;overflow-x:auto;line-height:normal;font-family:Menlo,'DejaVu Sans Mono',consolas,'Courier New',monospace\"><span style=\"font-weight: bold\"> Trainable params: </span><span style=\"color: #00af00; text-decoration-color: #00af00\">3,384,815</span> (12.91 MB)\n",
              "</pre>\n"
            ],
            "text/plain": [
              "\u001b[1m Trainable params: \u001b[0m\u001b[38;5;34m3,384,815\u001b[0m (12.91 MB)\n"
            ]
          },
          "metadata": {},
          "output_type": "display_data"
        },
        {
          "data": {
            "text/html": [
              "<pre style=\"white-space:pre;overflow-x:auto;line-height:normal;font-family:Menlo,'DejaVu Sans Mono',consolas,'Courier New',monospace\"><span style=\"font-weight: bold\"> Non-trainable params: </span><span style=\"color: #00af00; text-decoration-color: #00af00\">0</span> (0.00 B)\n",
              "</pre>\n"
            ],
            "text/plain": [
              "\u001b[1m Non-trainable params: \u001b[0m\u001b[38;5;34m0\u001b[0m (0.00 B)\n"
            ]
          },
          "metadata": {},
          "output_type": "display_data"
        },
        {
          "name": "stdout",
          "output_type": "stream",
          "text": [
            "None\n",
            "Best hyperparameters:  {'units': 195, 'dropout': 0.1, 'optimizer': 'adamax'}\n"
          ]
        }
      ],
      "source": [
        "# Get the best hyperparameters\n",
        "best_hps = tuner.get_best_hyperparameters(num_trials = 1)[0]\n",
        "# Get best model:\n",
        "best_model = tuner.get_best_models(num_models = 1)[0]\n",
        "# Print the best model\n",
        "print(best_model.summary())\n",
        "print('Best hyperparameters: ', best_hps.values)"
      ]
    },
    {
      "cell_type": "code",
      "execution_count": 64,
      "metadata": {},
      "outputs": [],
      "source": [
        "# Building a sequential model\n",
        "\n",
        "model = Sequential()\n",
        "model.add(Dense(1000, input_dim = 3072, activation = 'relu',\n",
        "                kernel_initializer = 'he_normal',\n",
        "                kernel_regularizer = regularizers.l1_l2(1e-2, 1e-2)))\n",
        "model.add(Dense(195, activation = 'relu'))\n",
        "model.add(Dense(195, activation = 'relu'))\n",
        "model.add(Dense(195, activation = 'relu'))\n",
        "model.add(Dense(195, activation = 'relu'))\n",
        "model.add(Dense(195, activation = 'relu'))\n",
        "model.add(Dropout(rate = 0.1))\n",
        "model.add(Dense(10, activation = 'softmax')) # output layer"
      ]
    },
    {
      "cell_type": "code",
      "execution_count": 65,
      "metadata": {},
      "outputs": [],
      "source": [
        "# compiling the sequential model\n",
        "model.compile(loss = 'categorical_crossentropy',\n",
        "              metrics = ['accuracy'], optimizer = 'adamax')"
      ]
    },
    {
      "cell_type": "code",
      "execution_count": 66,
      "metadata": {},
      "outputs": [],
      "source": [
        "# Callbacks\n",
        "early_stopping = EarlyStopping(monitor='val_loss', patience=10, restore_best_weights=True)\n",
        "reduce_lr = ReduceLROnPlateau(monitor='val_loss', factor=0.2, patience=5, min_lr=0.0001)"
      ]
    },
    {
      "cell_type": "code",
      "execution_count": null,
      "metadata": {},
      "outputs": [],
      "source": [
        "# training the model for 10 epochs\n",
        "history = model.fit(X_train, Y_train, epochs = 100, batch_size = 128,\n",
        "                    validation_data = (X_test, Y_test),\n",
        "                    callbacks=[early_stopping, reduce_lr])"
      ]
    },
    {
      "cell_type": "markdown",
      "metadata": {},
      "source": [
        "### The most balanced model across all is:\n",
        "accuracy: 0.6794 - loss: 1.0034 - val_accuracy: 0.5583 - val_loss: 1.3730 - learning_rate: 1.0000e-04\n",
        "\n",
        "Below are just the small experimentations"
      ]
    },
    {
      "cell_type": "code",
      "execution_count": 181,
      "metadata": {},
      "outputs": [],
      "source": [
        "from keras.layers import Dropout, BatchNormalization\n",
        "from keras import regularizers\n",
        "from keras.callbacks import EarlyStopping, ReduceLROnPlateau\n",
        "import numpy as np\n",
        "import random\n",
        "\n",
        "# Set the seed for reproducibility\n",
        "seed = 42\n",
        "random.seed(seed)\n",
        "np.random.seed(seed)\n",
        "tf.random.set_seed(seed)\n",
        "\n",
        "# Building a sequential model\n",
        "\n",
        "model = Sequential()\n",
        "model.add(Dense(1000, input_dim = 3072, activation = 'relu',\n",
        "                kernel_initializer = 'he_normal',\n",
        "                kernel_regularizer = regularizers.l1_l2(1e-4, 1e-4)))\n",
        "model.add(Dense(500, activation = 'relu'))\n",
        "model.add(Dense(500, activation = 'relu'))\n",
        "model.add(Dense(500, activation = 'relu'))\n",
        "model.add(Dense(250, activation = 'relu'))\n",
        "model.add(Dense(100, activation = LeakyReLU(alpha = 0.01)))\n",
        "model.add(Dropout(rate = 0.1))\n",
        "model.add(Dense(10, activation = 'softmax')) # output layer"
      ]
    },
    {
      "cell_type": "code",
      "execution_count": 182,
      "metadata": {},
      "outputs": [],
      "source": [
        "# compiling the sequential model\n",
        "model.compile(loss = 'categorical_crossentropy',\n",
        "              metrics = ['accuracy'], optimizer = 'adamax')"
      ]
    },
    {
      "cell_type": "code",
      "execution_count": 183,
      "metadata": {},
      "outputs": [],
      "source": [
        "# Callbacks\n",
        "early_stopping = EarlyStopping(monitor='val_loss', patience=10, restore_best_weights=True)\n",
        "reduce_lr = ReduceLROnPlateau(monitor='val_loss', factor=0.2, patience=5, min_lr=0.0001)"
      ]
    },
    {
      "cell_type": "code",
      "execution_count": 184,
      "metadata": {},
      "outputs": [
        {
          "name": "stdout",
          "output_type": "stream",
          "text": [
            "Epoch 1/100\n",
            "\u001b[1m391/391\u001b[0m \u001b[32m━━━━━━━━━━━━━━━━━━━━\u001b[0m\u001b[37m\u001b[0m \u001b[1m14s\u001b[0m 32ms/step - accuracy: 0.2433 - loss: 5.7147 - val_accuracy: 0.3244 - val_loss: 3.0010 - learning_rate: 0.0010\n",
            "Epoch 2/100\n",
            "\u001b[1m391/391\u001b[0m \u001b[32m━━━━━━━━━━━━━━━━━━━━\u001b[0m\u001b[37m\u001b[0m \u001b[1m13s\u001b[0m 33ms/step - accuracy: 0.3452 - loss: 2.7393 - val_accuracy: 0.3937 - val_loss: 2.2423 - learning_rate: 0.0010\n",
            "Epoch 3/100\n",
            "\u001b[1m391/391\u001b[0m \u001b[32m━━━━━━━━━━━━━━━━━━━━\u001b[0m\u001b[37m\u001b[0m \u001b[1m13s\u001b[0m 33ms/step - accuracy: 0.3718 - loss: 2.2181 - val_accuracy: 0.3909 - val_loss: 2.0495 - learning_rate: 0.0010\n",
            "Epoch 4/100\n",
            "\u001b[1m391/391\u001b[0m \u001b[32m━━━━━━━━━━━━━━━━━━━━\u001b[0m\u001b[37m\u001b[0m \u001b[1m13s\u001b[0m 33ms/step - accuracy: 0.3848 - loss: 2.0289 - val_accuracy: 0.4232 - val_loss: 1.9242 - learning_rate: 0.0010\n",
            "Epoch 5/100\n",
            "\u001b[1m391/391\u001b[0m \u001b[32m━━━━━━━━━━━━━━━━━━━━\u001b[0m\u001b[37m\u001b[0m \u001b[1m12s\u001b[0m 31ms/step - accuracy: 0.4078 - loss: 1.9052 - val_accuracy: 0.4375 - val_loss: 1.8187 - learning_rate: 0.0010\n",
            "Epoch 6/100\n",
            "\u001b[1m391/391\u001b[0m \u001b[32m━━━━━━━━━━━━━━━━━━━━\u001b[0m\u001b[37m\u001b[0m \u001b[1m12s\u001b[0m 31ms/step - accuracy: 0.4181 - loss: 1.8314 - val_accuracy: 0.4237 - val_loss: 1.8194 - learning_rate: 0.0010\n",
            "Epoch 7/100\n",
            "\u001b[1m391/391\u001b[0m \u001b[32m━━━━━━━━━━━━━━━━━━━━\u001b[0m\u001b[37m\u001b[0m \u001b[1m12s\u001b[0m 30ms/step - accuracy: 0.4315 - loss: 1.7766 - val_accuracy: 0.4371 - val_loss: 1.7666 - learning_rate: 0.0010\n",
            "Epoch 8/100\n",
            "\u001b[1m391/391\u001b[0m \u001b[32m━━━━━━━━━━━━━━━━━━━━\u001b[0m\u001b[37m\u001b[0m \u001b[1m12s\u001b[0m 30ms/step - accuracy: 0.4428 - loss: 1.7238 - val_accuracy: 0.4405 - val_loss: 1.7462 - learning_rate: 0.0010\n",
            "Epoch 9/100\n",
            "\u001b[1m391/391\u001b[0m \u001b[32m━━━━━━━━━━━━━━━━━━━━\u001b[0m\u001b[37m\u001b[0m \u001b[1m12s\u001b[0m 30ms/step - accuracy: 0.4551 - loss: 1.6783 - val_accuracy: 0.4490 - val_loss: 1.7037 - learning_rate: 0.0010\n",
            "Epoch 10/100\n",
            "\u001b[1m391/391\u001b[0m \u001b[32m━━━━━━━━━━━━━━━━━━━━\u001b[0m\u001b[37m\u001b[0m \u001b[1m12s\u001b[0m 30ms/step - accuracy: 0.4632 - loss: 1.6506 - val_accuracy: 0.4460 - val_loss: 1.6908 - learning_rate: 0.0010\n",
            "Epoch 11/100\n",
            "\u001b[1m391/391\u001b[0m \u001b[32m━━━━━━━━━━━━━━━━━━━━\u001b[0m\u001b[37m\u001b[0m \u001b[1m12s\u001b[0m 30ms/step - accuracy: 0.4705 - loss: 1.6214 - val_accuracy: 0.4557 - val_loss: 1.6644 - learning_rate: 0.0010\n",
            "Epoch 12/100\n",
            "\u001b[1m391/391\u001b[0m \u001b[32m━━━━━━━━━━━━━━━━━━━━\u001b[0m\u001b[37m\u001b[0m \u001b[1m12s\u001b[0m 30ms/step - accuracy: 0.4798 - loss: 1.5947 - val_accuracy: 0.4637 - val_loss: 1.6442 - learning_rate: 0.0010\n",
            "Epoch 13/100\n",
            "\u001b[1m391/391\u001b[0m \u001b[32m━━━━━━━━━━━━━━━━━━━━\u001b[0m\u001b[37m\u001b[0m \u001b[1m12s\u001b[0m 30ms/step - accuracy: 0.4868 - loss: 1.5714 - val_accuracy: 0.4727 - val_loss: 1.6323 - learning_rate: 0.0010\n",
            "Epoch 14/100\n",
            "\u001b[1m391/391\u001b[0m \u001b[32m━━━━━━━━━━━━━━━━━━━━\u001b[0m\u001b[37m\u001b[0m \u001b[1m12s\u001b[0m 30ms/step - accuracy: 0.4960 - loss: 1.5416 - val_accuracy: 0.4779 - val_loss: 1.6047 - learning_rate: 0.0010\n",
            "Epoch 15/100\n",
            "\u001b[1m391/391\u001b[0m \u001b[32m━━━━━━━━━━━━━━━━━━━━\u001b[0m\u001b[37m\u001b[0m \u001b[1m12s\u001b[0m 30ms/step - accuracy: 0.5007 - loss: 1.5280 - val_accuracy: 0.4798 - val_loss: 1.6059 - learning_rate: 0.0010\n",
            "Epoch 16/100\n",
            "\u001b[1m391/391\u001b[0m \u001b[32m━━━━━━━━━━━━━━━━━━━━\u001b[0m\u001b[37m\u001b[0m \u001b[1m12s\u001b[0m 30ms/step - accuracy: 0.5077 - loss: 1.5097 - val_accuracy: 0.4884 - val_loss: 1.5828 - learning_rate: 0.0010\n",
            "Epoch 17/100\n",
            "\u001b[1m391/391\u001b[0m \u001b[32m━━━━━━━━━━━━━━━━━━━━\u001b[0m\u001b[37m\u001b[0m \u001b[1m12s\u001b[0m 30ms/step - accuracy: 0.5139 - loss: 1.4885 - val_accuracy: 0.4967 - val_loss: 1.5612 - learning_rate: 0.0010\n",
            "Epoch 18/100\n",
            "\u001b[1m391/391\u001b[0m \u001b[32m━━━━━━━━━━━━━━━━━━━━\u001b[0m\u001b[37m\u001b[0m \u001b[1m12s\u001b[0m 31ms/step - accuracy: 0.5262 - loss: 1.4625 - val_accuracy: 0.4886 - val_loss: 1.5754 - learning_rate: 0.0010\n",
            "Epoch 19/100\n",
            "\u001b[1m391/391\u001b[0m \u001b[32m━━━━━━━━━━━━━━━━━━━━\u001b[0m\u001b[37m\u001b[0m \u001b[1m12s\u001b[0m 31ms/step - accuracy: 0.5311 - loss: 1.4536 - val_accuracy: 0.4922 - val_loss: 1.5673 - learning_rate: 0.0010\n",
            "Epoch 20/100\n",
            "\u001b[1m391/391\u001b[0m \u001b[32m━━━━━━━━━━━━━━━━━━━━\u001b[0m\u001b[37m\u001b[0m \u001b[1m12s\u001b[0m 30ms/step - accuracy: 0.5310 - loss: 1.4500 - val_accuracy: 0.4957 - val_loss: 1.5622 - learning_rate: 0.0010\n",
            "Epoch 21/100\n",
            "\u001b[1m391/391\u001b[0m \u001b[32m━━━━━━━━━━━━━━━━━━━━\u001b[0m\u001b[37m\u001b[0m \u001b[1m12s\u001b[0m 30ms/step - accuracy: 0.5395 - loss: 1.4292 - val_accuracy: 0.4799 - val_loss: 1.6154 - learning_rate: 0.0010\n",
            "Epoch 22/100\n",
            "\u001b[1m391/391\u001b[0m \u001b[32m━━━━━━━━━━━━━━━━━━━━\u001b[0m\u001b[37m\u001b[0m \u001b[1m12s\u001b[0m 31ms/step - accuracy: 0.5396 - loss: 1.4281 - val_accuracy: 0.4791 - val_loss: 1.6064 - learning_rate: 0.0010\n",
            "Epoch 23/100\n",
            "\u001b[1m391/391\u001b[0m \u001b[32m━━━━━━━━━━━━━━━━━━━━\u001b[0m\u001b[37m\u001b[0m \u001b[1m13s\u001b[0m 34ms/step - accuracy: 0.5666 - loss: 1.3408 - val_accuracy: 0.5149 - val_loss: 1.5065 - learning_rate: 2.0000e-04\n",
            "Epoch 24/100\n",
            "\u001b[1m391/391\u001b[0m \u001b[32m━━━━━━━━━━━━━━━━━━━━\u001b[0m\u001b[37m\u001b[0m \u001b[1m13s\u001b[0m 34ms/step - accuracy: 0.5820 - loss: 1.2942 - val_accuracy: 0.5170 - val_loss: 1.5067 - learning_rate: 2.0000e-04\n",
            "Epoch 25/100\n",
            "\u001b[1m391/391\u001b[0m \u001b[32m━━━━━━━━━━━━━━━━━━━━\u001b[0m\u001b[37m\u001b[0m \u001b[1m14s\u001b[0m 35ms/step - accuracy: 0.5885 - loss: 1.2722 - val_accuracy: 0.5172 - val_loss: 1.5102 - learning_rate: 2.0000e-04\n",
            "Epoch 26/100\n",
            "\u001b[1m391/391\u001b[0m \u001b[32m━━━━━━━━━━━━━━━━━━━━\u001b[0m\u001b[37m\u001b[0m \u001b[1m14s\u001b[0m 35ms/step - accuracy: 0.5931 - loss: 1.2570 - val_accuracy: 0.5196 - val_loss: 1.5050 - learning_rate: 2.0000e-04\n",
            "Epoch 27/100\n",
            "\u001b[1m391/391\u001b[0m \u001b[32m━━━━━━━━━━━━━━━━━━━━\u001b[0m\u001b[37m\u001b[0m \u001b[1m12s\u001b[0m 32ms/step - accuracy: 0.6012 - loss: 1.2418 - val_accuracy: 0.5211 - val_loss: 1.5114 - learning_rate: 2.0000e-04\n",
            "Epoch 28/100\n",
            "\u001b[1m391/391\u001b[0m \u001b[32m━━━━━━━━━━━━━━━━━━━━\u001b[0m\u001b[37m\u001b[0m \u001b[1m12s\u001b[0m 31ms/step - accuracy: 0.6061 - loss: 1.2273 - val_accuracy: 0.5207 - val_loss: 1.5124 - learning_rate: 2.0000e-04\n",
            "Epoch 29/100\n",
            "\u001b[1m391/391\u001b[0m \u001b[32m━━━━━━━━━━━━━━━━━━━━\u001b[0m\u001b[37m\u001b[0m \u001b[1m12s\u001b[0m 30ms/step - accuracy: 0.6107 - loss: 1.2144 - val_accuracy: 0.5236 - val_loss: 1.5158 - learning_rate: 2.0000e-04\n",
            "Epoch 30/100\n",
            "\u001b[1m391/391\u001b[0m \u001b[32m━━━━━━━━━━━━━━━━━━━━\u001b[0m\u001b[37m\u001b[0m \u001b[1m12s\u001b[0m 30ms/step - accuracy: 0.6180 - loss: 1.2002 - val_accuracy: 0.5228 - val_loss: 1.5154 - learning_rate: 2.0000e-04\n",
            "Epoch 31/100\n",
            "\u001b[1m391/391\u001b[0m \u001b[32m━━━━━━━━━━━━━━━━━━━━\u001b[0m\u001b[37m\u001b[0m \u001b[1m12s\u001b[0m 31ms/step - accuracy: 0.6208 - loss: 1.1850 - val_accuracy: 0.5241 - val_loss: 1.5163 - learning_rate: 2.0000e-04\n",
            "Epoch 32/100\n",
            "\u001b[1m391/391\u001b[0m \u001b[32m━━━━━━━━━━━━━━━━━━━━\u001b[0m\u001b[37m\u001b[0m \u001b[1m12s\u001b[0m 31ms/step - accuracy: 0.6247 - loss: 1.1773 - val_accuracy: 0.5293 - val_loss: 1.4821 - learning_rate: 1.0000e-04\n",
            "Epoch 33/100\n",
            "\u001b[1m391/391\u001b[0m \u001b[32m━━━━━━━━━━━━━━━━━━━━\u001b[0m\u001b[37m\u001b[0m \u001b[1m12s\u001b[0m 30ms/step - accuracy: 0.6271 - loss: 1.1653 - val_accuracy: 0.5319 - val_loss: 1.4827 - learning_rate: 1.0000e-04\n",
            "Epoch 34/100\n",
            "\u001b[1m391/391\u001b[0m \u001b[32m━━━━━━━━━━━━━━━━━━━━\u001b[0m\u001b[37m\u001b[0m \u001b[1m12s\u001b[0m 30ms/step - accuracy: 0.6325 - loss: 1.1559 - val_accuracy: 0.5293 - val_loss: 1.4843 - learning_rate: 1.0000e-04\n",
            "Epoch 35/100\n",
            "\u001b[1m391/391\u001b[0m \u001b[32m━━━━━━━━━━━━━━━━━━━━\u001b[0m\u001b[37m\u001b[0m \u001b[1m12s\u001b[0m 30ms/step - accuracy: 0.6372 - loss: 1.1459 - val_accuracy: 0.5319 - val_loss: 1.4896 - learning_rate: 1.0000e-04\n",
            "Epoch 36/100\n",
            "\u001b[1m391/391\u001b[0m \u001b[32m━━━━━━━━━━━━━━━━━━━━\u001b[0m\u001b[37m\u001b[0m \u001b[1m12s\u001b[0m 30ms/step - accuracy: 0.6352 - loss: 1.1375 - val_accuracy: 0.5325 - val_loss: 1.4907 - learning_rate: 1.0000e-04\n",
            "Epoch 37/100\n",
            "\u001b[1m391/391\u001b[0m \u001b[32m━━━━━━━━━━━━━━━━━━━━\u001b[0m\u001b[37m\u001b[0m \u001b[1m12s\u001b[0m 31ms/step - accuracy: 0.6400 - loss: 1.1288 - val_accuracy: 0.5334 - val_loss: 1.4911 - learning_rate: 1.0000e-04\n",
            "Epoch 38/100\n",
            "\u001b[1m391/391\u001b[0m \u001b[32m━━━━━━━━━━━━━━━━━━━━\u001b[0m\u001b[37m\u001b[0m \u001b[1m12s\u001b[0m 30ms/step - accuracy: 0.6445 - loss: 1.1203 - val_accuracy: 0.5317 - val_loss: 1.4970 - learning_rate: 1.0000e-04\n",
            "Epoch 39/100\n",
            "\u001b[1m391/391\u001b[0m \u001b[32m━━━━━━━━━━━━━━━━━━━━\u001b[0m\u001b[37m\u001b[0m \u001b[1m12s\u001b[0m 30ms/step - accuracy: 0.6466 - loss: 1.1152 - val_accuracy: 0.5335 - val_loss: 1.4977 - learning_rate: 1.0000e-04\n",
            "Epoch 40/100\n",
            "\u001b[1m391/391\u001b[0m \u001b[32m━━━━━━━━━━━━━━━━━━━━\u001b[0m\u001b[37m\u001b[0m \u001b[1m12s\u001b[0m 30ms/step - accuracy: 0.6494 - loss: 1.1054 - val_accuracy: 0.5326 - val_loss: 1.4992 - learning_rate: 1.0000e-04\n",
            "Epoch 41/100\n",
            "\u001b[1m391/391\u001b[0m \u001b[32m━━━━━━━━━━━━━━━━━━━━\u001b[0m\u001b[37m\u001b[0m \u001b[1m12s\u001b[0m 30ms/step - accuracy: 0.6517 - loss: 1.0993 - val_accuracy: 0.5341 - val_loss: 1.5040 - learning_rate: 1.0000e-04\n",
            "Epoch 42/100\n",
            "\u001b[1m391/391\u001b[0m \u001b[32m━━━━━━━━━━━━━━━━━━━━\u001b[0m\u001b[37m\u001b[0m \u001b[1m12s\u001b[0m 30ms/step - accuracy: 0.6549 - loss: 1.0902 - val_accuracy: 0.5334 - val_loss: 1.5046 - learning_rate: 1.0000e-04\n"
          ]
        }
      ],
      "source": [
        "# training the model for 10 epochs\n",
        "history = model.fit(X_train, Y_train, epochs = 100, batch_size = 128,\n",
        "                    validation_data = (X_test, Y_test),\n",
        "                    callbacks=[early_stopping, reduce_lr])"
      ]
    },
    {
      "cell_type": "code",
      "execution_count": null,
      "metadata": {},
      "outputs": [],
      "source": [
        "# accuracy: 0.3657 - loss: 1.8248 - val_accuracy: 0.3605 - val_loss: 1.8224 - learning_rate: 0.0010 - swish\n",
        "# accuracy: 0.3879 - loss: 1.7672 - val_accuracy: 0.3786 - val_loss: 1.7741 - learning_rate: 0.0010 - relu\n",
        "# accuracy: 0.3898 - loss: 1.7480 - val_accuracy: 0.4008 - val_loss: 1.7486 - learning_rate: 0.0010 - droprate 0.1\n",
        "# accuracy: 0.4587 - loss: 1.6540 - val_accuracy: 0.4394 - val_loss: 1.7148 - learning_rate: 0.0010 - lr 0.0001 0.0001\n",
        "# accuracy: 0.4632 - loss: 1.6506 - val_accuracy: 0.4460 - val_loss: 1.6908 - learning_rate: 0.0010 - changed relu to leakyrelu 0.01 in pred last layer"
      ]
    }
  ],
  "metadata": {
    "colab": {
      "provenance": []
    },
    "kernelspec": {
      "display_name": "Python 3",
      "name": "python3"
    },
    "language_info": {
      "codemirror_mode": {
        "name": "ipython",
        "version": 3
      },
      "file_extension": ".py",
      "mimetype": "text/x-python",
      "name": "python",
      "nbconvert_exporter": "python",
      "pygments_lexer": "ipython3",
      "version": "3.12.5"
    }
  },
  "nbformat": 4,
  "nbformat_minor": 0
}
